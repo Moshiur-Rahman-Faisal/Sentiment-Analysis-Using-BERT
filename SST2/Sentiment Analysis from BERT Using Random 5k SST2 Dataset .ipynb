{
 "cells": [
  {
   "cell_type": "code",
   "execution_count": 1,
   "id": "d32533c5",
   "metadata": {},
   "outputs": [],
   "source": [
    "import pandas as pd\n",
    "import numpy as np\n",
    "\n",
    "import ktrain\n",
    "from ktrain import text\n"
   ]
  },
  {
   "cell_type": "code",
   "execution_count": 2,
   "id": "bba016ba",
   "metadata": {
    "scrolled": true
   },
   "outputs": [],
   "source": [
    "data_train = pd.read_csv('train.csv',index_col=False, encoding='iso-8859-1', \n",
    "                                warn_bad_lines=True, error_bad_lines=False)\n",
    "data_test = pd.read_csv('test.csv',index_col=False, encoding='iso-8859-1', \n",
    "                                warn_bad_lines=True, error_bad_lines=False)"
   ]
  },
  {
   "cell_type": "code",
   "execution_count": 3,
   "id": "976f9256",
   "metadata": {},
   "outputs": [],
   "source": [
    "frames = [data_train, data_test]\n",
    "\n",
    "df1 = pd.concat(frames)\n",
    "df2 = pd.concat(frames)"
   ]
  },
  {
   "cell_type": "code",
   "execution_count": 4,
   "id": "dab215f6",
   "metadata": {
    "scrolled": true
   },
   "outputs": [
    {
     "data": {
      "text/html": [
       "<div>\n",
       "<style scoped>\n",
       "    .dataframe tbody tr th:only-of-type {\n",
       "        vertical-align: middle;\n",
       "    }\n",
       "\n",
       "    .dataframe tbody tr th {\n",
       "        vertical-align: top;\n",
       "    }\n",
       "\n",
       "    .dataframe thead th {\n",
       "        text-align: right;\n",
       "    }\n",
       "</style>\n",
       "<table border=\"1\" class=\"dataframe\">\n",
       "  <thead>\n",
       "    <tr style=\"text-align: right;\">\n",
       "      <th></th>\n",
       "      <th>label</th>\n",
       "      <th>content</th>\n",
       "    </tr>\n",
       "  </thead>\n",
       "  <tbody>\n",
       "    <tr>\n",
       "      <th>0</th>\n",
       "      <td>0</td>\n",
       "      <td>hide new secretions from the parental units</td>\n",
       "    </tr>\n",
       "    <tr>\n",
       "      <th>1</th>\n",
       "      <td>0</td>\n",
       "      <td>contains no wit , only labored gags</td>\n",
       "    </tr>\n",
       "    <tr>\n",
       "      <th>2</th>\n",
       "      <td>1</td>\n",
       "      <td>that loves its characters and communicates som...</td>\n",
       "    </tr>\n",
       "    <tr>\n",
       "      <th>3</th>\n",
       "      <td>0</td>\n",
       "      <td>remains utterly satisfied to remain the same t...</td>\n",
       "    </tr>\n",
       "    <tr>\n",
       "      <th>4</th>\n",
       "      <td>0</td>\n",
       "      <td>on the worst revenge-of-the-nerds clich??s the...</td>\n",
       "    </tr>\n",
       "  </tbody>\n",
       "</table>\n",
       "</div>"
      ],
      "text/plain": [
       "   label                                            content\n",
       "0      0        hide new secretions from the parental units\n",
       "1      0                contains no wit , only labored gags\n",
       "2      1  that loves its characters and communicates som...\n",
       "3      0  remains utterly satisfied to remain the same t...\n",
       "4      0  on the worst revenge-of-the-nerds clich??s the..."
      ]
     },
     "execution_count": 4,
     "metadata": {},
     "output_type": "execute_result"
    }
   ],
   "source": [
    "df1.head()"
   ]
  },
  {
   "cell_type": "code",
   "execution_count": 5,
   "id": "ea0a652e",
   "metadata": {
    "scrolled": true
   },
   "outputs": [
    {
     "name": "stderr",
     "output_type": "stream",
     "text": [
      "C:\\Users\\moshi\\AppData\\Local\\Temp/ipykernel_17172/3095182692.py:1: SettingWithCopyWarning: \n",
      "A value is trying to be set on a copy of a slice from a DataFrame\n",
      "\n",
      "See the caveats in the documentation: https://pandas.pydata.org/pandas-docs/stable/user_guide/indexing.html#returning-a-view-versus-a-copy\n",
      "  df1.label[df1.label == 1]=\"positive\"\n"
     ]
    }
   ],
   "source": [
    "df1.label[df1.label == 1]=\"positive\"\n",
    "df1.label[df1.label == 0]=\"negative\""
   ]
  },
  {
   "cell_type": "code",
   "execution_count": 6,
   "id": "27058f86",
   "metadata": {},
   "outputs": [
    {
     "name": "stderr",
     "output_type": "stream",
     "text": [
      "C:\\Users\\moshi\\AppData\\Local\\Temp/ipykernel_17172/2454078664.py:1: SettingWithCopyWarning: \n",
      "A value is trying to be set on a copy of a slice from a DataFrame\n",
      "\n",
      "See the caveats in the documentation: https://pandas.pydata.org/pandas-docs/stable/user_guide/indexing.html#returning-a-view-versus-a-copy\n",
      "  df2.label[df2.label == 1]=\"positive\"\n"
     ]
    }
   ],
   "source": [
    "df2.label[df2.label == 1]=\"positive\"\n",
    "df2.label[df2.label == 0]=\"negative\""
   ]
  },
  {
   "cell_type": "code",
   "execution_count": 7,
   "id": "6228f226",
   "metadata": {},
   "outputs": [
    {
     "data": {
      "text/html": [
       "<div>\n",
       "<style scoped>\n",
       "    .dataframe tbody tr th:only-of-type {\n",
       "        vertical-align: middle;\n",
       "    }\n",
       "\n",
       "    .dataframe tbody tr th {\n",
       "        vertical-align: top;\n",
       "    }\n",
       "\n",
       "    .dataframe thead th {\n",
       "        text-align: right;\n",
       "    }\n",
       "</style>\n",
       "<table border=\"1\" class=\"dataframe\">\n",
       "  <thead>\n",
       "    <tr style=\"text-align: right;\">\n",
       "      <th></th>\n",
       "      <th>label</th>\n",
       "      <th>content</th>\n",
       "    </tr>\n",
       "  </thead>\n",
       "  <tbody>\n",
       "    <tr>\n",
       "      <th>0</th>\n",
       "      <td>negative</td>\n",
       "      <td>hide new secretions from the parental units</td>\n",
       "    </tr>\n",
       "    <tr>\n",
       "      <th>1</th>\n",
       "      <td>negative</td>\n",
       "      <td>contains no wit , only labored gags</td>\n",
       "    </tr>\n",
       "    <tr>\n",
       "      <th>2</th>\n",
       "      <td>positive</td>\n",
       "      <td>that loves its characters and communicates som...</td>\n",
       "    </tr>\n",
       "    <tr>\n",
       "      <th>3</th>\n",
       "      <td>negative</td>\n",
       "      <td>remains utterly satisfied to remain the same t...</td>\n",
       "    </tr>\n",
       "    <tr>\n",
       "      <th>4</th>\n",
       "      <td>negative</td>\n",
       "      <td>on the worst revenge-of-the-nerds clich??s the...</td>\n",
       "    </tr>\n",
       "  </tbody>\n",
       "</table>\n",
       "</div>"
      ],
      "text/plain": [
       "      label                                            content\n",
       "0  negative        hide new secretions from the parental units\n",
       "1  negative                contains no wit , only labored gags\n",
       "2  positive  that loves its characters and communicates som...\n",
       "3  negative  remains utterly satisfied to remain the same t...\n",
       "4  negative  on the worst revenge-of-the-nerds clich??s the..."
      ]
     },
     "execution_count": 7,
     "metadata": {},
     "output_type": "execute_result"
    }
   ],
   "source": [
    "df1.head()"
   ]
  },
  {
   "cell_type": "code",
   "execution_count": 8,
   "id": "4de0bb59",
   "metadata": {},
   "outputs": [],
   "source": [
    "# taking negative sentiment and deleting positive\n",
    "df1 = df1[~df1.label.str.contains(\"positive\")]"
   ]
  },
  {
   "cell_type": "code",
   "execution_count": 9,
   "id": "9a979e73",
   "metadata": {},
   "outputs": [
    {
     "data": {
      "text/html": [
       "<div>\n",
       "<style scoped>\n",
       "    .dataframe tbody tr th:only-of-type {\n",
       "        vertical-align: middle;\n",
       "    }\n",
       "\n",
       "    .dataframe tbody tr th {\n",
       "        vertical-align: top;\n",
       "    }\n",
       "\n",
       "    .dataframe thead th {\n",
       "        text-align: right;\n",
       "    }\n",
       "</style>\n",
       "<table border=\"1\" class=\"dataframe\">\n",
       "  <thead>\n",
       "    <tr style=\"text-align: right;\">\n",
       "      <th></th>\n",
       "      <th>label</th>\n",
       "      <th>content</th>\n",
       "    </tr>\n",
       "  </thead>\n",
       "  <tbody>\n",
       "    <tr>\n",
       "      <th>0</th>\n",
       "      <td>negative</td>\n",
       "      <td>hide new secretions from the parental units</td>\n",
       "    </tr>\n",
       "    <tr>\n",
       "      <th>1</th>\n",
       "      <td>negative</td>\n",
       "      <td>contains no wit , only labored gags</td>\n",
       "    </tr>\n",
       "    <tr>\n",
       "      <th>3</th>\n",
       "      <td>negative</td>\n",
       "      <td>remains utterly satisfied to remain the same t...</td>\n",
       "    </tr>\n",
       "    <tr>\n",
       "      <th>4</th>\n",
       "      <td>negative</td>\n",
       "      <td>on the worst revenge-of-the-nerds clich??s the...</td>\n",
       "    </tr>\n",
       "    <tr>\n",
       "      <th>5</th>\n",
       "      <td>negative</td>\n",
       "      <td>that 's far too tragic to merit such superfici...</td>\n",
       "    </tr>\n",
       "  </tbody>\n",
       "</table>\n",
       "</div>"
      ],
      "text/plain": [
       "      label                                            content\n",
       "0  negative        hide new secretions from the parental units\n",
       "1  negative                contains no wit , only labored gags\n",
       "3  negative  remains utterly satisfied to remain the same t...\n",
       "4  negative  on the worst revenge-of-the-nerds clich??s the...\n",
       "5  negative  that 's far too tragic to merit such superfici..."
      ]
     },
     "execution_count": 9,
     "metadata": {},
     "output_type": "execute_result"
    }
   ],
   "source": [
    "df1.head()"
   ]
  },
  {
   "cell_type": "code",
   "execution_count": 10,
   "id": "aff8516e",
   "metadata": {},
   "outputs": [],
   "source": [
    "# randomly picking 2500 rows\n",
    "df1 = df1.sample(n=2500, replace=True)"
   ]
  },
  {
   "cell_type": "code",
   "execution_count": 11,
   "id": "66af2d96",
   "metadata": {},
   "outputs": [
    {
     "data": {
      "text/plain": [
       "negative    2500\n",
       "Name: label, dtype: int64"
      ]
     },
     "execution_count": 11,
     "metadata": {},
     "output_type": "execute_result"
    }
   ],
   "source": [
    "df1[\"label\"].value_counts()"
   ]
  },
  {
   "cell_type": "code",
   "execution_count": 12,
   "id": "4ee8f799",
   "metadata": {},
   "outputs": [],
   "source": [
    "#taking positive senitment and deleting negative\n",
    "df2 = df2[~df2.label.str.contains(\"negative\")]"
   ]
  },
  {
   "cell_type": "code",
   "execution_count": 13,
   "id": "08f417de",
   "metadata": {},
   "outputs": [
    {
     "data": {
      "text/html": [
       "<div>\n",
       "<style scoped>\n",
       "    .dataframe tbody tr th:only-of-type {\n",
       "        vertical-align: middle;\n",
       "    }\n",
       "\n",
       "    .dataframe tbody tr th {\n",
       "        vertical-align: top;\n",
       "    }\n",
       "\n",
       "    .dataframe thead th {\n",
       "        text-align: right;\n",
       "    }\n",
       "</style>\n",
       "<table border=\"1\" class=\"dataframe\">\n",
       "  <thead>\n",
       "    <tr style=\"text-align: right;\">\n",
       "      <th></th>\n",
       "      <th>label</th>\n",
       "      <th>content</th>\n",
       "    </tr>\n",
       "  </thead>\n",
       "  <tbody>\n",
       "    <tr>\n",
       "      <th>2</th>\n",
       "      <td>positive</td>\n",
       "      <td>that loves its characters and communicates som...</td>\n",
       "    </tr>\n",
       "    <tr>\n",
       "      <th>6</th>\n",
       "      <td>positive</td>\n",
       "      <td>demonstrates that the director of such hollywo...</td>\n",
       "    </tr>\n",
       "    <tr>\n",
       "      <th>7</th>\n",
       "      <td>positive</td>\n",
       "      <td>of saucy</td>\n",
       "    </tr>\n",
       "    <tr>\n",
       "      <th>9</th>\n",
       "      <td>positive</td>\n",
       "      <td>are more deeply thought through than in most `...</td>\n",
       "    </tr>\n",
       "    <tr>\n",
       "      <th>15</th>\n",
       "      <td>positive</td>\n",
       "      <td>the greatest musicians</td>\n",
       "    </tr>\n",
       "  </tbody>\n",
       "</table>\n",
       "</div>"
      ],
      "text/plain": [
       "       label                                            content\n",
       "2   positive  that loves its characters and communicates som...\n",
       "6   positive  demonstrates that the director of such hollywo...\n",
       "7   positive                                           of saucy\n",
       "9   positive  are more deeply thought through than in most `...\n",
       "15  positive                             the greatest musicians"
      ]
     },
     "execution_count": 13,
     "metadata": {},
     "output_type": "execute_result"
    }
   ],
   "source": [
    "df2.head()"
   ]
  },
  {
   "cell_type": "code",
   "execution_count": 14,
   "id": "da48b322",
   "metadata": {},
   "outputs": [],
   "source": [
    "# randomly picking 2500 rows\n",
    "df2 = df2.sample(n=2500, replace=True)"
   ]
  },
  {
   "cell_type": "code",
   "execution_count": 15,
   "id": "1fb7df2c",
   "metadata": {},
   "outputs": [
    {
     "data": {
      "text/plain": [
       "positive    2500\n",
       "Name: label, dtype: int64"
      ]
     },
     "execution_count": 15,
     "metadata": {},
     "output_type": "execute_result"
    }
   ],
   "source": [
    "df2[\"label\"].value_counts()"
   ]
  },
  {
   "cell_type": "code",
   "execution_count": 16,
   "id": "79952f91",
   "metadata": {},
   "outputs": [],
   "source": [
    "#concating positive and negative sentiment\n",
    "frames = [df1, df2]\n",
    "\n",
    "df = pd.concat(frames)"
   ]
  },
  {
   "cell_type": "code",
   "execution_count": 17,
   "id": "48fa62a2",
   "metadata": {},
   "outputs": [
    {
     "data": {
      "text/html": [
       "<div>\n",
       "<style scoped>\n",
       "    .dataframe tbody tr th:only-of-type {\n",
       "        vertical-align: middle;\n",
       "    }\n",
       "\n",
       "    .dataframe tbody tr th {\n",
       "        vertical-align: top;\n",
       "    }\n",
       "\n",
       "    .dataframe thead th {\n",
       "        text-align: right;\n",
       "    }\n",
       "</style>\n",
       "<table border=\"1\" class=\"dataframe\">\n",
       "  <thead>\n",
       "    <tr style=\"text-align: right;\">\n",
       "      <th></th>\n",
       "      <th>label</th>\n",
       "      <th>content</th>\n",
       "    </tr>\n",
       "  </thead>\n",
       "  <tbody>\n",
       "    <tr>\n",
       "      <th>20232</th>\n",
       "      <td>negative</td>\n",
       "      <td>works better in the conception than it does in...</td>\n",
       "    </tr>\n",
       "    <tr>\n",
       "      <th>6478</th>\n",
       "      <td>negative</td>\n",
       "      <td>return to neverland manages to straddle the li...</td>\n",
       "    </tr>\n",
       "    <tr>\n",
       "      <th>16043</th>\n",
       "      <td>negative</td>\n",
       "      <td>while hollywood ending has its share of belly ...</td>\n",
       "    </tr>\n",
       "    <tr>\n",
       "      <th>44654</th>\n",
       "      <td>negative</td>\n",
       "      <td>kaufman and gondry rarely seem sure of where i...</td>\n",
       "    </tr>\n",
       "    <tr>\n",
       "      <th>51649</th>\n",
       "      <td>negative</td>\n",
       "      <td>all too familiar</td>\n",
       "    </tr>\n",
       "  </tbody>\n",
       "</table>\n",
       "</div>"
      ],
      "text/plain": [
       "          label                                            content\n",
       "20232  negative  works better in the conception than it does in...\n",
       "6478   negative  return to neverland manages to straddle the li...\n",
       "16043  negative  while hollywood ending has its share of belly ...\n",
       "44654  negative  kaufman and gondry rarely seem sure of where i...\n",
       "51649  negative                                   all too familiar"
      ]
     },
     "execution_count": 17,
     "metadata": {},
     "output_type": "execute_result"
    }
   ],
   "source": [
    "df.head()"
   ]
  },
  {
   "cell_type": "code",
   "execution_count": 18,
   "id": "624c514a",
   "metadata": {},
   "outputs": [
    {
     "data": {
      "text/plain": [
       "negative    2500\n",
       "positive    2500\n",
       "Name: label, dtype: int64"
      ]
     },
     "execution_count": 18,
     "metadata": {},
     "output_type": "execute_result"
    }
   ],
   "source": [
    "df[\"label\"].value_counts()"
   ]
  },
  {
   "cell_type": "code",
   "execution_count": 19,
   "id": "eb43ccff",
   "metadata": {},
   "outputs": [],
   "source": [
    "class_names = ['positive', 'negative']"
   ]
  },
  {
   "cell_type": "code",
   "execution_count": 20,
   "id": "7f2e7c02",
   "metadata": {},
   "outputs": [],
   "source": [
    "# replacing positive sentiment with 1 and negative with 0\n",
    "encoding = {\n",
    "    \n",
    "    'positive': 1,\n",
    "    'negative': 0\n",
    "}"
   ]
  },
  {
   "cell_type": "code",
   "execution_count": 21,
   "id": "49603606",
   "metadata": {},
   "outputs": [],
   "source": [
    "content = df['content'].values.tolist()\n",
    "label = df['label'].tolist()"
   ]
  },
  {
   "cell_type": "code",
   "execution_count": 22,
   "id": "aec88756",
   "metadata": {},
   "outputs": [],
   "source": [
    "from sklearn.model_selection import train_test_split\n",
    "X_train, X_test, y_train, y_test = train_test_split(content, label, test_size=.2)"
   ]
  },
  {
   "cell_type": "code",
   "execution_count": 23,
   "id": "aa0e9820",
   "metadata": {},
   "outputs": [],
   "source": [
    "y_train = [encoding[x] for x in y_train]\n",
    "y_test = [encoding[x] for x in y_test]"
   ]
  },
  {
   "cell_type": "code",
   "execution_count": 24,
   "id": "48714aa4",
   "metadata": {
    "scrolled": true
   },
   "outputs": [
    {
     "name": "stdout",
     "output_type": "stream",
     "text": [
      "preprocessing train...\n",
      "language: en\n"
     ]
    },
    {
     "data": {
      "text/html": [
       "done."
      ],
      "text/plain": [
       "<IPython.core.display.HTML object>"
      ]
     },
     "metadata": {},
     "output_type": "display_data"
    },
    {
     "name": "stdout",
     "output_type": "stream",
     "text": [
      "Is Multi-Label? False\n",
      "preprocessing test...\n",
      "language: en\n"
     ]
    },
    {
     "data": {
      "text/html": [
       "done."
      ],
      "text/plain": [
       "<IPython.core.display.HTML object>"
      ]
     },
     "metadata": {},
     "output_type": "display_data"
    },
    {
     "name": "stdout",
     "output_type": "stream",
     "text": [
      "task: text classification\n"
     ]
    }
   ],
   "source": [
    "(x_train,  y_train), (x_test, y_test), preproc = text.texts_from_array(x_train=X_train, y_train=y_train,\n",
    "                                                                       x_test=X_test, y_test=y_test,\n",
    "                                                                       class_names=class_names,\n",
    "                                                                       preprocess_mode='bert',\n",
    "                                                                       maxlen=350, \n",
    "                                                                       max_features=35000)"
   ]
  },
  {
   "cell_type": "code",
   "execution_count": 25,
   "id": "b3355e63",
   "metadata": {},
   "outputs": [
    {
     "name": "stdout",
     "output_type": "stream",
     "text": [
      "Is Multi-Label? False\n",
      "maxlen is 350\n",
      "done.\n"
     ]
    }
   ],
   "source": [
    "model = text.text_classifier('bert', train_data=(x_train, y_train), preproc=preproc)"
   ]
  },
  {
   "cell_type": "code",
   "execution_count": 26,
   "id": "0f3b0cf8",
   "metadata": {},
   "outputs": [],
   "source": [
    "learner2 = ktrain.get_learner(model, train_data=(x_train, y_train), \n",
    "                             val_data=(x_test, y_test),\n",
    "                             batch_size=6)"
   ]
  },
  {
   "cell_type": "code",
   "execution_count": 27,
   "id": "85a153e0",
   "metadata": {},
   "outputs": [
    {
     "name": "stdout",
     "output_type": "stream",
     "text": [
      "\n",
      "\n",
      "begin training using onecycle policy with max lr of 2e-05...\n",
      "Epoch 1/3\n",
      "667/667 [==============================] - 4638s 7s/step - loss: 0.4066 - accuracy: 0.8123 - val_loss: 0.2447 - val_accuracy: 0.9040\n",
      "Epoch 2/3\n",
      "667/667 [==============================] - 4645s 7s/step - loss: 0.1973 - accuracy: 0.9230 - val_loss: 0.2228 - val_accuracy: 0.9120\n",
      "Epoch 3/3\n",
      "667/667 [==============================] - 4602s 7s/step - loss: 0.0624 - accuracy: 0.9822 - val_loss: 0.2528 - val_accuracy: 0.9190\n"
     ]
    },
    {
     "data": {
      "text/plain": [
       "<tensorflow.python.keras.callbacks.History at 0x1d0338d7430>"
      ]
     },
     "execution_count": 27,
     "metadata": {},
     "output_type": "execute_result"
    }
   ],
   "source": [
    "learner2.fit_onecycle(2e-5, 3)"
   ]
  },
  {
   "cell_type": "code",
   "execution_count": 28,
   "id": "f386df8e",
   "metadata": {},
   "outputs": [
    {
     "name": "stdout",
     "output_type": "stream",
     "text": [
      "              precision    recall  f1-score   support\n",
      "\n",
      "    positive       0.91      0.93      0.92       513\n",
      "    negative       0.93      0.90      0.92       487\n",
      "\n",
      "    accuracy                           0.92      1000\n",
      "   macro avg       0.92      0.92      0.92      1000\n",
      "weighted avg       0.92      0.92      0.92      1000\n",
      "\n"
     ]
    },
    {
     "data": {
      "text/plain": [
       "array([[479,  34],\n",
       "       [ 47, 440]], dtype=int64)"
      ]
     },
     "execution_count": 28,
     "metadata": {},
     "output_type": "execute_result"
    }
   ],
   "source": [
    "learner2.validate(val_data=(x_test, y_test), class_names=class_names)"
   ]
  },
  {
   "cell_type": "code",
   "execution_count": null,
   "id": "6283c28a",
   "metadata": {},
   "outputs": [],
   "source": []
  }
 ],
 "metadata": {
  "kernelspec": {
   "display_name": "Python 3 (ipykernel)",
   "language": "python",
   "name": "python3"
  },
  "language_info": {
   "codemirror_mode": {
    "name": "ipython",
    "version": 3
   },
   "file_extension": ".py",
   "mimetype": "text/x-python",
   "name": "python",
   "nbconvert_exporter": "python",
   "pygments_lexer": "ipython3",
   "version": "3.8.12"
  }
 },
 "nbformat": 4,
 "nbformat_minor": 5
}
