{
 "cells": [
  {
   "cell_type": "code",
   "execution_count": 1,
   "id": "059175d0",
   "metadata": {},
   "outputs": [],
   "source": [
    "import pandas as pd\n",
    "import numpy as np"
   ]
  },
  {
   "cell_type": "code",
   "execution_count": 2,
   "id": "ff8f9de3",
   "metadata": {},
   "outputs": [],
   "source": [
    "df = pd.read_csv(\"data_full.csv\")"
   ]
  },
  {
   "cell_type": "code",
   "execution_count": 3,
   "id": "8d1f9a61",
   "metadata": {
    "scrolled": true
   },
   "outputs": [
    {
     "data": {
      "text/plain": [
       "(15000, 12)"
      ]
     },
     "execution_count": 3,
     "metadata": {},
     "output_type": "execute_result"
    }
   ],
   "source": [
    "df.shape"
   ]
  },
  {
   "cell_type": "code",
   "execution_count": 4,
   "id": "43ec4c50",
   "metadata": {
    "scrolled": true
   },
   "outputs": [
    {
     "data": {
      "text/html": [
       "<div>\n",
       "<style scoped>\n",
       "    .dataframe tbody tr th:only-of-type {\n",
       "        vertical-align: middle;\n",
       "    }\n",
       "\n",
       "    .dataframe tbody tr th {\n",
       "        vertical-align: top;\n",
       "    }\n",
       "\n",
       "    .dataframe thead th {\n",
       "        text-align: right;\n",
       "    }\n",
       "</style>\n",
       "<table border=\"1\" class=\"dataframe\">\n",
       "  <thead>\n",
       "    <tr style=\"text-align: right;\">\n",
       "      <th></th>\n",
       "      <th>oos_val/0</th>\n",
       "      <th>oos_val/1</th>\n",
       "      <th>val/0</th>\n",
       "      <th>val/1</th>\n",
       "      <th>train/0</th>\n",
       "      <th>train/1</th>\n",
       "      <th>oos_test/0</th>\n",
       "      <th>oos_test/1</th>\n",
       "      <th>test/0</th>\n",
       "      <th>test/1</th>\n",
       "      <th>oos_train/0</th>\n",
       "      <th>oos_train/1</th>\n",
       "    </tr>\n",
       "  </thead>\n",
       "  <tbody>\n",
       "    <tr>\n",
       "      <th>0</th>\n",
       "      <td>set a warning for when my bank account starts ...</td>\n",
       "      <td>oos</td>\n",
       "      <td>in spanish, meet me tomorrow is said how</td>\n",
       "      <td>translate</td>\n",
       "      <td>what expression would i use to say i love you ...</td>\n",
       "      <td>translate</td>\n",
       "      <td>how much has the dow changed today</td>\n",
       "      <td>oos</td>\n",
       "      <td>how would you say fly in italian</td>\n",
       "      <td>translate</td>\n",
       "      <td>how much is an overdraft fee for bank</td>\n",
       "      <td>oos</td>\n",
       "    </tr>\n",
       "    <tr>\n",
       "      <th>1</th>\n",
       "      <td>a show on broadway</td>\n",
       "      <td>oos</td>\n",
       "      <td>in french, how do i say, see you later</td>\n",
       "      <td>translate</td>\n",
       "      <td>can you tell me how to say 'i do not speak muc...</td>\n",
       "      <td>translate</td>\n",
       "      <td>how many prime numbers are there between 0 and...</td>\n",
       "      <td>oos</td>\n",
       "      <td>what's the spanish word for pasta</td>\n",
       "      <td>translate</td>\n",
       "      <td>why are exponents preformed before multiplicat...</td>\n",
       "      <td>oos</td>\n",
       "    </tr>\n",
       "    <tr>\n",
       "      <th>2</th>\n",
       "      <td>who has the best record in the nfl</td>\n",
       "      <td>oos</td>\n",
       "      <td>how do you say hello in japanese</td>\n",
       "      <td>translate</td>\n",
       "      <td>what is the equivalent of, 'life is good' in f...</td>\n",
       "      <td>translate</td>\n",
       "      <td>can you tell me how to solve simple algebraic ...</td>\n",
       "      <td>oos</td>\n",
       "      <td>how would they say butter in zambia</td>\n",
       "      <td>translate</td>\n",
       "      <td>what size wipers does this car take</td>\n",
       "      <td>oos</td>\n",
       "    </tr>\n",
       "    <tr>\n",
       "      <th>3</th>\n",
       "      <td>how do i find the area of a circle</td>\n",
       "      <td>oos</td>\n",
       "      <td>how do i ask about the weather in chinese</td>\n",
       "      <td>translate</td>\n",
       "      <td>tell me how to say, 'it is a beautiful morning...</td>\n",
       "      <td>translate</td>\n",
       "      <td>can you dim the brightness of my screen</td>\n",
       "      <td>oos</td>\n",
       "      <td>how do you say fast in spanish</td>\n",
       "      <td>translate</td>\n",
       "      <td>where is the dipstick</td>\n",
       "      <td>oos</td>\n",
       "    </tr>\n",
       "    <tr>\n",
       "      <th>4</th>\n",
       "      <td>how many onions do i have on hand</td>\n",
       "      <td>oos</td>\n",
       "      <td>how can i say \"cancel my order\" in french</td>\n",
       "      <td>translate</td>\n",
       "      <td>if i were mongolian, how would i say that i am...</td>\n",
       "      <td>translate</td>\n",
       "      <td>what is the account number to the internet ser...</td>\n",
       "      <td>oos</td>\n",
       "      <td>what's the word for trees in norway</td>\n",
       "      <td>translate</td>\n",
       "      <td>how much is 1 share of aapl</td>\n",
       "      <td>oos</td>\n",
       "    </tr>\n",
       "  </tbody>\n",
       "</table>\n",
       "</div>"
      ],
      "text/plain": [
       "                                           oos_val/0 oos_val/1  \\\n",
       "0  set a warning for when my bank account starts ...       oos   \n",
       "1                                 a show on broadway       oos   \n",
       "2                 who has the best record in the nfl       oos   \n",
       "3                 how do i find the area of a circle       oos   \n",
       "4                  how many onions do i have on hand       oos   \n",
       "\n",
       "                                       val/0      val/1  \\\n",
       "0   in spanish, meet me tomorrow is said how  translate   \n",
       "1     in french, how do i say, see you later  translate   \n",
       "2           how do you say hello in japanese  translate   \n",
       "3  how do i ask about the weather in chinese  translate   \n",
       "4  how can i say \"cancel my order\" in french  translate   \n",
       "\n",
       "                                             train/0    train/1  \\\n",
       "0  what expression would i use to say i love you ...  translate   \n",
       "1  can you tell me how to say 'i do not speak muc...  translate   \n",
       "2  what is the equivalent of, 'life is good' in f...  translate   \n",
       "3  tell me how to say, 'it is a beautiful morning...  translate   \n",
       "4  if i were mongolian, how would i say that i am...  translate   \n",
       "\n",
       "                                          oos_test/0 oos_test/1  \\\n",
       "0                 how much has the dow changed today        oos   \n",
       "1  how many prime numbers are there between 0 and...        oos   \n",
       "2  can you tell me how to solve simple algebraic ...        oos   \n",
       "3            can you dim the brightness of my screen        oos   \n",
       "4  what is the account number to the internet ser...        oos   \n",
       "\n",
       "                                test/0     test/1  \\\n",
       "0     how would you say fly in italian  translate   \n",
       "1    what's the spanish word for pasta  translate   \n",
       "2  how would they say butter in zambia  translate   \n",
       "3       how do you say fast in spanish  translate   \n",
       "4  what's the word for trees in norway  translate   \n",
       "\n",
       "                                         oos_train/0 oos_train/1  \n",
       "0              how much is an overdraft fee for bank         oos  \n",
       "1  why are exponents preformed before multiplicat...         oos  \n",
       "2                what size wipers does this car take         oos  \n",
       "3                              where is the dipstick         oos  \n",
       "4                        how much is 1 share of aapl         oos  "
      ]
     },
     "execution_count": 4,
     "metadata": {},
     "output_type": "execute_result"
    }
   ],
   "source": [
    "df.head()"
   ]
  },
  {
   "cell_type": "code",
   "execution_count": 5,
   "id": "34c449d2",
   "metadata": {},
   "outputs": [],
   "source": [
    "from matplotlib import pyplot as plt\n",
    "import seaborn as sns\n",
    "import math"
   ]
  },
  {
   "cell_type": "code",
   "execution_count": 6,
   "id": "7229cf67",
   "metadata": {
    "scrolled": true
   },
   "outputs": [
    {
     "data": {
      "text/plain": [
       "oos_val/0      14900\n",
       "oos_val/1      14900\n",
       "val/0          12000\n",
       "val/1          12000\n",
       "train/0            0\n",
       "train/1            0\n",
       "oos_test/0     14000\n",
       "oos_test/1     14000\n",
       "test/0         10500\n",
       "test/1         10500\n",
       "oos_train/0    14900\n",
       "oos_train/1    14900\n",
       "dtype: int64"
      ]
     },
     "execution_count": 6,
     "metadata": {},
     "output_type": "execute_result"
    }
   ],
   "source": [
    "df.isna().sum()"
   ]
  },
  {
   "cell_type": "code",
   "execution_count": 7,
   "id": "55ba578d",
   "metadata": {},
   "outputs": [
    {
     "data": {
      "text/plain": [
       "(15000, 12)"
      ]
     },
     "execution_count": 7,
     "metadata": {},
     "output_type": "execute_result"
    }
   ],
   "source": [
    "df.shape"
   ]
  },
  {
   "cell_type": "code",
   "execution_count": 8,
   "id": "7d803506",
   "metadata": {
    "scrolled": false
   },
   "outputs": [
    {
     "name": "stdout",
     "output_type": "stream",
     "text": [
      "<class 'pandas.core.frame.DataFrame'>\n",
      "RangeIndex: 15000 entries, 0 to 14999\n",
      "Data columns (total 12 columns):\n",
      " #   Column       Non-Null Count  Dtype \n",
      "---  ------       --------------  ----- \n",
      " 0   oos_val/0    100 non-null    object\n",
      " 1   oos_val/1    100 non-null    object\n",
      " 2   val/0        3000 non-null   object\n",
      " 3   val/1        3000 non-null   object\n",
      " 4   train/0      15000 non-null  object\n",
      " 5   train/1      15000 non-null  object\n",
      " 6   oos_test/0   1000 non-null   object\n",
      " 7   oos_test/1   1000 non-null   object\n",
      " 8   test/0       4500 non-null   object\n",
      " 9   test/1       4500 non-null   object\n",
      " 10  oos_train/0  100 non-null    object\n",
      " 11  oos_train/1  100 non-null    object\n",
      "dtypes: object(12)\n",
      "memory usage: 1.4+ MB\n"
     ]
    }
   ],
   "source": [
    "df.info()"
   ]
  },
  {
   "cell_type": "code",
   "execution_count": 9,
   "id": "68e3ce18",
   "metadata": {
    "scrolled": false
   },
   "outputs": [
    {
     "data": {
      "text/html": [
       "<div>\n",
       "<style scoped>\n",
       "    .dataframe tbody tr th:only-of-type {\n",
       "        vertical-align: middle;\n",
       "    }\n",
       "\n",
       "    .dataframe tbody tr th {\n",
       "        vertical-align: top;\n",
       "    }\n",
       "\n",
       "    .dataframe thead th {\n",
       "        text-align: right;\n",
       "    }\n",
       "</style>\n",
       "<table border=\"1\" class=\"dataframe\">\n",
       "  <thead>\n",
       "    <tr style=\"text-align: right;\">\n",
       "      <th></th>\n",
       "      <th>oos_val/0</th>\n",
       "      <th>oos_val/1</th>\n",
       "      <th>val/0</th>\n",
       "      <th>val/1</th>\n",
       "      <th>train/0</th>\n",
       "      <th>train/1</th>\n",
       "      <th>oos_test/0</th>\n",
       "      <th>oos_test/1</th>\n",
       "      <th>test/0</th>\n",
       "      <th>test/1</th>\n",
       "      <th>oos_train/0</th>\n",
       "      <th>oos_train/1</th>\n",
       "    </tr>\n",
       "  </thead>\n",
       "  <tbody>\n",
       "    <tr>\n",
       "      <th>14995</th>\n",
       "      <td>NaN</td>\n",
       "      <td>NaN</td>\n",
       "      <td>NaN</td>\n",
       "      <td>NaN</td>\n",
       "      <td>can you explain why my card was declined</td>\n",
       "      <td>card_declined</td>\n",
       "      <td>NaN</td>\n",
       "      <td>NaN</td>\n",
       "      <td>NaN</td>\n",
       "      <td>NaN</td>\n",
       "      <td>NaN</td>\n",
       "      <td>NaN</td>\n",
       "    </tr>\n",
       "    <tr>\n",
       "      <th>14996</th>\n",
       "      <td>NaN</td>\n",
       "      <td>NaN</td>\n",
       "      <td>NaN</td>\n",
       "      <td>NaN</td>\n",
       "      <td>how come starbucks declined my card when i tri...</td>\n",
       "      <td>card_declined</td>\n",
       "      <td>NaN</td>\n",
       "      <td>NaN</td>\n",
       "      <td>NaN</td>\n",
       "      <td>NaN</td>\n",
       "      <td>NaN</td>\n",
       "      <td>NaN</td>\n",
       "    </tr>\n",
       "    <tr>\n",
       "      <th>14997</th>\n",
       "      <td>NaN</td>\n",
       "      <td>NaN</td>\n",
       "      <td>NaN</td>\n",
       "      <td>NaN</td>\n",
       "      <td>how come my card was not accepted yesterday</td>\n",
       "      <td>card_declined</td>\n",
       "      <td>NaN</td>\n",
       "      <td>NaN</td>\n",
       "      <td>NaN</td>\n",
       "      <td>NaN</td>\n",
       "      <td>NaN</td>\n",
       "      <td>NaN</td>\n",
       "    </tr>\n",
       "    <tr>\n",
       "      <th>14998</th>\n",
       "      <td>NaN</td>\n",
       "      <td>NaN</td>\n",
       "      <td>NaN</td>\n",
       "      <td>NaN</td>\n",
       "      <td>find out what happened to make my card get dec...</td>\n",
       "      <td>card_declined</td>\n",
       "      <td>NaN</td>\n",
       "      <td>NaN</td>\n",
       "      <td>NaN</td>\n",
       "      <td>NaN</td>\n",
       "      <td>NaN</td>\n",
       "      <td>NaN</td>\n",
       "    </tr>\n",
       "    <tr>\n",
       "      <th>14999</th>\n",
       "      <td>NaN</td>\n",
       "      <td>NaN</td>\n",
       "      <td>NaN</td>\n",
       "      <td>NaN</td>\n",
       "      <td>why was my card declined at safeway</td>\n",
       "      <td>card_declined</td>\n",
       "      <td>NaN</td>\n",
       "      <td>NaN</td>\n",
       "      <td>NaN</td>\n",
       "      <td>NaN</td>\n",
       "      <td>NaN</td>\n",
       "      <td>NaN</td>\n",
       "    </tr>\n",
       "  </tbody>\n",
       "</table>\n",
       "</div>"
      ],
      "text/plain": [
       "      oos_val/0 oos_val/1 val/0 val/1  \\\n",
       "14995       NaN       NaN   NaN   NaN   \n",
       "14996       NaN       NaN   NaN   NaN   \n",
       "14997       NaN       NaN   NaN   NaN   \n",
       "14998       NaN       NaN   NaN   NaN   \n",
       "14999       NaN       NaN   NaN   NaN   \n",
       "\n",
       "                                                 train/0        train/1  \\\n",
       "14995           can you explain why my card was declined  card_declined   \n",
       "14996  how come starbucks declined my card when i tri...  card_declined   \n",
       "14997        how come my card was not accepted yesterday  card_declined   \n",
       "14998  find out what happened to make my card get dec...  card_declined   \n",
       "14999                why was my card declined at safeway  card_declined   \n",
       "\n",
       "      oos_test/0 oos_test/1 test/0 test/1 oos_train/0 oos_train/1  \n",
       "14995        NaN        NaN    NaN    NaN         NaN         NaN  \n",
       "14996        NaN        NaN    NaN    NaN         NaN         NaN  \n",
       "14997        NaN        NaN    NaN    NaN         NaN         NaN  \n",
       "14998        NaN        NaN    NaN    NaN         NaN         NaN  \n",
       "14999        NaN        NaN    NaN    NaN         NaN         NaN  "
      ]
     },
     "execution_count": 9,
     "metadata": {},
     "output_type": "execute_result"
    }
   ],
   "source": [
    "df.tail()"
   ]
  },
  {
   "cell_type": "code",
   "execution_count": 15,
   "id": "189debd3",
   "metadata": {
    "scrolled": true
   },
   "outputs": [
    {
     "data": {
      "text/plain": [
       "<AxesSubplot:xlabel='age_year', ylabel='Count'>"
      ]
     },
     "execution_count": 15,
     "metadata": {},
     "output_type": "execute_result"
    },
    {
     "data": {
      "image/png": "[encoded data removed]",
      "text/plain": [
       "<Figure size 432x288 with 1 Axes>"
      ]
     },
     "metadata": {
      "needs_background": "light"
     },
     "output_type": "display_data"
    }
   ],
   "source": [
    "sns.histplot(x=\"age_year\",data=df, hue=\"SARS-CoV-2 Positive\")"
   ]
  },
  {
   "cell_type": "code",
   "execution_count": 16,
   "id": "5605bce6",
   "metadata": {
    "scrolled": false
   },
   "outputs": [
    {
     "data": {
      "image/png": "[encoded data removed]",
      "text/plain": [
       "<Figure size 432x288 with 1 Axes>"
      ]
     },
     "metadata": {
      "needs_background": "light"
     },
     "output_type": "display_data"
    }
   ],
   "source": [
    "sns.countplot(x=\"gender\", data=df);"
   ]
  },
  {
   "cell_type": "code",
   "execution_count": 17,
   "id": "270b451f",
   "metadata": {
    "scrolled": true
   },
   "outputs": [
    {
     "data": {
      "image/png": "[encoded data removed]",
      "text/plain": [
       "<Figure size 432x288 with 1 Axes>"
      ]
     },
     "metadata": {
      "needs_background": "light"
     },
     "output_type": "display_data"
    }
   ],
   "source": [
    "sns.kdeplot(x=\"age_year\", data=df, shade = True, color =\"blue\");"
   ]
  },
  {
   "cell_type": "code",
   "execution_count": 18,
   "id": "6287c7aa",
   "metadata": {
    "scrolled": true
   },
   "outputs": [
    {
     "data": {
      "image/png": "[encoded data removed]",
      "text/plain": [
       "<Figure size 432x288 with 1 Axes>"
      ]
     },
     "metadata": {
      "needs_background": "light"
     },
     "output_type": "display_data"
    }
   ],
   "source": [
    "sns.countplot(x=\"SARS-CoV-2 Positive\", data=df);"
   ]
  },
  {
   "cell_type": "code",
   "execution_count": 19,
   "id": "bc7e9e98",
   "metadata": {
    "scrolled": true
   },
   "outputs": [
    {
     "data": {
      "image/png": "[encoded data removed]",
      "text/plain": [
       "<Figure size 432x288 with 1 Axes>"
      ]
     },
     "metadata": {
      "needs_background": "light"
     },
     "output_type": "display_data"
    }
   ],
   "source": [
    "sns.boxplot(x=\"SARS-CoV-2 Positive\",y=\"age_year\", data=df);\n"
   ]
  },
  {
   "cell_type": "code",
   "execution_count": 20,
   "id": "9bef1fcb",
   "metadata": {
    "scrolled": true
   },
   "outputs": [
    {
     "data": {
      "text/plain": [
       "gender\n",
       "1    3367\n",
       "0    3145\n",
       "dtype: int64"
      ]
     },
     "execution_count": 20,
     "metadata": {},
     "output_type": "execute_result"
    }
   ],
   "source": [
    "df.value_counts(\"gender\")"
   ]
  },
  {
   "cell_type": "code",
   "execution_count": 21,
   "id": "6a852214",
   "metadata": {
    "scrolled": false
   },
   "outputs": [
    {
     "data": {
      "text/plain": [
       "SARS-CoV-2 Positive\n",
       "0    4940\n",
       "1    1572\n",
       "dtype: int64"
      ]
     },
     "execution_count": 21,
     "metadata": {},
     "output_type": "execute_result"
    }
   ],
   "source": [
    "df.value_counts(\"SARS-CoV-2 Positive\")"
   ]
  },
  {
   "cell_type": "code",
   "execution_count": 22,
   "id": "25dbe9d2",
   "metadata": {},
   "outputs": [],
   "source": [
    "import scipy\n",
    "import sklearn\n",
    "from sklearn.metrics import classification_report, accuracy_score\n",
    "from collections import Counter"
   ]
  },
  {
   "cell_type": "code",
   "execution_count": 23,
   "id": "8f4cd752",
   "metadata": {
    "scrolled": true
   },
   "outputs": [
    {
     "data": {
      "text/plain": [
       "(6512, 12)"
      ]
     },
     "execution_count": 23,
     "metadata": {},
     "output_type": "execute_result"
    }
   ],
   "source": [
    "df.shape"
   ]
  },
  {
   "cell_type": "code",
   "execution_count": 24,
   "id": "7a41a77d",
   "metadata": {
    "scrolled": true
   },
   "outputs": [
    {
     "data": {
      "text/plain": [
       "Index(['gender', 'age_year', 'fever', 'cough', 'runny_nose', 'muscle_soreness',\n",
       "       'pneumonia', 'diarrhea', 'lung_infection', 'travel_history',\n",
       "       'isolation_treatment', 'SARS-CoV-2 Positive'],\n",
       "      dtype='object')"
      ]
     },
     "execution_count": 24,
     "metadata": {},
     "output_type": "execute_result"
    }
   ],
   "source": [
    "df.columns"
   ]
  },
  {
   "cell_type": "code",
   "execution_count": 25,
   "id": "7daa563f",
   "metadata": {},
   "outputs": [
    {
     "name": "stdout",
     "output_type": "stream",
     "text": [
      "(6512, 11)\n",
      "(6512,)\n"
     ]
    }
   ],
   "source": [
    "#Create independent and Dependent Features\n",
    "columns = df.columns.tolist()\n",
    "# Filter the columns to remove data we do not want \n",
    "columns = [c for c in columns if c not in [\"SARS-CoV-2 Positive\"]]\n",
    "# Store the variable we are predicting \n",
    "target = \"SARS-CoV-2 Positive\"\n",
    "# Define a random state \n",
    "state = np.random.RandomState(42)\n",
    "X = df[columns]\n",
    "Y = df[target]\n",
    "X_outliers = state.uniform(low=0, high=1, size=(X.shape[0], X.shape[1]))\n",
    "# Print the shapes of X & Y\n",
    "print(X.shape)\n",
    "print(Y.shape)"
   ]
  },
  {
   "cell_type": "code",
   "execution_count": 26,
   "id": "353d3930",
   "metadata": {
    "scrolled": true
   },
   "outputs": [
    {
     "data": {
      "text/plain": [
       "Counter({0: 4940, 1: 1572})"
      ]
     },
     "execution_count": 26,
     "metadata": {},
     "output_type": "execute_result"
    }
   ],
   "source": [
    "Counter(df[\"SARS-CoV-2 Positive\"])"
   ]
  },
  {
   "cell_type": "code",
   "execution_count": 27,
   "id": "9eeae666",
   "metadata": {},
   "outputs": [],
   "source": [
    "from imblearn.under_sampling import NearMiss"
   ]
  },
  {
   "cell_type": "code",
   "execution_count": 28,
   "id": "eb2441dc",
   "metadata": {},
   "outputs": [],
   "source": [
    "# Implementing Undersampling for Handling Imbalanced \n",
    "nm = NearMiss()\n",
    "X_res,y_res=nm.fit_resample(X,Y)\n"
   ]
  },
  {
   "cell_type": "code",
   "execution_count": 29,
   "id": "d8a5ce09",
   "metadata": {
    "scrolled": true
   },
   "outputs": [
    {
     "data": {
      "text/plain": [
       "((3144, 11), (3144,))"
      ]
     },
     "execution_count": 29,
     "metadata": {},
     "output_type": "execute_result"
    }
   ],
   "source": [
    "X_res.shape,y_res.shape"
   ]
  },
  {
   "cell_type": "code",
   "execution_count": 30,
   "id": "6a68499b",
   "metadata": {
    "scrolled": false
   },
   "outputs": [
    {
     "name": "stdout",
     "output_type": "stream",
     "text": [
      "Original dataset shape Counter({0: 4940, 1: 1572})\n",
      "Resampled dataset shape Counter({0: 1572, 1: 1572})\n"
     ]
    }
   ],
   "source": [
    "print('Original dataset shape {}'.format(Counter(Y)))\n",
    "print('Resampled dataset shape {}'.format(Counter(y_res)))"
   ]
  },
  {
   "cell_type": "code",
   "execution_count": 31,
   "id": "25a5ebfb",
   "metadata": {
    "scrolled": false
   },
   "outputs": [
    {
     "data": {
      "text/plain": [
       "(6512, 12)"
      ]
     },
     "execution_count": 31,
     "metadata": {},
     "output_type": "execute_result"
    }
   ],
   "source": [
    "df.shape"
   ]
  },
  {
   "cell_type": "code",
   "execution_count": 32,
   "id": "244bbb2a",
   "metadata": {
    "scrolled": true
   },
   "outputs": [
    {
     "data": {
      "text/html": [
       "<div>\n",
       "<style scoped>\n",
       "    .dataframe tbody tr th:only-of-type {\n",
       "        vertical-align: middle;\n",
       "    }\n",
       "\n",
       "    .dataframe tbody tr th {\n",
       "        vertical-align: top;\n",
       "    }\n",
       "\n",
       "    .dataframe thead th {\n",
       "        text-align: right;\n",
       "    }\n",
       "</style>\n",
       "<table border=\"1\" class=\"dataframe\">\n",
       "  <thead>\n",
       "    <tr style=\"text-align: right;\">\n",
       "      <th></th>\n",
       "      <th>gender</th>\n",
       "      <th>age_year</th>\n",
       "      <th>fever</th>\n",
       "      <th>cough</th>\n",
       "      <th>runny_nose</th>\n",
       "      <th>muscle_soreness</th>\n",
       "      <th>pneumonia</th>\n",
       "      <th>diarrhea</th>\n",
       "      <th>lung_infection</th>\n",
       "      <th>travel_history</th>\n",
       "      <th>isolation_treatment</th>\n",
       "      <th>SARS-CoV-2 Positive</th>\n",
       "    </tr>\n",
       "  </thead>\n",
       "  <tbody>\n",
       "    <tr>\n",
       "      <th>count</th>\n",
       "      <td>6512.000000</td>\n",
       "      <td>6512.000000</td>\n",
       "      <td>6512.000000</td>\n",
       "      <td>6512.000000</td>\n",
       "      <td>6512.000000</td>\n",
       "      <td>6512.000000</td>\n",
       "      <td>6512.000000</td>\n",
       "      <td>6512.000000</td>\n",
       "      <td>6512.000000</td>\n",
       "      <td>6512.000000</td>\n",
       "      <td>6512.000000</td>\n",
       "      <td>6512.000000</td>\n",
       "    </tr>\n",
       "    <tr>\n",
       "      <th>mean</th>\n",
       "      <td>0.517045</td>\n",
       "      <td>44.019502</td>\n",
       "      <td>0.410780</td>\n",
       "      <td>0.303286</td>\n",
       "      <td>0.084306</td>\n",
       "      <td>0.003993</td>\n",
       "      <td>0.074785</td>\n",
       "      <td>0.005682</td>\n",
       "      <td>0.131296</td>\n",
       "      <td>0.650952</td>\n",
       "      <td>0.216984</td>\n",
       "      <td>0.241400</td>\n",
       "    </tr>\n",
       "    <tr>\n",
       "      <th>std</th>\n",
       "      <td>0.499748</td>\n",
       "      <td>16.112865</td>\n",
       "      <td>0.492013</td>\n",
       "      <td>0.459713</td>\n",
       "      <td>0.277867</td>\n",
       "      <td>0.063066</td>\n",
       "      <td>0.263064</td>\n",
       "      <td>0.075169</td>\n",
       "      <td>0.337750</td>\n",
       "      <td>0.476706</td>\n",
       "      <td>0.412223</td>\n",
       "      <td>0.427965</td>\n",
       "    </tr>\n",
       "    <tr>\n",
       "      <th>min</th>\n",
       "      <td>0.000000</td>\n",
       "      <td>1.000000</td>\n",
       "      <td>0.000000</td>\n",
       "      <td>0.000000</td>\n",
       "      <td>0.000000</td>\n",
       "      <td>0.000000</td>\n",
       "      <td>0.000000</td>\n",
       "      <td>0.000000</td>\n",
       "      <td>0.000000</td>\n",
       "      <td>0.000000</td>\n",
       "      <td>0.000000</td>\n",
       "      <td>0.000000</td>\n",
       "    </tr>\n",
       "    <tr>\n",
       "      <th>25%</th>\n",
       "      <td>0.000000</td>\n",
       "      <td>32.000000</td>\n",
       "      <td>0.000000</td>\n",
       "      <td>0.000000</td>\n",
       "      <td>0.000000</td>\n",
       "      <td>0.000000</td>\n",
       "      <td>0.000000</td>\n",
       "      <td>0.000000</td>\n",
       "      <td>0.000000</td>\n",
       "      <td>0.000000</td>\n",
       "      <td>0.000000</td>\n",
       "      <td>0.000000</td>\n",
       "    </tr>\n",
       "    <tr>\n",
       "      <th>50%</th>\n",
       "      <td>1.000000</td>\n",
       "      <td>43.000000</td>\n",
       "      <td>0.000000</td>\n",
       "      <td>0.000000</td>\n",
       "      <td>0.000000</td>\n",
       "      <td>0.000000</td>\n",
       "      <td>0.000000</td>\n",
       "      <td>0.000000</td>\n",
       "      <td>0.000000</td>\n",
       "      <td>1.000000</td>\n",
       "      <td>0.000000</td>\n",
       "      <td>0.000000</td>\n",
       "    </tr>\n",
       "    <tr>\n",
       "      <th>75%</th>\n",
       "      <td>1.000000</td>\n",
       "      <td>55.000000</td>\n",
       "      <td>1.000000</td>\n",
       "      <td>1.000000</td>\n",
       "      <td>0.000000</td>\n",
       "      <td>0.000000</td>\n",
       "      <td>0.000000</td>\n",
       "      <td>0.000000</td>\n",
       "      <td>0.000000</td>\n",
       "      <td>1.000000</td>\n",
       "      <td>0.000000</td>\n",
       "      <td>0.000000</td>\n",
       "    </tr>\n",
       "    <tr>\n",
       "      <th>max</th>\n",
       "      <td>1.000000</td>\n",
       "      <td>96.000000</td>\n",
       "      <td>1.000000</td>\n",
       "      <td>1.000000</td>\n",
       "      <td>1.000000</td>\n",
       "      <td>1.000000</td>\n",
       "      <td>1.000000</td>\n",
       "      <td>1.000000</td>\n",
       "      <td>1.000000</td>\n",
       "      <td>1.000000</td>\n",
       "      <td>1.000000</td>\n",
       "      <td>1.000000</td>\n",
       "    </tr>\n",
       "  </tbody>\n",
       "</table>\n",
       "</div>"
      ],
      "text/plain": [
       "            gender     age_year        fever        cough   runny_nose  \\\n",
       "count  6512.000000  6512.000000  6512.000000  6512.000000  6512.000000   \n",
       "mean      0.517045    44.019502     0.410780     0.303286     0.084306   \n",
       "std       0.499748    16.112865     0.492013     0.459713     0.277867   \n",
       "min       0.000000     1.000000     0.000000     0.000000     0.000000   \n",
       "25%       0.000000    32.000000     0.000000     0.000000     0.000000   \n",
       "50%       1.000000    43.000000     0.000000     0.000000     0.000000   \n",
       "75%       1.000000    55.000000     1.000000     1.000000     0.000000   \n",
       "max       1.000000    96.000000     1.000000     1.000000     1.000000   \n",
       "\n",
       "       muscle_soreness    pneumonia     diarrhea  lung_infection  \\\n",
       "count      6512.000000  6512.000000  6512.000000     6512.000000   \n",
       "mean          0.003993     0.074785     0.005682        0.131296   \n",
       "std           0.063066     0.263064     0.075169        0.337750   \n",
       "min           0.000000     0.000000     0.000000        0.000000   \n",
       "25%           0.000000     0.000000     0.000000        0.000000   \n",
       "50%           0.000000     0.000000     0.000000        0.000000   \n",
       "75%           0.000000     0.000000     0.000000        0.000000   \n",
       "max           1.000000     1.000000     1.000000        1.000000   \n",
       "\n",
       "       travel_history  isolation_treatment  SARS-CoV-2 Positive  \n",
       "count     6512.000000          6512.000000          6512.000000  \n",
       "mean         0.650952             0.216984             0.241400  \n",
       "std          0.476706             0.412223             0.427965  \n",
       "min          0.000000             0.000000             0.000000  \n",
       "25%          0.000000             0.000000             0.000000  \n",
       "50%          1.000000             0.000000             0.000000  \n",
       "75%          1.000000             0.000000             0.000000  \n",
       "max          1.000000             1.000000             1.000000  "
      ]
     },
     "execution_count": 32,
     "metadata": {},
     "output_type": "execute_result"
    }
   ],
   "source": [
    "df.describe()"
   ]
  },
  {
   "cell_type": "code",
   "execution_count": 33,
   "id": "92d4a9e6",
   "metadata": {
    "scrolled": false
   },
   "outputs": [
    {
     "data": {
      "text/html": [
       "<div>\n",
       "<style scoped>\n",
       "    .dataframe tbody tr th:only-of-type {\n",
       "        vertical-align: middle;\n",
       "    }\n",
       "\n",
       "    .dataframe tbody tr th {\n",
       "        vertical-align: top;\n",
       "    }\n",
       "\n",
       "    .dataframe thead th {\n",
       "        text-align: right;\n",
       "    }\n",
       "</style>\n",
       "<table border=\"1\" class=\"dataframe\">\n",
       "  <thead>\n",
       "    <tr style=\"text-align: right;\">\n",
       "      <th></th>\n",
       "      <th>gender</th>\n",
       "      <th>age_year</th>\n",
       "      <th>fever</th>\n",
       "      <th>cough</th>\n",
       "      <th>runny_nose</th>\n",
       "      <th>muscle_soreness</th>\n",
       "      <th>pneumonia</th>\n",
       "      <th>diarrhea</th>\n",
       "      <th>lung_infection</th>\n",
       "      <th>travel_history</th>\n",
       "      <th>isolation_treatment</th>\n",
       "    </tr>\n",
       "  </thead>\n",
       "  <tbody>\n",
       "    <tr>\n",
       "      <th>gender</th>\n",
       "      <td>1.000000</td>\n",
       "      <td>-0.130356</td>\n",
       "      <td>-0.015913</td>\n",
       "      <td>-0.018009</td>\n",
       "      <td>0.000993</td>\n",
       "      <td>0.018130</td>\n",
       "      <td>0.004404</td>\n",
       "      <td>-0.031158</td>\n",
       "      <td>-0.039571</td>\n",
       "      <td>0.007567</td>\n",
       "      <td>-0.036009</td>\n",
       "    </tr>\n",
       "    <tr>\n",
       "      <th>age_year</th>\n",
       "      <td>-0.130356</td>\n",
       "      <td>1.000000</td>\n",
       "      <td>-0.012881</td>\n",
       "      <td>0.020735</td>\n",
       "      <td>0.005100</td>\n",
       "      <td>0.004964</td>\n",
       "      <td>0.003739</td>\n",
       "      <td>0.023885</td>\n",
       "      <td>0.043896</td>\n",
       "      <td>-0.059345</td>\n",
       "      <td>0.053480</td>\n",
       "    </tr>\n",
       "    <tr>\n",
       "      <th>fever</th>\n",
       "      <td>-0.015913</td>\n",
       "      <td>-0.012881</td>\n",
       "      <td>1.000000</td>\n",
       "      <td>0.895481</td>\n",
       "      <td>0.376235</td>\n",
       "      <td>0.040580</td>\n",
       "      <td>0.367782</td>\n",
       "      <td>0.037564</td>\n",
       "      <td>0.163541</td>\n",
       "      <td>-0.312286</td>\n",
       "      <td>0.234665</td>\n",
       "    </tr>\n",
       "    <tr>\n",
       "      <th>cough</th>\n",
       "      <td>-0.018009</td>\n",
       "      <td>0.020735</td>\n",
       "      <td>0.895481</td>\n",
       "      <td>1.000000</td>\n",
       "      <td>0.416610</td>\n",
       "      <td>0.045122</td>\n",
       "      <td>0.408944</td>\n",
       "      <td>0.027177</td>\n",
       "      <td>0.195446</td>\n",
       "      <td>-0.360051</td>\n",
       "      <td>0.238307</td>\n",
       "    </tr>\n",
       "    <tr>\n",
       "      <th>runny_nose</th>\n",
       "      <td>0.000993</td>\n",
       "      <td>0.005100</td>\n",
       "      <td>0.376235</td>\n",
       "      <td>0.416610</td>\n",
       "      <td>1.000000</td>\n",
       "      <td>0.034403</td>\n",
       "      <td>0.977532</td>\n",
       "      <td>0.020513</td>\n",
       "      <td>0.497296</td>\n",
       "      <td>-0.160308</td>\n",
       "      <td>0.181708</td>\n",
       "    </tr>\n",
       "    <tr>\n",
       "      <th>muscle_soreness</th>\n",
       "      <td>0.018130</td>\n",
       "      <td>0.004964</td>\n",
       "      <td>0.040580</td>\n",
       "      <td>0.045122</td>\n",
       "      <td>0.034403</td>\n",
       "      <td>1.000000</td>\n",
       "      <td>-0.001572</td>\n",
       "      <td>-0.002066</td>\n",
       "      <td>0.080858</td>\n",
       "      <td>-0.035170</td>\n",
       "      <td>0.083375</td>\n",
       "    </tr>\n",
       "    <tr>\n",
       "      <th>pneumonia</th>\n",
       "      <td>0.004404</td>\n",
       "      <td>0.003739</td>\n",
       "      <td>0.367782</td>\n",
       "      <td>0.408944</td>\n",
       "      <td>0.977532</td>\n",
       "      <td>-0.001572</td>\n",
       "      <td>1.000000</td>\n",
       "      <td>0.001422</td>\n",
       "      <td>0.490626</td>\n",
       "      <td>-0.147369</td>\n",
       "      <td>0.169422</td>\n",
       "    </tr>\n",
       "    <tr>\n",
       "      <th>diarrhea</th>\n",
       "      <td>-0.031158</td>\n",
       "      <td>0.023885</td>\n",
       "      <td>0.037564</td>\n",
       "      <td>0.027177</td>\n",
       "      <td>0.020513</td>\n",
       "      <td>-0.002066</td>\n",
       "      <td>0.001422</td>\n",
       "      <td>1.000000</td>\n",
       "      <td>0.058116</td>\n",
       "      <td>-0.001308</td>\n",
       "      <td>0.043193</td>\n",
       "    </tr>\n",
       "    <tr>\n",
       "      <th>lung_infection</th>\n",
       "      <td>-0.039571</td>\n",
       "      <td>0.043896</td>\n",
       "      <td>0.163541</td>\n",
       "      <td>0.195446</td>\n",
       "      <td>0.497296</td>\n",
       "      <td>0.080858</td>\n",
       "      <td>0.490626</td>\n",
       "      <td>0.058116</td>\n",
       "      <td>1.000000</td>\n",
       "      <td>-0.219116</td>\n",
       "      <td>0.373897</td>\n",
       "    </tr>\n",
       "    <tr>\n",
       "      <th>travel_history</th>\n",
       "      <td>0.007567</td>\n",
       "      <td>-0.059345</td>\n",
       "      <td>-0.312286</td>\n",
       "      <td>-0.360051</td>\n",
       "      <td>-0.160308</td>\n",
       "      <td>-0.035170</td>\n",
       "      <td>-0.147369</td>\n",
       "      <td>-0.001308</td>\n",
       "      <td>-0.219116</td>\n",
       "      <td>1.000000</td>\n",
       "      <td>0.002343</td>\n",
       "    </tr>\n",
       "    <tr>\n",
       "      <th>isolation_treatment</th>\n",
       "      <td>-0.036009</td>\n",
       "      <td>0.053480</td>\n",
       "      <td>0.234665</td>\n",
       "      <td>0.238307</td>\n",
       "      <td>0.181708</td>\n",
       "      <td>0.083375</td>\n",
       "      <td>0.169422</td>\n",
       "      <td>0.043193</td>\n",
       "      <td>0.373897</td>\n",
       "      <td>0.002343</td>\n",
       "      <td>1.000000</td>\n",
       "    </tr>\n",
       "  </tbody>\n",
       "</table>\n",
       "</div>"
      ],
      "text/plain": [
       "                       gender  age_year     fever     cough  runny_nose  \\\n",
       "gender               1.000000 -0.130356 -0.015913 -0.018009    0.000993   \n",
       "age_year            -0.130356  1.000000 -0.012881  0.020735    0.005100   \n",
       "fever               -0.015913 -0.012881  1.000000  0.895481    0.376235   \n",
       "cough               -0.018009  0.020735  0.895481  1.000000    0.416610   \n",
       "runny_nose           0.000993  0.005100  0.376235  0.416610    1.000000   \n",
       "muscle_soreness      0.018130  0.004964  0.040580  0.045122    0.034403   \n",
       "pneumonia            0.004404  0.003739  0.367782  0.408944    0.977532   \n",
       "diarrhea            -0.031158  0.023885  0.037564  0.027177    0.020513   \n",
       "lung_infection      -0.039571  0.043896  0.163541  0.195446    0.497296   \n",
       "travel_history       0.007567 -0.059345 -0.312286 -0.360051   -0.160308   \n",
       "isolation_treatment -0.036009  0.053480  0.234665  0.238307    0.181708   \n",
       "\n",
       "                     muscle_soreness  pneumonia  diarrhea  lung_infection  \\\n",
       "gender                      0.018130   0.004404 -0.031158       -0.039571   \n",
       "age_year                    0.004964   0.003739  0.023885        0.043896   \n",
       "fever                       0.040580   0.367782  0.037564        0.163541   \n",
       "cough                       0.045122   0.408944  0.027177        0.195446   \n",
       "runny_nose                  0.034403   0.977532  0.020513        0.497296   \n",
       "muscle_soreness             1.000000  -0.001572 -0.002066        0.080858   \n",
       "pneumonia                  -0.001572   1.000000  0.001422        0.490626   \n",
       "diarrhea                   -0.002066   0.001422  1.000000        0.058116   \n",
       "lung_infection              0.080858   0.490626  0.058116        1.000000   \n",
       "travel_history             -0.035170  -0.147369 -0.001308       -0.219116   \n",
       "isolation_treatment         0.083375   0.169422  0.043193        0.373897   \n",
       "\n",
       "                     travel_history  isolation_treatment  \n",
       "gender                     0.007567            -0.036009  \n",
       "age_year                  -0.059345             0.053480  \n",
       "fever                     -0.312286             0.234665  \n",
       "cough                     -0.360051             0.238307  \n",
       "runny_nose                -0.160308             0.181708  \n",
       "muscle_soreness           -0.035170             0.083375  \n",
       "pneumonia                 -0.147369             0.169422  \n",
       "diarrhea                  -0.001308             0.043193  \n",
       "lung_infection            -0.219116             0.373897  \n",
       "travel_history             1.000000             0.002343  \n",
       "isolation_treatment        0.002343             1.000000  "
      ]
     },
     "execution_count": 33,
     "metadata": {},
     "output_type": "execute_result"
    }
   ],
   "source": [
    "corr = X_res.corr() #feature selection pearsons coorelation\n",
    "corr"
   ]
  },
  {
   "cell_type": "code",
   "execution_count": 34,
   "id": "9249902e",
   "metadata": {
    "scrolled": true
   },
   "outputs": [
    {
     "data": {
      "image/png": "[encoded data removed]",
      "text/plain": [
       "<Figure size 864x720 with 2 Axes>"
      ]
     },
     "metadata": {
      "needs_background": "light"
     },
     "output_type": "display_data"
    }
   ],
   "source": [
    "plt.figure(figsize = (12,10))\n",
    "sns.heatmap(corr, annot = True, cmap = \"seismic\");"
   ]
  },
  {
   "cell_type": "code",
   "execution_count": 35,
   "id": "7b5bbd5a",
   "metadata": {},
   "outputs": [],
   "source": [
    "def correlation(dataset, threshold):\n",
    "    col_corr = set()\n",
    "    corr_matrix = dataset.corr()\n",
    "    for i in range(len(corr_matrix.columns)):\n",
    "        for j in range(i):\n",
    "            if(abs(corr_matrix.iloc[i,j]))>threshold:\n",
    "                colname = corr_matrix.columns[i]\n",
    "                col_corr.add(colname)\n",
    "    return col_corr"
   ]
  },
  {
   "cell_type": "code",
   "execution_count": 36,
   "id": "8a328a50",
   "metadata": {
    "scrolled": true
   },
   "outputs": [
    {
     "name": "stdout",
     "output_type": "stream",
     "text": [
      "2\n",
      "{'cough', 'pneumonia'}\n"
     ]
    }
   ],
   "source": [
    "corr_features= correlation(X_res,0.85)\n",
    "print(len(corr_features))\n",
    "print(corr_features)"
   ]
  },
  {
   "cell_type": "code",
   "execution_count": 37,
   "id": "b1ed4946",
   "metadata": {},
   "outputs": [],
   "source": [
    "X_res=X_res.drop(columns=\"pneumonia\")"
   ]
  },
  {
   "cell_type": "code",
   "execution_count": 38,
   "id": "41d8dd4b",
   "metadata": {},
   "outputs": [],
   "source": [
    "X_res=X_res.drop(columns=\"cough\")"
   ]
  },
  {
   "cell_type": "code",
   "execution_count": 39,
   "id": "bf775248",
   "metadata": {
    "scrolled": true
   },
   "outputs": [
    {
     "data": {
      "text/plain": [
       "(3144, 9)"
      ]
     },
     "execution_count": 39,
     "metadata": {},
     "output_type": "execute_result"
    }
   ],
   "source": [
    "X_res.shape"
   ]
  },
  {
   "cell_type": "code",
   "execution_count": 40,
   "id": "fe4be255",
   "metadata": {
    "scrolled": false
   },
   "outputs": [
    {
     "data": {
      "text/html": [
       "<div>\n",
       "<style scoped>\n",
       "    .dataframe tbody tr th:only-of-type {\n",
       "        vertical-align: middle;\n",
       "    }\n",
       "\n",
       "    .dataframe tbody tr th {\n",
       "        vertical-align: top;\n",
       "    }\n",
       "\n",
       "    .dataframe thead th {\n",
       "        text-align: right;\n",
       "    }\n",
       "</style>\n",
       "<table border=\"1\" class=\"dataframe\">\n",
       "  <thead>\n",
       "    <tr style=\"text-align: right;\">\n",
       "      <th></th>\n",
       "      <th>gender</th>\n",
       "      <th>age_year</th>\n",
       "      <th>fever</th>\n",
       "      <th>runny_nose</th>\n",
       "      <th>muscle_soreness</th>\n",
       "      <th>diarrhea</th>\n",
       "      <th>lung_infection</th>\n",
       "      <th>travel_history</th>\n",
       "      <th>isolation_treatment</th>\n",
       "    </tr>\n",
       "  </thead>\n",
       "  <tbody>\n",
       "    <tr>\n",
       "      <th>0</th>\n",
       "      <td>0</td>\n",
       "      <td>55</td>\n",
       "      <td>1</td>\n",
       "      <td>0</td>\n",
       "      <td>0</td>\n",
       "      <td>0</td>\n",
       "      <td>0</td>\n",
       "      <td>0</td>\n",
       "      <td>0</td>\n",
       "    </tr>\n",
       "    <tr>\n",
       "      <th>1</th>\n",
       "      <td>1</td>\n",
       "      <td>44</td>\n",
       "      <td>1</td>\n",
       "      <td>0</td>\n",
       "      <td>0</td>\n",
       "      <td>0</td>\n",
       "      <td>0</td>\n",
       "      <td>0</td>\n",
       "      <td>0</td>\n",
       "    </tr>\n",
       "    <tr>\n",
       "      <th>2</th>\n",
       "      <td>0</td>\n",
       "      <td>47</td>\n",
       "      <td>1</td>\n",
       "      <td>0</td>\n",
       "      <td>0</td>\n",
       "      <td>0</td>\n",
       "      <td>0</td>\n",
       "      <td>1</td>\n",
       "      <td>0</td>\n",
       "    </tr>\n",
       "    <tr>\n",
       "      <th>3</th>\n",
       "      <td>1</td>\n",
       "      <td>45</td>\n",
       "      <td>1</td>\n",
       "      <td>0</td>\n",
       "      <td>0</td>\n",
       "      <td>0</td>\n",
       "      <td>0</td>\n",
       "      <td>0</td>\n",
       "      <td>0</td>\n",
       "    </tr>\n",
       "    <tr>\n",
       "      <th>4</th>\n",
       "      <td>1</td>\n",
       "      <td>49</td>\n",
       "      <td>1</td>\n",
       "      <td>0</td>\n",
       "      <td>0</td>\n",
       "      <td>0</td>\n",
       "      <td>0</td>\n",
       "      <td>0</td>\n",
       "      <td>0</td>\n",
       "    </tr>\n",
       "  </tbody>\n",
       "</table>\n",
       "</div>"
      ],
      "text/plain": [
       "   gender  age_year  fever  runny_nose  muscle_soreness  diarrhea  \\\n",
       "0       0        55      1           0                0         0   \n",
       "1       1        44      1           0                0         0   \n",
       "2       0        47      1           0                0         0   \n",
       "3       1        45      1           0                0         0   \n",
       "4       1        49      1           0                0         0   \n",
       "\n",
       "   lung_infection  travel_history  isolation_treatment  \n",
       "0               0               0                    0  \n",
       "1               0               0                    0  \n",
       "2               0               1                    0  \n",
       "3               0               0                    0  \n",
       "4               0               0                    0  "
      ]
     },
     "execution_count": 40,
     "metadata": {},
     "output_type": "execute_result"
    }
   ],
   "source": [
    "X_res.head()"
   ]
  },
  {
   "cell_type": "code",
   "execution_count": 41,
   "id": "e6a38105",
   "metadata": {
    "scrolled": false
   },
   "outputs": [
    {
     "data": {
      "text/plain": [
       "0    0\n",
       "1    0\n",
       "2    0\n",
       "3    0\n",
       "4    0\n",
       "Name: SARS-CoV-2 Positive, dtype: int64"
      ]
     },
     "execution_count": 41,
     "metadata": {},
     "output_type": "execute_result"
    }
   ],
   "source": [
    "y_res.head()"
   ]
  },
  {
   "cell_type": "code",
   "execution_count": 42,
   "id": "ea4c93ad",
   "metadata": {},
   "outputs": [],
   "source": [
    "from sklearn.model_selection import train_test_split\n",
    "X_train, X_test, y_train, y_test = train_test_split(X_res, y_res, test_size = 0.2, random_state =40)"
   ]
  },
  {
   "cell_type": "code",
   "execution_count": 43,
   "id": "8ee27a37",
   "metadata": {},
   "outputs": [],
   "source": [
    "from sklearn.tree import DecisionTreeClassifier\n",
    "clf = DecisionTreeClassifier()\n",
    "clf = clf.fit(X_train, y_train)\n",
    "y_pred = clf.predict(X_test)"
   ]
  },
  {
   "cell_type": "code",
   "execution_count": 44,
   "id": "4134fad7",
   "metadata": {},
   "outputs": [],
   "source": [
    "from sklearn import metrics"
   ]
  },
  {
   "cell_type": "code",
   "execution_count": 45,
   "id": "a3ef04b9",
   "metadata": {
    "scrolled": false
   },
   "outputs": [
    {
     "name": "stdout",
     "output_type": "stream",
     "text": [
      "Accuracy: 0.8044515103338633\n"
     ]
    }
   ],
   "source": [
    "print(\"Accuracy:\", metrics.accuracy_score(y_test, y_pred))"
   ]
  },
  {
   "cell_type": "code",
   "execution_count": 46,
   "id": "8f76f1bf",
   "metadata": {},
   "outputs": [],
   "source": [
    "from sklearn import svm\n",
    "clf = svm.SVC(kernel = \"linear\")\n",
    "clf.fit(X_train, y_train)\n",
    "y_pred = clf.predict(X_test)"
   ]
  },
  {
   "cell_type": "code",
   "execution_count": 47,
   "id": "65d9d898",
   "metadata": {
    "scrolled": true
   },
   "outputs": [
    {
     "name": "stdout",
     "output_type": "stream",
     "text": [
      "Accuracy: 0.7710651828298887\n"
     ]
    }
   ],
   "source": [
    "print(\"Accuracy:\", metrics.accuracy_score(y_test, y_pred))"
   ]
  },
  {
   "cell_type": "code",
   "execution_count": 48,
   "id": "62d8e39f",
   "metadata": {},
   "outputs": [],
   "source": [
    "import xgboost as xgb"
   ]
  },
  {
   "cell_type": "code",
   "execution_count": 49,
   "id": "447002dd",
   "metadata": {
    "scrolled": false
   },
   "outputs": [
    {
     "name": "stdout",
     "output_type": "stream",
     "text": [
      "[03:04:59] WARNING: C:/Users/Administrator/workspace/xgboost-win64_release_1.4.0/src/learner.cc:1095: Starting in XGBoost 1.3.0, the default evaluation metric used with the objective 'binary:logistic' was changed from 'error' to 'logloss'. Explicitly set eval_metric if you'd like to restore the old behavior.\n",
      "\n",
      "XGBClassifier(base_score=0.5, booster='gbtree', colsample_bylevel=1,\n",
      "              colsample_bynode=1, colsample_bytree=1, gamma=0, gpu_id=-1,\n",
      "              importance_type='gain', interaction_constraints='',\n",
      "              learning_rate=0.300000012, max_delta_step=0, max_depth=6,\n",
      "              min_child_weight=1, missing=nan, monotone_constraints='()',\n",
      "              n_estimators=100, n_jobs=12, num_parallel_tree=1, random_state=0,\n",
      "              reg_alpha=0, reg_lambda=1, scale_pos_weight=1, subsample=1,\n",
      "              tree_method='exact', validate_parameters=1, verbosity=None)\n"
     ]
    },
    {
     "name": "stderr",
     "output_type": "stream",
     "text": [
      "C:\\Users\\USER\\anaconda3\\lib\\site-packages\\xgboost\\sklearn.py:1146: UserWarning: The use of label encoder in XGBClassifier is deprecated and will be removed in a future release. To remove this warning, do the following: 1) Pass option use_label_encoder=False when constructing XGBClassifier object; and 2) Encode your labels (y) as integers starting with 0, i.e. 0, 1, 2, ..., [num_class - 1].\n",
      "  warnings.warn(label_encoder_deprecation_msg, UserWarning)\n"
     ]
    }
   ],
   "source": [
    "model = xgb.XGBClassifier()\n",
    "model.fit(X_train, y_train)\n",
    "print();\n",
    "print(model)"
   ]
  },
  {
   "cell_type": "code",
   "execution_count": 50,
   "id": "48a40166",
   "metadata": {},
   "outputs": [],
   "source": [
    "expected_y=y_test\n",
    "predicted_y=model.predict(X_test)\n"
   ]
  },
  {
   "cell_type": "code",
   "execution_count": 51,
   "id": "a75754cd",
   "metadata": {
    "scrolled": false
   },
   "outputs": [
    {
     "name": "stdout",
     "output_type": "stream",
     "text": [
      "Accuracy: 0.8139904610492846\n"
     ]
    }
   ],
   "source": [
    "print(\"Accuracy:\", metrics.accuracy_score(expected_y, predicted_y))"
   ]
  },
  {
   "cell_type": "code",
   "execution_count": 52,
   "id": "4f05911b",
   "metadata": {
    "scrolled": false
   },
   "outputs": [],
   "source": [
    "from tensorflow import keras \n",
    "from keras.models import Sequential\n",
    "from keras.layers import Dense"
   ]
  },
  {
   "cell_type": "code",
   "execution_count": 53,
   "id": "37196e7a",
   "metadata": {},
   "outputs": [],
   "source": [
    "classifier = Sequential()"
   ]
  },
  {
   "cell_type": "code",
   "execution_count": 54,
   "id": "fef389cb",
   "metadata": {},
   "outputs": [],
   "source": [
    "from sklearn.preprocessing import StandardScaler\n",
    "sc = StandardScaler()\n",
    "X_train = sc.fit_transform(X_train)\n",
    "X_test = sc.transform(X_test)"
   ]
  },
  {
   "cell_type": "code",
   "execution_count": 55,
   "id": "61f94ac5",
   "metadata": {
    "scrolled": true
   },
   "outputs": [],
   "source": [
    "classifier.add(Dense(6, activation = 'relu',kernel_initializer='glorot_uniform', input_dim = 9))"
   ]
  },
  {
   "cell_type": "code",
   "execution_count": 56,
   "id": "be128acb",
   "metadata": {},
   "outputs": [],
   "source": [
    "classifier.add(Dense(6, activation = 'relu',kernel_initializer='glorot_uniform'))"
   ]
  },
  {
   "cell_type": "code",
   "execution_count": 57,
   "id": "817a3ea8",
   "metadata": {},
   "outputs": [],
   "source": [
    "classifier.add(Dense(1, activation = 'sigmoid',kernel_initializer='glorot_uniform'))"
   ]
  },
  {
   "cell_type": "code",
   "execution_count": 58,
   "id": "2c96cef2",
   "metadata": {},
   "outputs": [],
   "source": [
    "classifier.compile(optimizer = 'adam', loss = 'binary_crossentropy', metrics = ['accuracy'])"
   ]
  },
  {
   "cell_type": "code",
   "execution_count": 59,
   "id": "498f9a86",
   "metadata": {},
   "outputs": [
    {
     "name": "stdout",
     "output_type": "stream",
     "text": [
      "Epoch 1/100\n",
      "252/252 [==============================] - 0s 520us/step - loss: 0.7211 - accuracy: 0.5722\n",
      "Epoch 2/100\n",
      "252/252 [==============================] - 0s 506us/step - loss: 0.4855 - accuracy: 0.7670\n",
      "Epoch 3/100\n",
      "252/252 [==============================] - 0s 488us/step - loss: 0.4005 - accuracy: 0.7901\n",
      "Epoch 4/100\n",
      "252/252 [==============================] - 0s 494us/step - loss: 0.3796 - accuracy: 0.8056\n",
      "Epoch 5/100\n",
      "252/252 [==============================] - 0s 494us/step - loss: 0.3707 - accuracy: 0.8056\n",
      "Epoch 6/100\n",
      "252/252 [==============================] - 0s 500us/step - loss: 0.3658 - accuracy: 0.8080\n",
      "Epoch 7/100\n",
      "252/252 [==============================] - 0s 504us/step - loss: 0.3628 - accuracy: 0.8072\n",
      "Epoch 8/100\n",
      "252/252 [==============================] - 0s 502us/step - loss: 0.3604 - accuracy: 0.8060\n",
      "Epoch 9/100\n",
      "252/252 [==============================] - 0s 492us/step - loss: 0.3584 - accuracy: 0.8095\n",
      "Epoch 10/100\n",
      "252/252 [==============================] - 0s 488us/step - loss: 0.3570 - accuracy: 0.8091\n",
      "Epoch 11/100\n",
      "252/252 [==============================] - 0s 494us/step - loss: 0.3560 - accuracy: 0.8103\n",
      "Epoch 12/100\n",
      "252/252 [==============================] - 0s 496us/step - loss: 0.3552 - accuracy: 0.8087\n",
      "Epoch 13/100\n",
      "252/252 [==============================] - 0s 498us/step - loss: 0.3548 - accuracy: 0.8099\n",
      "Epoch 14/100\n",
      "252/252 [==============================] - 0s 492us/step - loss: 0.3540 - accuracy: 0.8107\n",
      "Epoch 15/100\n",
      "252/252 [==============================] - ETA: 0s - loss: 0.3476 - accuracy: 0.81 - 0s 494us/step - loss: 0.3537 - accuracy: 0.8103\n",
      "Epoch 16/100\n",
      "252/252 [==============================] - 0s 492us/step - loss: 0.3529 - accuracy: 0.8095\n",
      "Epoch 17/100\n",
      "252/252 [==============================] - 0s 486us/step - loss: 0.3524 - accuracy: 0.8095\n",
      "Epoch 18/100\n",
      "252/252 [==============================] - 0s 490us/step - loss: 0.3523 - accuracy: 0.8099\n",
      "Epoch 19/100\n",
      "252/252 [==============================] - 0s 486us/step - loss: 0.3518 - accuracy: 0.8091\n",
      "Epoch 20/100\n",
      "252/252 [==============================] - 0s 496us/step - loss: 0.3514 - accuracy: 0.8119\n",
      "Epoch 21/100\n",
      "252/252 [==============================] - 0s 492us/step - loss: 0.3512 - accuracy: 0.8127\n",
      "Epoch 22/100\n",
      "252/252 [==============================] - 0s 488us/step - loss: 0.3507 - accuracy: 0.8135\n",
      "Epoch 23/100\n",
      "252/252 [==============================] - 0s 492us/step - loss: 0.3509 - accuracy: 0.8127\n",
      "Epoch 24/100\n",
      "252/252 [==============================] - 0s 486us/step - loss: 0.3505 - accuracy: 0.8135\n",
      "Epoch 25/100\n",
      "252/252 [==============================] - 0s 494us/step - loss: 0.3502 - accuracy: 0.8107\n",
      "Epoch 26/100\n",
      "252/252 [==============================] - 0s 494us/step - loss: 0.3500 - accuracy: 0.8111\n",
      "Epoch 27/100\n",
      "252/252 [==============================] - 0s 492us/step - loss: 0.3497 - accuracy: 0.8123\n",
      "Epoch 28/100\n",
      "252/252 [==============================] - 0s 504us/step - loss: 0.3499 - accuracy: 0.8119\n",
      "Epoch 29/100\n",
      "252/252 [==============================] - 0s 494us/step - loss: 0.3498 - accuracy: 0.8139\n",
      "Epoch 30/100\n",
      "252/252 [==============================] - 0s 498us/step - loss: 0.3493 - accuracy: 0.8095\n",
      "Epoch 31/100\n",
      "252/252 [==============================] - 0s 498us/step - loss: 0.3491 - accuracy: 0.8135\n",
      "Epoch 32/100\n",
      "252/252 [==============================] - ETA: 0s - loss: 0.3459 - accuracy: 0.81 - 0s 490us/step - loss: 0.3493 - accuracy: 0.8115\n",
      "Epoch 33/100\n",
      "252/252 [==============================] - 0s 486us/step - loss: 0.3491 - accuracy: 0.8127\n",
      "Epoch 34/100\n",
      "252/252 [==============================] - 0s 490us/step - loss: 0.3485 - accuracy: 0.8151\n",
      "Epoch 35/100\n",
      "252/252 [==============================] - 0s 490us/step - loss: 0.3486 - accuracy: 0.8151\n",
      "Epoch 36/100\n",
      "252/252 [==============================] - 0s 496us/step - loss: 0.3479 - accuracy: 0.8163\n",
      "Epoch 37/100\n",
      "252/252 [==============================] - 0s 496us/step - loss: 0.3478 - accuracy: 0.8155\n",
      "Epoch 38/100\n",
      "252/252 [==============================] - 0s 494us/step - loss: 0.3482 - accuracy: 0.8123\n",
      "Epoch 39/100\n",
      "252/252 [==============================] - 0s 492us/step - loss: 0.3476 - accuracy: 0.8111\n",
      "Epoch 40/100\n",
      "252/252 [==============================] - 0s 486us/step - loss: 0.3471 - accuracy: 0.8167\n",
      "Epoch 41/100\n",
      "252/252 [==============================] - 0s 494us/step - loss: 0.3474 - accuracy: 0.8159\n",
      "Epoch 42/100\n",
      "252/252 [==============================] - 0s 534us/step - loss: 0.3465 - accuracy: 0.8163\n",
      "Epoch 43/100\n",
      "252/252 [==============================] - 0s 498us/step - loss: 0.3473 - accuracy: 0.8123\n",
      "Epoch 44/100\n",
      "252/252 [==============================] - 0s 536us/step - loss: 0.3469 - accuracy: 0.8139\n",
      "Epoch 45/100\n",
      "252/252 [==============================] - 0s 548us/step - loss: 0.3466 - accuracy: 0.8143\n",
      "Epoch 46/100\n",
      "252/252 [==============================] - 0s 534us/step - loss: 0.3465 - accuracy: 0.8163\n",
      "Epoch 47/100\n",
      "252/252 [==============================] - 0s 528us/step - loss: 0.3463 - accuracy: 0.8151\n",
      "Epoch 48/100\n",
      "252/252 [==============================] - 0s 536us/step - loss: 0.3465 - accuracy: 0.8143\n",
      "Epoch 49/100\n",
      "252/252 [==============================] - 0s 538us/step - loss: 0.3458 - accuracy: 0.8139\n",
      "Epoch 50/100\n",
      "252/252 [==============================] - 0s 534us/step - loss: 0.3460 - accuracy: 0.8175\n",
      "Epoch 51/100\n",
      "252/252 [==============================] - 0s 500us/step - loss: 0.3457 - accuracy: 0.8163\n",
      "Epoch 52/100\n",
      "252/252 [==============================] - 0s 494us/step - loss: 0.3455 - accuracy: 0.8187\n",
      "Epoch 53/100\n",
      "252/252 [==============================] - 0s 530us/step - loss: 0.3458 - accuracy: 0.8163\n",
      "Epoch 54/100\n",
      "252/252 [==============================] - 0s 532us/step - loss: 0.3456 - accuracy: 0.8159\n",
      "Epoch 55/100\n",
      "252/252 [==============================] - 0s 554us/step - loss: 0.3448 - accuracy: 0.8147\n",
      "Epoch 56/100\n",
      "252/252 [==============================] - 0s 512us/step - loss: 0.3448 - accuracy: 0.8191\n",
      "Epoch 57/100\n",
      "252/252 [==============================] - 0s 498us/step - loss: 0.3450 - accuracy: 0.8151\n",
      "Epoch 58/100\n",
      "252/252 [==============================] - 0s 492us/step - loss: 0.3449 - accuracy: 0.8175\n",
      "Epoch 59/100\n",
      "252/252 [==============================] - 0s 498us/step - loss: 0.3440 - accuracy: 0.8175\n",
      "Epoch 60/100\n",
      "252/252 [==============================] - 0s 502us/step - loss: 0.3449 - accuracy: 0.8151\n",
      "Epoch 61/100\n",
      "252/252 [==============================] - 0s 494us/step - loss: 0.3450 - accuracy: 0.8187\n",
      "Epoch 62/100\n",
      "252/252 [==============================] - 0s 496us/step - loss: 0.3447 - accuracy: 0.8175\n",
      "Epoch 63/100\n",
      "252/252 [==============================] - 0s 536us/step - loss: 0.3444 - accuracy: 0.8195\n",
      "Epoch 64/100\n",
      "252/252 [==============================] - 0s 510us/step - loss: 0.3441 - accuracy: 0.8183\n",
      "Epoch 65/100\n",
      "252/252 [==============================] - 0s 488us/step - loss: 0.3444 - accuracy: 0.8199\n",
      "Epoch 66/100\n",
      "252/252 [==============================] - 0s 498us/step - loss: 0.3448 - accuracy: 0.8171\n",
      "Epoch 67/100\n",
      "252/252 [==============================] - 0s 492us/step - loss: 0.3438 - accuracy: 0.8175\n",
      "Epoch 68/100\n",
      "252/252 [==============================] - 0s 488us/step - loss: 0.3439 - accuracy: 0.8195\n",
      "Epoch 69/100\n",
      "252/252 [==============================] - 0s 496us/step - loss: 0.3440 - accuracy: 0.8191\n",
      "Epoch 70/100\n",
      "252/252 [==============================] - 0s 528us/step - loss: 0.3440 - accuracy: 0.8207\n",
      "Epoch 71/100\n",
      "252/252 [==============================] - 0s 508us/step - loss: 0.3438 - accuracy: 0.8163\n",
      "Epoch 72/100\n",
      "252/252 [==============================] - 0s 486us/step - loss: 0.3440 - accuracy: 0.8183\n",
      "Epoch 73/100\n",
      "252/252 [==============================] - 0s 490us/step - loss: 0.3441 - accuracy: 0.8179\n",
      "Epoch 74/100\n",
      "252/252 [==============================] - 0s 506us/step - loss: 0.3438 - accuracy: 0.8191\n",
      "Epoch 75/100\n",
      "252/252 [==============================] - 0s 506us/step - loss: 0.3436 - accuracy: 0.8167\n",
      "Epoch 76/100\n",
      "252/252 [==============================] - 0s 502us/step - loss: 0.3436 - accuracy: 0.8171\n",
      "Epoch 77/100\n",
      "252/252 [==============================] - 0s 516us/step - loss: 0.3437 - accuracy: 0.8195\n",
      "Epoch 78/100\n",
      "252/252 [==============================] - 0s 508us/step - loss: 0.3436 - accuracy: 0.8191\n",
      "Epoch 79/100\n"
     ]
    },
    {
     "name": "stdout",
     "output_type": "stream",
     "text": [
      "252/252 [==============================] - 0s 490us/step - loss: 0.3433 - accuracy: 0.8199\n",
      "Epoch 80/100\n",
      "252/252 [==============================] - 0s 530us/step - loss: 0.3434 - accuracy: 0.8187\n",
      "Epoch 81/100\n",
      "252/252 [==============================] - 0s 526us/step - loss: 0.3431 - accuracy: 0.8195\n",
      "Epoch 82/100\n",
      "252/252 [==============================] - 0s 536us/step - loss: 0.3430 - accuracy: 0.8207\n",
      "Epoch 83/100\n",
      "252/252 [==============================] - 0s 532us/step - loss: 0.3433 - accuracy: 0.8203\n",
      "Epoch 84/100\n",
      "252/252 [==============================] - 0s 504us/step - loss: 0.3429 - accuracy: 0.8199\n",
      "Epoch 85/100\n",
      "252/252 [==============================] - 0s 500us/step - loss: 0.3432 - accuracy: 0.8175\n",
      "Epoch 86/100\n",
      "252/252 [==============================] - 0s 490us/step - loss: 0.3430 - accuracy: 0.8195\n",
      "Epoch 87/100\n",
      "252/252 [==============================] - 0s 534us/step - loss: 0.3425 - accuracy: 0.8183\n",
      "Epoch 88/100\n",
      "252/252 [==============================] - 0s 534us/step - loss: 0.3431 - accuracy: 0.8179\n",
      "Epoch 89/100\n",
      "252/252 [==============================] - 0s 530us/step - loss: 0.3431 - accuracy: 0.8183\n",
      "Epoch 90/100\n",
      "252/252 [==============================] - 0s 496us/step - loss: 0.3426 - accuracy: 0.8179\n",
      "Epoch 91/100\n",
      "252/252 [==============================] - 0s 492us/step - loss: 0.3424 - accuracy: 0.8179\n",
      "Epoch 92/100\n",
      "252/252 [==============================] - 0s 534us/step - loss: 0.3430 - accuracy: 0.8191\n",
      "Epoch 93/100\n",
      "252/252 [==============================] - 0s 532us/step - loss: 0.3427 - accuracy: 0.8183\n",
      "Epoch 94/100\n",
      "252/252 [==============================] - 0s 526us/step - loss: 0.3426 - accuracy: 0.8199\n",
      "Epoch 95/100\n",
      "252/252 [==============================] - 0s 506us/step - loss: 0.3427 - accuracy: 0.8163\n",
      "Epoch 96/100\n",
      "252/252 [==============================] - 0s 492us/step - loss: 0.3423 - accuracy: 0.8207\n",
      "Epoch 97/100\n",
      "252/252 [==============================] - 0s 498us/step - loss: 0.3426 - accuracy: 0.8171\n",
      "Epoch 98/100\n",
      "252/252 [==============================] - 0s 490us/step - loss: 0.3422 - accuracy: 0.8199\n",
      "Epoch 99/100\n",
      "252/252 [==============================] - 0s 496us/step - loss: 0.3422 - accuracy: 0.8191\n",
      "Epoch 100/100\n",
      "252/252 [==============================] - 0s 508us/step - loss: 0.3420 - accuracy: 0.8179\n"
     ]
    },
    {
     "data": {
      "text/plain": [
       "<keras.callbacks.History at 0x24390b0c520>"
      ]
     },
     "execution_count": 59,
     "metadata": {},
     "output_type": "execute_result"
    }
   ],
   "source": [
    "classifier.fit(X_train, y_train, batch_size = 10, epochs = 100)"
   ]
  },
  {
   "cell_type": "code",
   "execution_count": 60,
   "id": "4b078b2d",
   "metadata": {},
   "outputs": [],
   "source": [
    "y_pred = classifier.predict(X_test)\n",
    "y_pred = (y_pred > 0.5)"
   ]
  },
  {
   "cell_type": "code",
   "execution_count": 61,
   "id": "93975330",
   "metadata": {},
   "outputs": [
    {
     "name": "stdout",
     "output_type": "stream",
     "text": [
      "[[274  56]\n",
      " [ 65 234]]\n"
     ]
    },
    {
     "data": {
      "text/plain": [
       "0.8076311605723371"
      ]
     },
     "execution_count": 61,
     "metadata": {},
     "output_type": "execute_result"
    }
   ],
   "source": [
    "from sklearn.metrics import confusion_matrix, accuracy_score\n",
    "cm = confusion_matrix(y_test, y_pred)\n",
    "print(cm)\n",
    "accuracy_score(y_test,y_pred)\n"
   ]
  },
  {
   "cell_type": "code",
   "execution_count": null,
   "id": "1404648f",
   "metadata": {},
   "outputs": [],
   "source": []
  }
 ],
 "metadata": {
  "kernelspec": {
   "display_name": "Python 3 (ipykernel)",
   "language": "python",
   "name": "python3"
  },
  "language_info": {
   "codemirror_mode": {
    "name": "ipython",
    "version": 3
   },
   "file_extension": ".py",
   "mimetype": "text/x-python",
   "name": "python",
   "nbconvert_exporter": "python",
   "pygments_lexer": "ipython3",
   "version": "3.8.12"
  }
 },
 "nbformat": 4,
 "nbformat_minor": 5
}
