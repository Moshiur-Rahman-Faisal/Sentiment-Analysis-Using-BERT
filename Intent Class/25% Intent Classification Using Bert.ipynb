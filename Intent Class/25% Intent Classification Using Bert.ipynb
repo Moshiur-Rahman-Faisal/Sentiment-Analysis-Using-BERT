{
 "cells": [
  {
   "cell_type": "code",
   "execution_count": 6,
   "id": "d32533c5",
   "metadata": {},
   "outputs": [],
   "source": [
    "import pandas as pd\n",
    "import numpy as np\n"
   ]
  },
  {
   "cell_type": "code",
   "execution_count": 7,
   "id": "bba016ba",
   "metadata": {
    "scrolled": true
   },
   "outputs": [],
   "source": [
    "#reading dataset\n",
    "df = pd.read_csv('train.csv',encoding= 'unicode_escape')  \n",
    "#val_df = pd.read_excel('val.xlsx')\n",
    "test_df = pd.read_csv('val.csv',encoding= 'unicode_escape')\n"
   ]
  },
  {
   "cell_type": "code",
   "execution_count": 8,
   "id": "d5390ffa",
   "metadata": {},
   "outputs": [
    {
     "name": "stdout",
     "output_type": "stream",
     "text": [
      "size of training set: 3775\n",
      "size of validation set: 3100\n"
     ]
    },
    {
     "data": {
      "text/html": [
       "<div>\n",
       "<style scoped>\n",
       "    .dataframe tbody tr th:only-of-type {\n",
       "        vertical-align: middle;\n",
       "    }\n",
       "\n",
       "    .dataframe tbody tr th {\n",
       "        vertical-align: top;\n",
       "    }\n",
       "\n",
       "    .dataframe thead th {\n",
       "        text-align: right;\n",
       "    }\n",
       "</style>\n",
       "<table border=\"1\" class=\"dataframe\">\n",
       "  <thead>\n",
       "    <tr style=\"text-align: right;\">\n",
       "      <th></th>\n",
       "      <th>Utterance</th>\n",
       "      <th>Intent</th>\n",
       "    </tr>\n",
       "  </thead>\n",
       "  <tbody>\n",
       "    <tr>\n",
       "      <th>4384</th>\n",
       "      <td>repeat your last message</td>\n",
       "      <td>repeat</td>\n",
       "    </tr>\n",
       "    <tr>\n",
       "      <th>8155</th>\n",
       "      <td>i need to know my bank of america routing number</td>\n",
       "      <td>routing</td>\n",
       "    </tr>\n",
       "    <tr>\n",
       "      <th>6617</th>\n",
       "      <td>i want you to roll dice</td>\n",
       "      <td>roll_dice</td>\n",
       "    </tr>\n",
       "    <tr>\n",
       "      <th>8972</th>\n",
       "      <td>limit your volume</td>\n",
       "      <td>change_volume</td>\n",
       "    </tr>\n",
       "    <tr>\n",
       "      <th>12020</th>\n",
       "      <td>what name should i use when talking with you</td>\n",
       "      <td>what_is_your_name</td>\n",
       "    </tr>\n",
       "    <tr>\n",
       "      <th>9502</th>\n",
       "      <td>i have no idea what the pin is for my checking...</td>\n",
       "      <td>pin_change</td>\n",
       "    </tr>\n",
       "    <tr>\n",
       "      <th>241</th>\n",
       "      <td>set a timer for two hours</td>\n",
       "      <td>timer</td>\n",
       "    </tr>\n",
       "    <tr>\n",
       "      <th>13254</th>\n",
       "      <td>i need to add my doctor's appointment to my ca...</td>\n",
       "      <td>calendar_update</td>\n",
       "    </tr>\n",
       "    <tr>\n",
       "      <th>5123</th>\n",
       "      <td>please slow down i can't understand you</td>\n",
       "      <td>change_speed</td>\n",
       "    </tr>\n",
       "    <tr>\n",
       "      <th>13276</th>\n",
       "      <td>add my doctor appointment on march 25th at 3:0...</td>\n",
       "      <td>calendar_update</td>\n",
       "    </tr>\n",
       "  </tbody>\n",
       "</table>\n",
       "</div>"
      ],
      "text/plain": [
       "                                               Utterance             Intent\n",
       "4384                            repeat your last message             repeat\n",
       "8155    i need to know my bank of america routing number            routing\n",
       "6617                             i want you to roll dice          roll_dice\n",
       "8972                                   limit your volume      change_volume\n",
       "12020       what name should i use when talking with you  what_is_your_name\n",
       "9502   i have no idea what the pin is for my checking...         pin_change\n",
       "241                            set a timer for two hours              timer\n",
       "13254  i need to add my doctor's appointment to my ca...    calendar_update\n",
       "5123             please slow down i can't understand you       change_speed\n",
       "13276  add my doctor appointment on march 25th at 3:0...    calendar_update"
      ]
     },
     "execution_count": 8,
     "metadata": {},
     "output_type": "execute_result"
    }
   ],
   "source": [
    "train_df=df.sample(frac = 0.25)\n",
    "\n",
    "print('size of training set: %s' % (len(train_df['Utterance'])))\n",
    "print('size of validation set: %s' % (len(test_df ['Utterance'])))\n",
    "\n",
    "\n",
    "train_df.head(10)"
   ]
  },
  {
   "cell_type": "code",
   "execution_count": 9,
   "id": "3c2ae414",
   "metadata": {},
   "outputs": [
    {
     "name": "stdout",
     "output_type": "stream",
     "text": [
      "<class 'pandas.core.frame.DataFrame'>\n",
      "Int64Index: 3775 entries, 4384 to 11091\n",
      "Data columns (total 2 columns):\n",
      " #   Column     Non-Null Count  Dtype \n",
      "---  ------     --------------  ----- \n",
      " 0   Utterance  3775 non-null   object\n",
      " 1   Intent     3775 non-null   object\n",
      "dtypes: object(2)\n",
      "memory usage: 88.5+ KB\n",
      "\n",
      "<class 'pandas.core.frame.DataFrame'>\n",
      "RangeIndex: 3100 entries, 0 to 3099\n",
      "Data columns (total 2 columns):\n",
      " #   Column     Non-Null Count  Dtype \n",
      "---  ------     --------------  ----- \n",
      " 0   Utterance  3100 non-null   object\n",
      " 1   Intent     3100 non-null   object\n",
      "dtypes: object(2)\n",
      "memory usage: 48.6+ KB\n",
      "\n"
     ]
    }
   ],
   "source": [
    "train_df.info()\n",
    "print()\n",
    "test_df.info()\n",
    "print()"
   ]
  },
  {
   "cell_type": "code",
   "execution_count": 10,
   "id": "af940788",
   "metadata": {
    "scrolled": true
   },
   "outputs": [
    {
     "data": {
      "text/html": [
       "<div>\n",
       "<style scoped>\n",
       "    .dataframe tbody tr th:only-of-type {\n",
       "        vertical-align: middle;\n",
       "    }\n",
       "\n",
       "    .dataframe tbody tr th {\n",
       "        vertical-align: top;\n",
       "    }\n",
       "\n",
       "    .dataframe thead th {\n",
       "        text-align: right;\n",
       "    }\n",
       "</style>\n",
       "<table border=\"1\" class=\"dataframe\">\n",
       "  <thead>\n",
       "    <tr style=\"text-align: right;\">\n",
       "      <th></th>\n",
       "      <th>Utterance</th>\n",
       "      <th>Intent</th>\n",
       "    </tr>\n",
       "  </thead>\n",
       "  <tbody>\n",
       "    <tr>\n",
       "      <th>4384</th>\n",
       "      <td>repeat your last message</td>\n",
       "      <td>repeat</td>\n",
       "    </tr>\n",
       "    <tr>\n",
       "      <th>8155</th>\n",
       "      <td>i need to know my bank of america routing number</td>\n",
       "      <td>routing</td>\n",
       "    </tr>\n",
       "    <tr>\n",
       "      <th>6617</th>\n",
       "      <td>i want you to roll dice</td>\n",
       "      <td>roll_dice</td>\n",
       "    </tr>\n",
       "    <tr>\n",
       "      <th>8972</th>\n",
       "      <td>limit your volume</td>\n",
       "      <td>change_volume</td>\n",
       "    </tr>\n",
       "    <tr>\n",
       "      <th>12020</th>\n",
       "      <td>what name should i use when talking with you</td>\n",
       "      <td>what_is_your_name</td>\n",
       "    </tr>\n",
       "  </tbody>\n",
       "</table>\n",
       "</div>"
      ],
      "text/plain": [
       "                                              Utterance             Intent\n",
       "4384                           repeat your last message             repeat\n",
       "8155   i need to know my bank of america routing number            routing\n",
       "6617                            i want you to roll dice          roll_dice\n",
       "8972                                  limit your volume      change_volume\n",
       "12020      what name should i use when talking with you  what_is_your_name"
      ]
     },
     "execution_count": 10,
     "metadata": {},
     "output_type": "execute_result"
    }
   ],
   "source": [
    "train_df.head()"
   ]
  },
  {
   "cell_type": "code",
   "execution_count": 11,
   "id": "45929acb",
   "metadata": {},
   "outputs": [
    {
     "data": {
      "text/html": [
       "<div>\n",
       "<style scoped>\n",
       "    .dataframe tbody tr th:only-of-type {\n",
       "        vertical-align: middle;\n",
       "    }\n",
       "\n",
       "    .dataframe tbody tr th {\n",
       "        vertical-align: top;\n",
       "    }\n",
       "\n",
       "    .dataframe thead th {\n",
       "        text-align: right;\n",
       "    }\n",
       "</style>\n",
       "<table border=\"1\" class=\"dataframe\">\n",
       "  <thead>\n",
       "    <tr style=\"text-align: right;\">\n",
       "      <th></th>\n",
       "      <th>Utterance</th>\n",
       "      <th>Intent</th>\n",
       "    </tr>\n",
       "  </thead>\n",
       "  <tbody>\n",
       "    <tr>\n",
       "      <th>0</th>\n",
       "      <td>in spanish, meet me tomorrow is said how</td>\n",
       "      <td>translate</td>\n",
       "    </tr>\n",
       "    <tr>\n",
       "      <th>1</th>\n",
       "      <td>in french, how do i say, see you later</td>\n",
       "      <td>translate</td>\n",
       "    </tr>\n",
       "    <tr>\n",
       "      <th>2</th>\n",
       "      <td>how do you say hello in japanese</td>\n",
       "      <td>translate</td>\n",
       "    </tr>\n",
       "    <tr>\n",
       "      <th>3</th>\n",
       "      <td>how do i ask about the weather in chinese</td>\n",
       "      <td>translate</td>\n",
       "    </tr>\n",
       "    <tr>\n",
       "      <th>4</th>\n",
       "      <td>how can i say \"cancel my order\" in french</td>\n",
       "      <td>translate</td>\n",
       "    </tr>\n",
       "  </tbody>\n",
       "</table>\n",
       "</div>"
      ],
      "text/plain": [
       "                                   Utterance     Intent\n",
       "0   in spanish, meet me tomorrow is said how  translate\n",
       "1     in french, how do i say, see you later  translate\n",
       "2           how do you say hello in japanese  translate\n",
       "3  how do i ask about the weather in chinese  translate\n",
       "4  how can i say \"cancel my order\" in french  translate"
      ]
     },
     "execution_count": 11,
     "metadata": {},
     "output_type": "execute_result"
    }
   ],
   "source": [
    "test_df.head()"
   ]
  },
  {
   "cell_type": "code",
   "execution_count": 13,
   "id": "ddea7301",
   "metadata": {},
   "outputs": [
    {
     "data": {
      "text/plain": [
       "fun_fact                   40\n",
       "credit_limit               34\n",
       "change_accent              33\n",
       "thank_you                  33\n",
       "accept_reservations        32\n",
       "                           ..\n",
       "definition                 17\n",
       "jump_start                 16\n",
       "order_status               15\n",
       "ingredient_substitution    15\n",
       "tire_change                15\n",
       "Name: Intent, Length: 151, dtype: int64"
      ]
     },
     "execution_count": 13,
     "metadata": {},
     "output_type": "execute_result"
    }
   ],
   "source": [
    "train_df[\"Intent\"].value_counts()"
   ]
  },
  {
   "cell_type": "code",
   "execution_count": 14,
   "id": "7ba86599",
   "metadata": {},
   "outputs": [
    {
     "data": {
      "text/plain": [
       "oos                   100\n",
       "pin_change             20\n",
       "account_blocked        20\n",
       "what_song              20\n",
       "international_fees     20\n",
       "                     ... \n",
       "change_speed           20\n",
       "tire_pressure          20\n",
       "no                     20\n",
       "apr                    20\n",
       "change_accent          20\n",
       "Name: Intent, Length: 151, dtype: int64"
      ]
     },
     "execution_count": 14,
     "metadata": {},
     "output_type": "execute_result"
    }
   ],
   "source": [
    "test_df[\"Intent\"].value_counts()"
   ]
  },
  {
   "cell_type": "code",
   "execution_count": 15,
   "id": "5b9970cc",
   "metadata": {},
   "outputs": [],
   "source": [
    "Train_review = train_df[\"Utterance\"].values.tolist()\n",
    "Train_sentiment = train_df[\"Intent\"].tolist() "
   ]
  },
  {
   "cell_type": "code",
   "execution_count": 16,
   "id": "64e8f1b0",
   "metadata": {},
   "outputs": [],
   "source": [
    "Test_review = test_df[\"Utterance\"].values.tolist()\n",
    "Test_sentiment = test_df[\"Intent\"].tolist() "
   ]
  },
  {
   "cell_type": "code",
   "execution_count": 17,
   "id": "badf156e",
   "metadata": {},
   "outputs": [],
   "source": [
    "x_train, x_test, y_train, y_test = Train_review, Test_review, Train_sentiment, Test_sentiment"
   ]
  },
  {
   "cell_type": "code",
   "execution_count": 18,
   "id": "fe9e61fb",
   "metadata": {},
   "outputs": [],
   "source": [
    "import ktrain\n",
    "from ktrain import text\n",
    "MODEL_NAME = 'bert-base-uncased'\n",
    "t = text.Transformer(MODEL_NAME, maxlen=500)\n"
   ]
  },
  {
   "cell_type": "code",
   "execution_count": 19,
   "id": "c269013f",
   "metadata": {},
   "outputs": [
    {
     "name": "stdout",
     "output_type": "stream",
     "text": [
      "preprocessing train...\n",
      "language: en\n",
      "train sequence lengths:\n",
      "\tmean : 8\n",
      "\t95percentile : 14\n",
      "\t99percentile : 17\n"
     ]
    },
    {
     "data": {
      "application/vnd.jupyter.widget-view+json": {
       "model_id": "b66173d503954a6f9cabfb196b00841d",
       "version_major": 2,
       "version_minor": 0
      },
      "text/plain": [
       "Downloading:   0%|          | 0.00/232k [00:00<?, ?B/s]"
      ]
     },
     "metadata": {},
     "output_type": "display_data"
    },
    {
     "data": {
      "application/vnd.jupyter.widget-view+json": {
       "model_id": "6b153f2291114e0784713986916fbc02",
       "version_major": 2,
       "version_minor": 0
      },
      "text/plain": [
       "Downloading:   0%|          | 0.00/466k [00:00<?, ?B/s]"
      ]
     },
     "metadata": {},
     "output_type": "display_data"
    },
    {
     "data": {
      "application/vnd.jupyter.widget-view+json": {
       "model_id": "afad65c8b6e141cd925d4ab65c26cd6b",
       "version_major": 2,
       "version_minor": 0
      },
      "text/plain": [
       "Downloading:   0%|          | 0.00/28.0 [00:00<?, ?B/s]"
      ]
     },
     "metadata": {},
     "output_type": "display_data"
    },
    {
     "data": {
      "text/html": [],
      "text/plain": [
       "<IPython.core.display.HTML object>"
      ]
     },
     "metadata": {},
     "output_type": "display_data"
    },
    {
     "name": "stdout",
     "output_type": "stream",
     "text": [
      "Is Multi-Label? False\n",
      "preprocessing test...\n",
      "language: en\n",
      "test sequence lengths:\n",
      "\tmean : 8\n",
      "\t95percentile : 15\n",
      "\t99percentile : 19\n"
     ]
    },
    {
     "data": {
      "text/html": [],
      "text/plain": [
       "<IPython.core.display.HTML object>"
      ]
     },
     "metadata": {},
     "output_type": "display_data"
    }
   ],
   "source": [
    "trn = t.preprocess_train(x_train, y_train)\n",
    "val = t.preprocess_test(x_test, y_test)"
   ]
  },
  {
   "cell_type": "code",
   "execution_count": 20,
   "id": "69d54231",
   "metadata": {
    "scrolled": false
   },
   "outputs": [
    {
     "data": {
      "application/vnd.jupyter.widget-view+json": {
       "model_id": "fbc39e91397144e9872dc0fe2f2e8f7a",
       "version_major": 2,
       "version_minor": 0
      },
      "text/plain": [
       "Downloading:   0%|          | 0.00/536M [00:00<?, ?B/s]"
      ]
     },
     "metadata": {},
     "output_type": "display_data"
    }
   ],
   "source": [
    "model = t.get_classifier()"
   ]
  },
  {
   "cell_type": "code",
   "execution_count": 21,
   "id": "7070ffb4",
   "metadata": {},
   "outputs": [],
   "source": [
    "learner = ktrain.get_learner(model, train_data=trn, val_data=val, batch_size=6)"
   ]
  },
  {
   "cell_type": "code",
   "execution_count": 22,
   "id": "e1e76e69",
   "metadata": {
    "scrolled": false
   },
   "outputs": [
    {
     "name": "stdout",
     "output_type": "stream",
     "text": [
      "\n",
      "\n",
      "begin training using onecycle policy with max lr of 2e-05...\n",
      "Epoch 1/4\n",
      "630/630 [==============================] - 6086s 10s/step - loss: 4.9514 - accuracy: 0.0188 - val_loss: 4.6827 - val_accuracy: 0.0690\n",
      "Epoch 2/4\n",
      "630/630 [==============================] - 6077s 10s/step - loss: 4.1625 - accuracy: 0.2901 - val_loss: 3.5532 - val_accuracy: 0.5532\n",
      "Epoch 3/4\n",
      "630/630 [==============================] - 6080s 10s/step - loss: 2.9851 - accuracy: 0.6861 - val_loss: 2.6240 - val_accuracy: 0.7174\n",
      "Epoch 4/4\n",
      "630/630 [==============================] - 6144s 10s/step - loss: 2.3097 - accuracy: 0.8413 - val_loss: 2.3278 - val_accuracy: 0.7697\n"
     ]
    },
    {
     "data": {
      "text/plain": [
       "<tensorflow.python.keras.callbacks.History at 0x1c94dd171f0>"
      ]
     },
     "execution_count": 22,
     "metadata": {},
     "output_type": "execute_result"
    }
   ],
   "source": [
    "learner.fit_onecycle(2e-5, 4)"
   ]
  },
  {
   "cell_type": "code",
   "execution_count": 26,
   "id": "b9ccd39f",
   "metadata": {
    "scrolled": true
   },
   "outputs": [
    {
     "name": "stdout",
     "output_type": "stream",
     "text": [
      "              precision    recall  f1-score   support\n",
      "\n",
      "           0       0.81      0.85      0.83        20\n",
      "           1       1.00      0.60      0.75        20\n",
      "           2       0.87      1.00      0.93        20\n",
      "           3       0.95      0.95      0.95        20\n",
      "           4       0.67      0.80      0.73        20\n",
      "           5       0.79      0.95      0.86        20\n",
      "           6       1.00      0.75      0.86        20\n",
      "           7       0.71      0.75      0.73        20\n",
      "           8       0.91      0.50      0.65        20\n",
      "           9       0.95      1.00      0.98        20\n",
      "          10       0.95      0.95      0.95        20\n",
      "          11       0.91      1.00      0.95        20\n",
      "          12       0.87      0.65      0.74        20\n",
      "          13       0.86      0.95      0.90        20\n",
      "          14       0.80      1.00      0.89        20\n",
      "          15       1.00      0.60      0.75        20\n",
      "          16       0.79      0.95      0.86        20\n",
      "          17       0.91      1.00      0.95        20\n",
      "          18       1.00      0.80      0.89        20\n",
      "          19       0.87      1.00      0.93        20\n",
      "          20       0.94      0.80      0.86        20\n",
      "          21       0.42      1.00      0.59        20\n",
      "          22       1.00      1.00      1.00        20\n",
      "          23       1.00      0.90      0.95        20\n",
      "          24       0.00      0.00      0.00        20\n",
      "          25       0.91      1.00      0.95        20\n",
      "          26       0.87      0.65      0.74        20\n",
      "          27       0.80      1.00      0.89        20\n",
      "          28       0.43      1.00      0.61        20\n",
      "          29       0.00      0.00      0.00        20\n",
      "          30       0.80      0.80      0.80        20\n",
      "          31       0.33      0.85      0.47        20\n",
      "          32       0.92      0.55      0.69        20\n",
      "          33       0.65      1.00      0.78        20\n",
      "          34       1.00      0.05      0.10        20\n",
      "          35       0.71      1.00      0.83        20\n",
      "          36       0.81      0.85      0.83        20\n",
      "          37       0.89      0.85      0.87        20\n",
      "          38       0.87      1.00      0.93        20\n",
      "          39       0.87      1.00      0.93        20\n",
      "          40       1.00      0.60      0.75        20\n",
      "          41       0.54      1.00      0.70        20\n",
      "          42       0.80      1.00      0.89        20\n",
      "          43       1.00      1.00      1.00        20\n",
      "          44       0.83      1.00      0.91        20\n",
      "          45       0.62      1.00      0.77        20\n",
      "          46       0.59      1.00      0.74        20\n",
      "          47       1.00      0.60      0.75        20\n",
      "          48       0.71      1.00      0.83        20\n",
      "          49       1.00      0.60      0.75        20\n",
      "          50       1.00      0.40      0.57        20\n",
      "          51       1.00      0.95      0.97        20\n",
      "          52       0.95      0.90      0.92        20\n",
      "          53       0.74      1.00      0.85        20\n",
      "          54       1.00      0.70      0.82        20\n",
      "          55       1.00      0.50      0.67        20\n",
      "          56       0.44      1.00      0.62        20\n",
      "          57       1.00      0.20      0.33        20\n",
      "          58       0.56      1.00      0.71        20\n",
      "          59       1.00      0.95      0.97        20\n",
      "          60       1.00      1.00      1.00        20\n",
      "          61       0.80      1.00      0.89        20\n",
      "          62       1.00      0.80      0.89        20\n",
      "          63       1.00      0.70      0.82        20\n",
      "          64       0.74      1.00      0.85        20\n",
      "          65       1.00      0.75      0.86        20\n",
      "          66       0.86      0.30      0.44        20\n",
      "          67       0.73      0.95      0.83        20\n",
      "          68       0.69      0.90      0.78        20\n",
      "          69       0.90      0.95      0.93        20\n",
      "          70       1.00      0.15      0.26        20\n",
      "          71       0.47      0.80      0.59        20\n",
      "          72       1.00      1.00      1.00        20\n",
      "          73       1.00      0.85      0.92        20\n",
      "          74       0.89      0.85      0.87        20\n",
      "          75       1.00      1.00      1.00        20\n",
      "          76       0.39      0.95      0.55        20\n",
      "          77       0.88      0.35      0.50        20\n",
      "          78       0.62      1.00      0.77        20\n",
      "          79       0.68      0.85      0.76        20\n",
      "          80       0.00      0.00      0.00       100\n",
      "          81       1.00      0.25      0.40        20\n",
      "          82       0.80      1.00      0.89        20\n",
      "          83       1.00      0.35      0.52        20\n",
      "          84       0.93      0.70      0.80        20\n",
      "          85       0.63      0.85      0.72        20\n",
      "          86       1.00      1.00      1.00        20\n",
      "          87       0.63      0.95      0.76        20\n",
      "          88       0.83      0.95      0.88        20\n",
      "          89       0.59      0.85      0.69        20\n",
      "          90       0.80      1.00      0.89        20\n",
      "          91       1.00      0.30      0.46        20\n",
      "          92       0.83      0.95      0.88        20\n",
      "          93       0.93      0.70      0.80        20\n",
      "          94       1.00      0.50      0.67        20\n",
      "          95       0.83      0.50      0.62        20\n",
      "          96       1.00      0.70      0.82        20\n",
      "          97       0.95      0.95      0.95        20\n",
      "          98       0.68      0.85      0.76        20\n",
      "          99       0.89      0.85      0.87        20\n",
      "         100       0.59      1.00      0.74        20\n",
      "         101       0.95      1.00      0.98        20\n",
      "         102       0.62      0.75      0.68        20\n",
      "         103       0.90      0.45      0.60        20\n",
      "         104       0.72      0.90      0.80        20\n",
      "         105       0.59      1.00      0.74        20\n",
      "         106       0.83      1.00      0.91        20\n",
      "         107       1.00      1.00      1.00        20\n",
      "         108       0.91      1.00      0.95        20\n",
      "         109       1.00      0.50      0.67        20\n",
      "         110       0.48      1.00      0.65        20\n",
      "         111       0.00      0.00      0.00        20\n",
      "         112       0.64      0.45      0.53        20\n",
      "         113       0.59      0.95      0.73        20\n",
      "         114       0.87      0.65      0.74        20\n",
      "         115       0.95      0.90      0.92        20\n",
      "         116       0.89      0.80      0.84        20\n",
      "         117       0.67      0.20      0.31        20\n",
      "         118       0.91      1.00      0.95        20\n",
      "         119       1.00      0.85      0.92        20\n",
      "         120       0.89      0.85      0.87        20\n",
      "         121       0.50      0.95      0.66        20\n",
      "         122       0.91      1.00      0.95        20\n",
      "         123       0.86      0.95      0.90        20\n",
      "         124       0.95      1.00      0.98        20\n",
      "         125       0.95      1.00      0.98        20\n",
      "         126       0.83      1.00      0.91        20\n",
      "         127       0.64      0.35      0.45        20\n",
      "         128       0.62      1.00      0.77        20\n",
      "         129       1.00      0.95      0.97        20\n",
      "         130       0.75      0.30      0.43        20\n",
      "         131       0.95      0.95      0.95        20\n",
      "         132       0.76      0.95      0.84        20\n",
      "         133       1.00      0.95      0.97        20\n",
      "         134       0.83      1.00      0.91        20\n",
      "         135       1.00      0.55      0.71        20\n",
      "         136       1.00      1.00      1.00        20\n",
      "         137       1.00      0.95      0.97        20\n",
      "         138       0.00      0.00      0.00        20\n",
      "         139       0.85      0.85      0.85        20\n",
      "         140       1.00      0.35      0.52        20\n",
      "         141       0.63      0.95      0.76        20\n",
      "         142       0.82      0.90      0.86        20\n",
      "         143       0.57      1.00      0.73        20\n",
      "         144       0.49      0.90      0.63        20\n",
      "         145       1.00      0.75      0.86        20\n",
      "         146       0.46      0.95      0.62        20\n",
      "         147       0.77      1.00      0.87        20\n",
      "         148       0.79      0.95      0.86        20\n",
      "         149       0.00      0.00      0.00        20\n",
      "         150       0.71      0.50      0.59        20\n",
      "\n",
      "    accuracy                           0.77      3100\n",
      "   macro avg       0.80      0.79      0.76      3100\n",
      "weighted avg       0.78      0.77      0.74      3100\n",
      "\n"
     ]
    },
    {
     "name": "stderr",
     "output_type": "stream",
     "text": [
      "C:\\Users\\moshi\\anaconda3\\lib\\site-packages\\sklearn\\metrics\\_classification.py:1308: UndefinedMetricWarning: Precision and F-score are ill-defined and being set to 0.0 in labels with no predicted samples. Use `zero_division` parameter to control this behavior.\n",
      "  _warn_prf(average, modifier, msg_start, len(result))\n",
      "C:\\Users\\moshi\\anaconda3\\lib\\site-packages\\sklearn\\metrics\\_classification.py:1308: UndefinedMetricWarning: Precision and F-score are ill-defined and being set to 0.0 in labels with no predicted samples. Use `zero_division` parameter to control this behavior.\n",
      "  _warn_prf(average, modifier, msg_start, len(result))\n",
      "C:\\Users\\moshi\\anaconda3\\lib\\site-packages\\sklearn\\metrics\\_classification.py:1308: UndefinedMetricWarning: Precision and F-score are ill-defined and being set to 0.0 in labels with no predicted samples. Use `zero_division` parameter to control this behavior.\n",
      "  _warn_prf(average, modifier, msg_start, len(result))\n"
     ]
    },
    {
     "data": {
      "text/plain": [
       "array([[17,  0,  0, ...,  0,  0,  0],\n",
       "       [ 0, 12,  0, ...,  0,  0,  0],\n",
       "       [ 0,  0, 20, ...,  0,  0,  0],\n",
       "       ...,\n",
       "       [ 0,  0,  0, ..., 19,  0,  0],\n",
       "       [ 0,  0,  0, ...,  5,  0,  0],\n",
       "       [ 0,  0,  0, ...,  0,  0, 10]], dtype=int64)"
      ]
     },
     "execution_count": 26,
     "metadata": {},
     "output_type": "execute_result"
    }
   ],
   "source": [
    "learner.validate(val_data=(val),)"
   ]
  },
  {
   "cell_type": "code",
   "execution_count": null,
   "id": "d709cb94",
   "metadata": {},
   "outputs": [],
   "source": []
  }
 ],
 "metadata": {
  "kernelspec": {
   "display_name": "Python 3 (ipykernel)",
   "language": "python",
   "name": "python3"
  },
  "language_info": {
   "codemirror_mode": {
    "name": "ipython",
    "version": 3
   },
   "file_extension": ".py",
   "mimetype": "text/x-python",
   "name": "python",
   "nbconvert_exporter": "python",
   "pygments_lexer": "ipython3",
   "version": "3.8.12"
  }
 },
 "nbformat": 4,
 "nbformat_minor": 5
}
