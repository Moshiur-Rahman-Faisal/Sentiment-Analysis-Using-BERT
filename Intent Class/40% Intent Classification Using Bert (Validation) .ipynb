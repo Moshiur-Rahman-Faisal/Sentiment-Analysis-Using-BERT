{
 "cells": [
  {
   "cell_type": "code",
   "execution_count": 1,
   "id": "d32533c5",
   "metadata": {},
   "outputs": [],
   "source": [
    "import pandas as pd\n",
    "import numpy as np\n"
   ]
  },
  {
   "cell_type": "code",
   "execution_count": 2,
   "id": "bba016ba",
   "metadata": {
    "scrolled": true
   },
   "outputs": [],
   "source": [
    "#reading dataset\n",
    "df = pd.read_csv('train.csv',encoding= 'unicode_escape')  \n",
    "#val_df = pd.read_excel('val.xlsx')\n",
    "test_df = pd.read_csv('val.csv',encoding= 'unicode_escape')\n"
   ]
  },
  {
   "cell_type": "code",
   "execution_count": 3,
   "id": "7076cc1c",
   "metadata": {},
   "outputs": [
    {
     "name": "stdout",
     "output_type": "stream",
     "text": [
      "size of training set: 6040\n",
      "size of validation set: 3100\n"
     ]
    },
    {
     "data": {
      "text/html": [
       "<div>\n",
       "<style scoped>\n",
       "    .dataframe tbody tr th:only-of-type {\n",
       "        vertical-align: middle;\n",
       "    }\n",
       "\n",
       "    .dataframe tbody tr th {\n",
       "        vertical-align: top;\n",
       "    }\n",
       "\n",
       "    .dataframe thead th {\n",
       "        text-align: right;\n",
       "    }\n",
       "</style>\n",
       "<table border=\"1\" class=\"dataframe\">\n",
       "  <thead>\n",
       "    <tr style=\"text-align: right;\">\n",
       "      <th></th>\n",
       "      <th>Utterance</th>\n",
       "      <th>Intent</th>\n",
       "    </tr>\n",
       "  </thead>\n",
       "  <tbody>\n",
       "    <tr>\n",
       "      <th>10045</th>\n",
       "      <td>i can't remember when my car last went to the ...</td>\n",
       "      <td>last_maintenance</td>\n",
       "    </tr>\n",
       "    <tr>\n",
       "      <th>2656</th>\n",
       "      <td>can you confirm my reservation for 6 pm on the...</td>\n",
       "      <td>confirm_reservation</td>\n",
       "    </tr>\n",
       "    <tr>\n",
       "      <th>5956</th>\n",
       "      <td>please give me today's date</td>\n",
       "      <td>date</td>\n",
       "    </tr>\n",
       "    <tr>\n",
       "      <th>838</th>\n",
       "      <td>would you be able to tell me how to make a vac...</td>\n",
       "      <td>pto_request</td>\n",
       "    </tr>\n",
       "    <tr>\n",
       "      <th>8320</th>\n",
       "      <td>can i book a meeting room from 2:00 pm to 3:00 pm</td>\n",
       "      <td>schedule_meeting</td>\n",
       "    </tr>\n",
       "    <tr>\n",
       "      <th>1781</th>\n",
       "      <td>toss a coin i will take tails</td>\n",
       "      <td>flip_coin</td>\n",
       "    </tr>\n",
       "    <tr>\n",
       "      <th>3468</th>\n",
       "      <td>help me get access to my recent transaction hi...</td>\n",
       "      <td>transactions</td>\n",
       "    </tr>\n",
       "    <tr>\n",
       "      <th>3011</th>\n",
       "      <td>it takes how long to get to the beach in santa...</td>\n",
       "      <td>distance</td>\n",
       "    </tr>\n",
       "    <tr>\n",
       "      <th>8197</th>\n",
       "      <td>will you tell me my routing number</td>\n",
       "      <td>routing</td>\n",
       "    </tr>\n",
       "    <tr>\n",
       "      <th>11797</th>\n",
       "      <td>can you help me spell facetiousness</td>\n",
       "      <td>spelling</td>\n",
       "    </tr>\n",
       "  </tbody>\n",
       "</table>\n",
       "</div>"
      ],
      "text/plain": [
       "                                               Utterance               Intent\n",
       "10045  i can't remember when my car last went to the ...     last_maintenance\n",
       "2656   can you confirm my reservation for 6 pm on the...  confirm_reservation\n",
       "5956                         please give me today's date                 date\n",
       "838    would you be able to tell me how to make a vac...          pto_request\n",
       "8320   can i book a meeting room from 2:00 pm to 3:00 pm     schedule_meeting\n",
       "1781                       toss a coin i will take tails            flip_coin\n",
       "3468   help me get access to my recent transaction hi...         transactions\n",
       "3011   it takes how long to get to the beach in santa...             distance\n",
       "8197                  will you tell me my routing number              routing\n",
       "11797                can you help me spell facetiousness             spelling"
      ]
     },
     "execution_count": 3,
     "metadata": {},
     "output_type": "execute_result"
    }
   ],
   "source": [
    "train_df=df.sample(frac = 0.4)\n",
    "\n",
    "print('size of training set: %s' % (len(train_df['Utterance'])))\n",
    "print('size of validation set: %s' % (len(test_df ['Utterance'])))\n",
    "\n",
    "\n",
    "train_df.head(10)"
   ]
  },
  {
   "cell_type": "code",
   "execution_count": 4,
   "id": "3c2ae414",
   "metadata": {},
   "outputs": [
    {
     "name": "stdout",
     "output_type": "stream",
     "text": [
      "<class 'pandas.core.frame.DataFrame'>\n",
      "Int64Index: 6040 entries, 10045 to 9811\n",
      "Data columns (total 2 columns):\n",
      " #   Column     Non-Null Count  Dtype \n",
      "---  ------     --------------  ----- \n",
      " 0   Utterance  6040 non-null   object\n",
      " 1   Intent     6040 non-null   object\n",
      "dtypes: object(2)\n",
      "memory usage: 141.6+ KB\n",
      "\n",
      "<class 'pandas.core.frame.DataFrame'>\n",
      "RangeIndex: 3100 entries, 0 to 3099\n",
      "Data columns (total 2 columns):\n",
      " #   Column     Non-Null Count  Dtype \n",
      "---  ------     --------------  ----- \n",
      " 0   Utterance  3100 non-null   object\n",
      " 1   Intent     3100 non-null   object\n",
      "dtypes: object(2)\n",
      "memory usage: 48.6+ KB\n",
      "\n"
     ]
    }
   ],
   "source": [
    "train_df.info()\n",
    "print()\n",
    "test_df.info()\n",
    "print()"
   ]
  },
  {
   "cell_type": "code",
   "execution_count": 5,
   "id": "af940788",
   "metadata": {
    "scrolled": true
   },
   "outputs": [
    {
     "data": {
      "text/html": [
       "<div>\n",
       "<style scoped>\n",
       "    .dataframe tbody tr th:only-of-type {\n",
       "        vertical-align: middle;\n",
       "    }\n",
       "\n",
       "    .dataframe tbody tr th {\n",
       "        vertical-align: top;\n",
       "    }\n",
       "\n",
       "    .dataframe thead th {\n",
       "        text-align: right;\n",
       "    }\n",
       "</style>\n",
       "<table border=\"1\" class=\"dataframe\">\n",
       "  <thead>\n",
       "    <tr style=\"text-align: right;\">\n",
       "      <th></th>\n",
       "      <th>Utterance</th>\n",
       "      <th>Intent</th>\n",
       "    </tr>\n",
       "  </thead>\n",
       "  <tbody>\n",
       "    <tr>\n",
       "      <th>10045</th>\n",
       "      <td>i can't remember when my car last went to the ...</td>\n",
       "      <td>last_maintenance</td>\n",
       "    </tr>\n",
       "    <tr>\n",
       "      <th>2656</th>\n",
       "      <td>can you confirm my reservation for 6 pm on the...</td>\n",
       "      <td>confirm_reservation</td>\n",
       "    </tr>\n",
       "    <tr>\n",
       "      <th>5956</th>\n",
       "      <td>please give me today's date</td>\n",
       "      <td>date</td>\n",
       "    </tr>\n",
       "    <tr>\n",
       "      <th>838</th>\n",
       "      <td>would you be able to tell me how to make a vac...</td>\n",
       "      <td>pto_request</td>\n",
       "    </tr>\n",
       "    <tr>\n",
       "      <th>8320</th>\n",
       "      <td>can i book a meeting room from 2:00 pm to 3:00 pm</td>\n",
       "      <td>schedule_meeting</td>\n",
       "    </tr>\n",
       "  </tbody>\n",
       "</table>\n",
       "</div>"
      ],
      "text/plain": [
       "                                               Utterance               Intent\n",
       "10045  i can't remember when my car last went to the ...     last_maintenance\n",
       "2656   can you confirm my reservation for 6 pm on the...  confirm_reservation\n",
       "5956                         please give me today's date                 date\n",
       "838    would you be able to tell me how to make a vac...          pto_request\n",
       "8320   can i book a meeting room from 2:00 pm to 3:00 pm     schedule_meeting"
      ]
     },
     "execution_count": 5,
     "metadata": {},
     "output_type": "execute_result"
    }
   ],
   "source": [
    "train_df.head()"
   ]
  },
  {
   "cell_type": "code",
   "execution_count": 6,
   "id": "45929acb",
   "metadata": {},
   "outputs": [
    {
     "data": {
      "text/html": [
       "<div>\n",
       "<style scoped>\n",
       "    .dataframe tbody tr th:only-of-type {\n",
       "        vertical-align: middle;\n",
       "    }\n",
       "\n",
       "    .dataframe tbody tr th {\n",
       "        vertical-align: top;\n",
       "    }\n",
       "\n",
       "    .dataframe thead th {\n",
       "        text-align: right;\n",
       "    }\n",
       "</style>\n",
       "<table border=\"1\" class=\"dataframe\">\n",
       "  <thead>\n",
       "    <tr style=\"text-align: right;\">\n",
       "      <th></th>\n",
       "      <th>Utterance</th>\n",
       "      <th>Intent</th>\n",
       "    </tr>\n",
       "  </thead>\n",
       "  <tbody>\n",
       "    <tr>\n",
       "      <th>0</th>\n",
       "      <td>in spanish, meet me tomorrow is said how</td>\n",
       "      <td>translate</td>\n",
       "    </tr>\n",
       "    <tr>\n",
       "      <th>1</th>\n",
       "      <td>in french, how do i say, see you later</td>\n",
       "      <td>translate</td>\n",
       "    </tr>\n",
       "    <tr>\n",
       "      <th>2</th>\n",
       "      <td>how do you say hello in japanese</td>\n",
       "      <td>translate</td>\n",
       "    </tr>\n",
       "    <tr>\n",
       "      <th>3</th>\n",
       "      <td>how do i ask about the weather in chinese</td>\n",
       "      <td>translate</td>\n",
       "    </tr>\n",
       "    <tr>\n",
       "      <th>4</th>\n",
       "      <td>how can i say \"cancel my order\" in french</td>\n",
       "      <td>translate</td>\n",
       "    </tr>\n",
       "  </tbody>\n",
       "</table>\n",
       "</div>"
      ],
      "text/plain": [
       "                                   Utterance     Intent\n",
       "0   in spanish, meet me tomorrow is said how  translate\n",
       "1     in french, how do i say, see you later  translate\n",
       "2           how do you say hello in japanese  translate\n",
       "3  how do i ask about the weather in chinese  translate\n",
       "4  how can i say \"cancel my order\" in french  translate"
      ]
     },
     "execution_count": 6,
     "metadata": {},
     "output_type": "execute_result"
    }
   ],
   "source": [
    "test_df.head()"
   ]
  },
  {
   "cell_type": "code",
   "execution_count": 7,
   "id": "ddea7301",
   "metadata": {},
   "outputs": [
    {
     "data": {
      "text/plain": [
       "how_busy             54\n",
       "travel_alert         51\n",
       "smart_home           50\n",
       "plug_type            50\n",
       "pto_used             49\n",
       "                     ..\n",
       "spelling             31\n",
       "what_is_your_name    31\n",
       "jump_start           31\n",
       "nutrition_info       28\n",
       "traffic              28\n",
       "Name: Intent, Length: 151, dtype: int64"
      ]
     },
     "execution_count": 7,
     "metadata": {},
     "output_type": "execute_result"
    }
   ],
   "source": [
    "train_df[\"Intent\"].value_counts()"
   ]
  },
  {
   "cell_type": "code",
   "execution_count": 8,
   "id": "7ba86599",
   "metadata": {},
   "outputs": [
    {
     "data": {
      "text/plain": [
       "oos                   100\n",
       "pin_change             20\n",
       "account_blocked        20\n",
       "what_song              20\n",
       "international_fees     20\n",
       "                     ... \n",
       "change_speed           20\n",
       "tire_pressure          20\n",
       "no                     20\n",
       "apr                    20\n",
       "change_accent          20\n",
       "Name: Intent, Length: 151, dtype: int64"
      ]
     },
     "execution_count": 8,
     "metadata": {},
     "output_type": "execute_result"
    }
   ],
   "source": [
    "test_df[\"Intent\"].value_counts()"
   ]
  },
  {
   "cell_type": "code",
   "execution_count": 9,
   "id": "5b9970cc",
   "metadata": {},
   "outputs": [],
   "source": [
    "Train_review = train_df[\"Utterance\"].values.tolist()\n",
    "Train_sentiment = train_df[\"Intent\"].tolist() "
   ]
  },
  {
   "cell_type": "code",
   "execution_count": 10,
   "id": "64e8f1b0",
   "metadata": {},
   "outputs": [],
   "source": [
    "Test_review = test_df[\"Utterance\"].values.tolist()\n",
    "Test_sentiment = test_df[\"Intent\"].tolist() "
   ]
  },
  {
   "cell_type": "code",
   "execution_count": 11,
   "id": "badf156e",
   "metadata": {},
   "outputs": [],
   "source": [
    "x_train, x_test, y_train, y_test = Train_review, Test_review, Train_sentiment, Test_sentiment"
   ]
  },
  {
   "cell_type": "code",
   "execution_count": 12,
   "id": "fe9e61fb",
   "metadata": {},
   "outputs": [],
   "source": [
    "import ktrain\n",
    "from ktrain import text\n",
    "MODEL_NAME = 'bert-base-uncased'\n",
    "t = text.Transformer(MODEL_NAME, maxlen=500)\n"
   ]
  },
  {
   "cell_type": "code",
   "execution_count": 13,
   "id": "c269013f",
   "metadata": {},
   "outputs": [
    {
     "name": "stdout",
     "output_type": "stream",
     "text": [
      "preprocessing train...\n",
      "language: en\n",
      "train sequence lengths:\n",
      "\tmean : 8\n",
      "\t95percentile : 14\n",
      "\t99percentile : 17\n"
     ]
    },
    {
     "data": {
      "text/html": [],
      "text/plain": [
       "<IPython.core.display.HTML object>"
      ]
     },
     "metadata": {},
     "output_type": "display_data"
    },
    {
     "name": "stdout",
     "output_type": "stream",
     "text": [
      "Is Multi-Label? False\n",
      "preprocessing test...\n",
      "language: en\n",
      "test sequence lengths:\n",
      "\tmean : 8\n",
      "\t95percentile : 15\n",
      "\t99percentile : 19\n"
     ]
    },
    {
     "data": {
      "text/html": [],
      "text/plain": [
       "<IPython.core.display.HTML object>"
      ]
     },
     "metadata": {},
     "output_type": "display_data"
    }
   ],
   "source": [
    "trn = t.preprocess_train(x_train, y_train)\n",
    "val = t.preprocess_test(x_test, y_test)"
   ]
  },
  {
   "cell_type": "code",
   "execution_count": 14,
   "id": "69d54231",
   "metadata": {
    "scrolled": false
   },
   "outputs": [],
   "source": [
    "model = t.get_classifier()"
   ]
  },
  {
   "cell_type": "code",
   "execution_count": 15,
   "id": "7070ffb4",
   "metadata": {},
   "outputs": [],
   "source": [
    "learner = ktrain.get_learner(model, train_data=trn, val_data=val, batch_size=6)"
   ]
  },
  {
   "cell_type": "code",
   "execution_count": 16,
   "id": "e1e76e69",
   "metadata": {
    "scrolled": false
   },
   "outputs": [
    {
     "name": "stdout",
     "output_type": "stream",
     "text": [
      "\n",
      "\n",
      "begin training using onecycle policy with max lr of 2e-05...\n",
      "Epoch 1/4\n",
      "1007/1007 [==============================] - 10148s 10s/step - loss: 4.8410 - accuracy: 0.0364 - val_loss: 4.3670 - val_accuracy: 0.1810\n",
      "Epoch 2/4\n",
      "1007/1007 [==============================] - 10002s 10s/step - loss: 3.5935 - accuracy: 0.5124 - val_loss: 2.7359 - val_accuracy: 0.7197\n",
      "Epoch 3/4\n",
      "1007/1007 [==============================] - 10559s 10s/step - loss: 2.0196 - accuracy: 0.8485 - val_loss: 1.5767 - val_accuracy: 0.8555\n",
      "Epoch 4/4\n",
      "1007/1007 [==============================] - 10184s 10s/step - loss: 1.2518 - accuracy: 0.9515 - val_loss: 1.2755 - val_accuracy: 0.8865\n"
     ]
    },
    {
     "data": {
      "text/plain": [
       "<tensorflow.python.keras.callbacks.History at 0x1b91eab2b80>"
      ]
     },
     "execution_count": 16,
     "metadata": {},
     "output_type": "execute_result"
    }
   ],
   "source": [
    "learner.fit_onecycle(2e-5, 4)"
   ]
  },
  {
   "cell_type": "code",
   "execution_count": 17,
   "id": "b9ccd39f",
   "metadata": {
    "scrolled": true
   },
   "outputs": [
    {
     "name": "stdout",
     "output_type": "stream",
     "text": [
      "              precision    recall  f1-score   support\n",
      "\n",
      "           0       0.90      0.95      0.93        20\n",
      "           1       0.86      0.95      0.90        20\n",
      "           2       1.00      1.00      1.00        20\n",
      "           3       0.87      1.00      0.93        20\n",
      "           4       1.00      0.95      0.97        20\n",
      "           5       1.00      0.95      0.97        20\n",
      "           6       0.89      0.80      0.84        20\n",
      "           7       0.74      0.85      0.79        20\n",
      "           8       0.83      1.00      0.91        20\n",
      "           9       1.00      1.00      1.00        20\n",
      "          10       1.00      0.90      0.95        20\n",
      "          11       0.83      1.00      0.91        20\n",
      "          12       0.75      0.75      0.75        20\n",
      "          13       0.94      0.80      0.86        20\n",
      "          14       0.87      1.00      0.93        20\n",
      "          15       1.00      0.90      0.95        20\n",
      "          16       0.83      0.95      0.88        20\n",
      "          17       0.95      1.00      0.98        20\n",
      "          18       0.53      1.00      0.69        20\n",
      "          19       1.00      1.00      1.00        20\n",
      "          20       0.94      0.80      0.86        20\n",
      "          21       0.69      1.00      0.82        20\n",
      "          22       1.00      1.00      1.00        20\n",
      "          23       1.00      1.00      1.00        20\n",
      "          24       0.76      0.65      0.70        20\n",
      "          25       0.95      1.00      0.98        20\n",
      "          26       1.00      0.80      0.89        20\n",
      "          27       1.00      1.00      1.00        20\n",
      "          28       1.00      0.95      0.97        20\n",
      "          29       0.95      1.00      0.98        20\n",
      "          30       0.63      0.95      0.76        20\n",
      "          31       0.74      0.85      0.79        20\n",
      "          32       0.57      0.20      0.30        20\n",
      "          33       0.77      1.00      0.87        20\n",
      "          34       0.67      1.00      0.80        20\n",
      "          35       0.95      1.00      0.98        20\n",
      "          36       0.95      1.00      0.98        20\n",
      "          37       0.91      1.00      0.95        20\n",
      "          38       0.87      1.00      0.93        20\n",
      "          39       0.95      1.00      0.98        20\n",
      "          40       0.92      0.60      0.73        20\n",
      "          41       0.95      1.00      0.98        20\n",
      "          42       1.00      1.00      1.00        20\n",
      "          43       1.00      1.00      1.00        20\n",
      "          44       0.90      0.95      0.93        20\n",
      "          45       0.74      1.00      0.85        20\n",
      "          46       0.95      1.00      0.98        20\n",
      "          47       0.95      0.95      0.95        20\n",
      "          48       1.00      0.75      0.86        20\n",
      "          49       0.95      0.90      0.92        20\n",
      "          50       0.86      0.95      0.90        20\n",
      "          51       0.80      1.00      0.89        20\n",
      "          52       0.95      1.00      0.98        20\n",
      "          53       0.92      0.60      0.73        20\n",
      "          54       0.90      0.90      0.90        20\n",
      "          55       0.79      0.95      0.86        20\n",
      "          56       0.68      0.95      0.79        20\n",
      "          57       0.90      0.95      0.93        20\n",
      "          58       1.00      1.00      1.00        20\n",
      "          59       0.95      1.00      0.98        20\n",
      "          60       0.95      1.00      0.98        20\n",
      "          61       1.00      1.00      1.00        20\n",
      "          62       1.00      0.90      0.95        20\n",
      "          63       0.89      0.85      0.87        20\n",
      "          64       0.95      1.00      0.98        20\n",
      "          65       0.95      1.00      0.98        20\n",
      "          66       1.00      0.95      0.97        20\n",
      "          67       0.95      1.00      0.98        20\n",
      "          68       0.73      0.95      0.83        20\n",
      "          69       1.00      0.95      0.97        20\n",
      "          70       1.00      0.85      0.92        20\n",
      "          71       0.85      0.85      0.85        20\n",
      "          72       0.80      1.00      0.89        20\n",
      "          73       0.85      0.85      0.85        20\n",
      "          74       0.91      1.00      0.95        20\n",
      "          75       1.00      0.90      0.95        20\n",
      "          76       0.95      0.90      0.92        20\n",
      "          77       1.00      0.45      0.62        20\n",
      "          78       0.83      1.00      0.91        20\n",
      "          79       0.83      0.95      0.88        20\n",
      "          80       1.00      0.03      0.06       100\n",
      "          81       0.86      0.95      0.90        20\n",
      "          82       0.87      1.00      0.93        20\n",
      "          83       1.00      0.85      0.92        20\n",
      "          84       1.00      0.85      0.92        20\n",
      "          85       0.94      0.80      0.86        20\n",
      "          86       1.00      1.00      1.00        20\n",
      "          87       0.64      0.90      0.75        20\n",
      "          88       0.87      1.00      0.93        20\n",
      "          89       0.84      0.80      0.82        20\n",
      "          90       0.95      1.00      0.98        20\n",
      "          91       1.00      0.80      0.89        20\n",
      "          92       0.80      1.00      0.89        20\n",
      "          93       0.83      0.95      0.88        20\n",
      "          94       0.94      0.85      0.89        20\n",
      "          95       0.94      0.75      0.83        20\n",
      "          96       0.95      0.95      0.95        20\n",
      "          97       0.94      0.85      0.89        20\n",
      "          98       0.82      0.90      0.86        20\n",
      "          99       1.00      0.80      0.89        20\n",
      "         100       1.00      0.95      0.97        20\n",
      "         101       0.95      1.00      0.98        20\n",
      "         102       0.75      0.75      0.75        20\n",
      "         103       0.83      0.95      0.88        20\n",
      "         104       0.95      0.95      0.95        20\n",
      "         105       0.87      1.00      0.93        20\n",
      "         106       0.87      1.00      0.93        20\n",
      "         107       1.00      1.00      1.00        20\n",
      "         108       1.00      1.00      1.00        20\n",
      "         109       1.00      0.50      0.67        20\n",
      "         110       0.91      1.00      0.95        20\n",
      "         111       1.00      0.75      0.86        20\n",
      "         112       0.88      0.75      0.81        20\n",
      "         113       0.82      0.90      0.86        20\n",
      "         114       0.86      0.95      0.90        20\n",
      "         115       1.00      0.95      0.97        20\n",
      "         116       0.90      0.95      0.93        20\n",
      "         117       0.95      0.95      0.95        20\n",
      "         118       0.87      1.00      0.93        20\n",
      "         119       1.00      1.00      1.00        20\n",
      "         120       1.00      0.85      0.92        20\n",
      "         121       0.91      1.00      0.95        20\n",
      "         122       0.95      1.00      0.98        20\n",
      "         123       1.00      0.95      0.97        20\n",
      "         124       0.91      1.00      0.95        20\n",
      "         125       0.91      1.00      0.95        20\n",
      "         126       0.69      1.00      0.82        20\n",
      "         127       0.71      0.85      0.77        20\n",
      "         128       0.78      0.70      0.74        20\n",
      "         129       1.00      0.95      0.97        20\n",
      "         130       1.00      0.70      0.82        20\n",
      "         131       1.00      1.00      1.00        20\n",
      "         132       1.00      1.00      1.00        20\n",
      "         133       1.00      1.00      1.00        20\n",
      "         134       1.00      1.00      1.00        20\n",
      "         135       0.82      0.90      0.86        20\n",
      "         136       1.00      1.00      1.00        20\n",
      "         137       0.93      0.70      0.80        20\n",
      "         138       0.48      0.80      0.60        20\n",
      "         139       0.87      1.00      0.93        20\n",
      "         140       0.95      1.00      0.98        20\n",
      "         141       0.95      0.95      0.95        20\n",
      "         142       0.86      0.95      0.90        20\n",
      "         143       0.67      1.00      0.80        20\n",
      "         144       1.00      0.05      0.10        20\n",
      "         145       0.77      1.00      0.87        20\n",
      "         146       0.86      0.95      0.90        20\n",
      "         147       1.00      1.00      1.00        20\n",
      "         148       0.91      1.00      0.95        20\n",
      "         149       0.86      0.95      0.90        20\n",
      "         150       0.90      0.95      0.93        20\n",
      "\n",
      "    accuracy                           0.89      3100\n",
      "   macro avg       0.90      0.91      0.89      3100\n",
      "weighted avg       0.90      0.89      0.87      3100\n",
      "\n"
     ]
    },
    {
     "data": {
      "text/plain": [
       "array([[19,  0,  0, ...,  0,  0,  0],\n",
       "       [ 0, 19,  0, ...,  0,  0,  0],\n",
       "       [ 0,  0, 20, ...,  0,  0,  0],\n",
       "       ...,\n",
       "       [ 0,  0,  0, ..., 20,  0,  0],\n",
       "       [ 0,  0,  0, ...,  0, 19,  0],\n",
       "       [ 0,  0,  0, ...,  0,  0, 19]], dtype=int64)"
      ]
     },
     "execution_count": 17,
     "metadata": {},
     "output_type": "execute_result"
    }
   ],
   "source": [
    "learner.validate(val_data=(val),)"
   ]
  },
  {
   "cell_type": "code",
   "execution_count": null,
   "id": "d709cb94",
   "metadata": {},
   "outputs": [],
   "source": []
  }
 ],
 "metadata": {
  "kernelspec": {
   "display_name": "Python 3 (ipykernel)",
   "language": "python",
   "name": "python3"
  },
  "language_info": {
   "codemirror_mode": {
    "name": "ipython",
    "version": 3
   },
   "file_extension": ".py",
   "mimetype": "text/x-python",
   "name": "python",
   "nbconvert_exporter": "python",
   "pygments_lexer": "ipython3",
   "version": "3.8.12"
  }
 },
 "nbformat": 4,
 "nbformat_minor": 5
}
