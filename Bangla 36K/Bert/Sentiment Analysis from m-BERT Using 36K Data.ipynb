{
 "cells": [
  {
   "cell_type": "code",
   "execution_count": 1,
   "id": "d32533c5",
   "metadata": {},
   "outputs": [],
   "source": [
    "import pandas as pd\n",
    "import numpy as np\n"
   ]
  },
  {
   "cell_type": "code",
   "execution_count": 2,
   "id": "bba016ba",
   "metadata": {
    "scrolled": true
   },
   "outputs": [],
   "source": [
    "df= pd.read_excel('Dataset.xlsx') \n",
    "\n"
   ]
  },
  {
   "cell_type": "code",
   "execution_count": 3,
   "id": "3c2ae414",
   "metadata": {},
   "outputs": [
    {
     "data": {
      "text/html": [
       "<div>\n",
       "<style scoped>\n",
       "    .dataframe tbody tr th:only-of-type {\n",
       "        vertical-align: middle;\n",
       "    }\n",
       "\n",
       "    .dataframe tbody tr th {\n",
       "        vertical-align: top;\n",
       "    }\n",
       "\n",
       "    .dataframe thead th {\n",
       "        text-align: right;\n",
       "    }\n",
       "</style>\n",
       "<table border=\"1\" class=\"dataframe\">\n",
       "  <thead>\n",
       "    <tr style=\"text-align: right;\">\n",
       "      <th></th>\n",
       "      <th>SL</th>\n",
       "      <th>Emotion</th>\n",
       "      <th>Text</th>\n",
       "      <th>Year</th>\n",
       "      <th>Racial Biases</th>\n",
       "      <th>Hatred Percentage</th>\n",
       "      <th>Depression Percentage</th>\n",
       "    </tr>\n",
       "  </thead>\n",
       "  <tbody>\n",
       "    <tr>\n",
       "      <th>0</th>\n",
       "      <td>1</td>\n",
       "      <td>disgust</td>\n",
       "      <td>নির্বাচনের আগের রাতে সুষ্টু শান্তিপূর্ণ ভাবে ভ...</td>\n",
       "      <td>2016</td>\n",
       "      <td>NaN</td>\n",
       "      <td>NaN</td>\n",
       "      <td>NaN</td>\n",
       "    </tr>\n",
       "    <tr>\n",
       "      <th>1</th>\n",
       "      <td>2</td>\n",
       "      <td>disgust</td>\n",
       "      <td>জনগণ মনের আনন্দে নিজেদের ভোট কাস্ট করে দেশদ্রো...</td>\n",
       "      <td>2016</td>\n",
       "      <td>NaN</td>\n",
       "      <td>NaN</td>\n",
       "      <td>NaN</td>\n",
       "    </tr>\n",
       "    <tr>\n",
       "      <th>2</th>\n",
       "      <td>3</td>\n",
       "      <td>angry</td>\n",
       "      <td>ভেজাল নির্বাচন ।</td>\n",
       "      <td>2016</td>\n",
       "      <td>NaN</td>\n",
       "      <td>NaN</td>\n",
       "      <td>NaN</td>\n",
       "    </tr>\n",
       "    <tr>\n",
       "      <th>3</th>\n",
       "      <td>4</td>\n",
       "      <td>happy</td>\n",
       "      <td>বিএনপি ও রাজাকার সমর্থকরা হেরে গেলে দেশের জন্য...</td>\n",
       "      <td>2016</td>\n",
       "      <td>NaN</td>\n",
       "      <td>NaN</td>\n",
       "      <td>NaN</td>\n",
       "    </tr>\n",
       "    <tr>\n",
       "      <th>4</th>\n",
       "      <td>5</td>\n",
       "      <td>angry</td>\n",
       "      <td>সূক্ষ্ম কারচুপি বলে এতদিন একটা কথার কথা ছিল, এ...</td>\n",
       "      <td>2016</td>\n",
       "      <td>NaN</td>\n",
       "      <td>NaN</td>\n",
       "      <td>NaN</td>\n",
       "    </tr>\n",
       "  </tbody>\n",
       "</table>\n",
       "</div>"
      ],
      "text/plain": [
       "   SL  Emotion                                               Text  Year  \\\n",
       "0   1  disgust  নির্বাচনের আগের রাতে সুষ্টু শান্তিপূর্ণ ভাবে ভ...  2016   \n",
       "1   2  disgust  জনগণ মনের আনন্দে নিজেদের ভোট কাস্ট করে দেশদ্রো...  2016   \n",
       "2   3    angry                                   ভেজাল নির্বাচন ।  2016   \n",
       "3   4    happy  বিএনপি ও রাজাকার সমর্থকরা হেরে গেলে দেশের জন্য...  2016   \n",
       "4   5    angry  সূক্ষ্ম কারচুপি বলে এতদিন একটা কথার কথা ছিল, এ...  2016   \n",
       "\n",
       "   Racial Biases  Hatred Percentage  Depression Percentage  \n",
       "0            NaN                NaN                    NaN  \n",
       "1            NaN                NaN                    NaN  \n",
       "2            NaN                NaN                    NaN  \n",
       "3            NaN                NaN                    NaN  \n",
       "4            NaN                NaN                    NaN  "
      ]
     },
     "execution_count": 3,
     "metadata": {},
     "output_type": "execute_result"
    }
   ],
   "source": [
    "df.head()"
   ]
  },
  {
   "cell_type": "code",
   "execution_count": 4,
   "id": "af940788",
   "metadata": {
    "scrolled": true
   },
   "outputs": [
    {
     "data": {
      "text/html": [
       "<div>\n",
       "<style scoped>\n",
       "    .dataframe tbody tr th:only-of-type {\n",
       "        vertical-align: middle;\n",
       "    }\n",
       "\n",
       "    .dataframe tbody tr th {\n",
       "        vertical-align: top;\n",
       "    }\n",
       "\n",
       "    .dataframe thead th {\n",
       "        text-align: right;\n",
       "    }\n",
       "</style>\n",
       "<table border=\"1\" class=\"dataframe\">\n",
       "  <thead>\n",
       "    <tr style=\"text-align: right;\">\n",
       "      <th></th>\n",
       "      <th>SL</th>\n",
       "      <th>Emotion</th>\n",
       "      <th>Text</th>\n",
       "      <th>Year</th>\n",
       "      <th>Racial Biases</th>\n",
       "      <th>Hatred Percentage</th>\n",
       "      <th>Depression Percentage</th>\n",
       "    </tr>\n",
       "  </thead>\n",
       "  <tbody>\n",
       "    <tr>\n",
       "      <th>35995</th>\n",
       "      <td>35996</td>\n",
       "      <td>surprise</td>\n",
       "      <td>ভারতের মতো একটা বিশাল দেশে এত অঙ্গরাজ্য যে সব ...</td>\n",
       "      <td>2021</td>\n",
       "      <td>NaN</td>\n",
       "      <td>NaN</td>\n",
       "      <td>NaN</td>\n",
       "    </tr>\n",
       "    <tr>\n",
       "      <th>35996</th>\n",
       "      <td>35997</td>\n",
       "      <td>surprise</td>\n",
       "      <td>২৪, ৫০, এমনকি কারো কারো মতে ৬০ জন।</td>\n",
       "      <td>2021</td>\n",
       "      <td>NaN</td>\n",
       "      <td>NaN</td>\n",
       "      <td>NaN</td>\n",
       "    </tr>\n",
       "    <tr>\n",
       "      <th>35997</th>\n",
       "      <td>35998</td>\n",
       "      <td>surprise</td>\n",
       "      <td>এদের মধ্য থেকে ২৭ জনকে রাজা বিয়ে দিয়েছিল চন্দ্...</td>\n",
       "      <td>2021</td>\n",
       "      <td>NaN</td>\n",
       "      <td>NaN</td>\n",
       "      <td>NaN</td>\n",
       "    </tr>\n",
       "    <tr>\n",
       "      <th>35998</th>\n",
       "      <td>35999</td>\n",
       "      <td>surprise</td>\n",
       "      <td>ওয়াকফের শাব্দিক অর্থ কোনো কিছু আটকে রাখা, উৎসর...</td>\n",
       "      <td>2021</td>\n",
       "      <td>NaN</td>\n",
       "      <td>NaN</td>\n",
       "      <td>NaN</td>\n",
       "    </tr>\n",
       "    <tr>\n",
       "      <th>35999</th>\n",
       "      <td>36000</td>\n",
       "      <td>surprise</td>\n",
       "      <td>তৃণমূলের সাবেক মন্ত্রী শুভেন্দু সম্প্রতি মমতা...</td>\n",
       "      <td>2021</td>\n",
       "      <td>NaN</td>\n",
       "      <td>NaN</td>\n",
       "      <td>NaN</td>\n",
       "    </tr>\n",
       "  </tbody>\n",
       "</table>\n",
       "</div>"
      ],
      "text/plain": [
       "          SL   Emotion                                               Text  \\\n",
       "35995  35996  surprise  ভারতের মতো একটা বিশাল দেশে এত অঙ্গরাজ্য যে সব ...   \n",
       "35996  35997  surprise                ২৪, ৫০, এমনকি কারো কারো মতে ৬০ জন।    \n",
       "35997  35998  surprise  এদের মধ্য থেকে ২৭ জনকে রাজা বিয়ে দিয়েছিল চন্দ্...   \n",
       "35998  35999  surprise  ওয়াকফের শাব্দিক অর্থ কোনো কিছু আটকে রাখা, উৎসর...   \n",
       "35999  36000  surprise   তৃণমূলের সাবেক মন্ত্রী শুভেন্দু সম্প্রতি মমতা...   \n",
       "\n",
       "       Year  Racial Biases  Hatred Percentage  Depression Percentage  \n",
       "35995  2021            NaN                NaN                    NaN  \n",
       "35996  2021            NaN                NaN                    NaN  \n",
       "35997  2021            NaN                NaN                    NaN  \n",
       "35998  2021            NaN                NaN                    NaN  \n",
       "35999  2021            NaN                NaN                    NaN  "
      ]
     },
     "execution_count": 4,
     "metadata": {},
     "output_type": "execute_result"
    }
   ],
   "source": [
    "df.tail()"
   ]
  },
  {
   "cell_type": "code",
   "execution_count": 5,
   "id": "ddea7301",
   "metadata": {},
   "outputs": [
    {
     "data": {
      "text/plain": [
       "disgust     6000\n",
       "angry       6000\n",
       "happy       6000\n",
       "surprise    6000\n",
       "fear        6000\n",
       "sad         6000\n",
       "Name: Emotion, dtype: int64"
      ]
     },
     "execution_count": 5,
     "metadata": {},
     "output_type": "execute_result"
    }
   ],
   "source": [
    "df[\"Emotion\"].value_counts()"
   ]
  },
  {
   "cell_type": "code",
   "execution_count": 6,
   "id": "5b9970cc",
   "metadata": {},
   "outputs": [],
   "source": [
    "class_names = ['disgust','angry','happy','surprise','fear','sad']"
   ]
  },
  {
   "cell_type": "code",
   "execution_count": 8,
   "id": "eef68ae0",
   "metadata": {},
   "outputs": [],
   "source": [
    "encoding = {\n",
    "    'disgust': 0, \n",
    "    'angry' :1,\n",
    "    'happy':2,\n",
    "    'surprise':3,\n",
    "    'fear':4,\n",
    "    'sad':5\n",
    "}"
   ]
  },
  {
   "cell_type": "code",
   "execution_count": 7,
   "id": "64e8f1b0",
   "metadata": {},
   "outputs": [],
   "source": [
    "reviews = df['Text'].values.tolist()\n",
    "sentiments = df['Emotion'].tolist()"
   ]
  },
  {
   "cell_type": "code",
   "execution_count": 8,
   "id": "badf156e",
   "metadata": {},
   "outputs": [],
   "source": [
    "from sklearn.model_selection import train_test_split,KFold\n",
    "X_train, X_test, y_train, y_test = train_test_split(reviews , sentiments, test_size=.2)"
   ]
  },
  {
   "cell_type": "code",
   "execution_count": 11,
   "id": "aa6b24b4",
   "metadata": {},
   "outputs": [],
   "source": [
    "y_train = [encoding[x] for x in y_train]\n",
    "y_test = [encoding[x] for x in y_test]"
   ]
  },
  {
   "cell_type": "code",
   "execution_count": 9,
   "id": "fe9e61fb",
   "metadata": {},
   "outputs": [],
   "source": [
    "import ktrain\n",
    "from ktrain import text\n",
    "MODEL_NAME = 'bert-base-multilingual-cased'\n",
    "t = text.Transformer(MODEL_NAME, maxlen=500)\n"
   ]
  },
  {
   "cell_type": "code",
   "execution_count": 10,
   "id": "c269013f",
   "metadata": {},
   "outputs": [
    {
     "name": "stdout",
     "output_type": "stream",
     "text": [
      "preprocessing train...\n",
      "language: bn\n",
      "train sequence lengths:\n",
      "\tmean : 16\n",
      "\t95percentile : 44\n",
      "\t99percentile : 67\n"
     ]
    },
    {
     "data": {
      "text/html": [],
      "text/plain": [
       "<IPython.core.display.HTML object>"
      ]
     },
     "metadata": {},
     "output_type": "display_data"
    },
    {
     "name": "stdout",
     "output_type": "stream",
     "text": [
      "Is Multi-Label? False\n",
      "preprocessing test...\n",
      "language: bn\n",
      "test sequence lengths:\n",
      "\tmean : 16\n",
      "\t95percentile : 43\n",
      "\t99percentile : 66\n"
     ]
    },
    {
     "data": {
      "text/html": [],
      "text/plain": [
       "<IPython.core.display.HTML object>"
      ]
     },
     "metadata": {},
     "output_type": "display_data"
    }
   ],
   "source": [
    "trn = t.preprocess_train(X_train, y_train)\n",
    "val = t.preprocess_test(X_test, y_test)"
   ]
  },
  {
   "cell_type": "code",
   "execution_count": 11,
   "id": "69d54231",
   "metadata": {
    "scrolled": true
   },
   "outputs": [],
   "source": [
    "model = t.get_classifier()"
   ]
  },
  {
   "cell_type": "code",
   "execution_count": 12,
   "id": "7070ffb4",
   "metadata": {},
   "outputs": [],
   "source": [
    "learner1 = ktrain.get_learner(model, train_data=trn, val_data=val, batch_size=6)"
   ]
  },
  {
   "cell_type": "code",
   "execution_count": null,
   "id": "f7ee6a13",
   "metadata": {},
   "outputs": [],
   "source": [
    "learner1.lr_find(show_plot=True, max_epochs=1)"
   ]
  },
  {
   "cell_type": "code",
   "execution_count": 13,
   "id": "e1e76e69",
   "metadata": {
    "scrolled": false
   },
   "outputs": [
    {
     "name": "stdout",
     "output_type": "stream",
     "text": [
      "\n",
      "\n",
      "begin training using onecycle policy with max lr of 2e-05...\n",
      "Epoch 1/3\n",
      "4800/4800 [==============================] - 92902s 19s/step - loss: 1.5234 - accuracy: 0.3859 - val_loss: 1.1424 - val_accuracy: 0.5874\n",
      "Epoch 2/3\n",
      "4800/4800 [==============================] - 94159s 20s/step - loss: 0.9496 - accuracy: 0.6642 - val_loss: 0.7233 - val_accuracy: 0.7554\n",
      "Epoch 3/3\n",
      "4800/4800 [==============================] - 92717s 19s/step - loss: 0.4948 - accuracy: 0.8353 - val_loss: 0.5459 - val_accuracy: 0.8288\n"
     ]
    },
    {
     "data": {
      "text/plain": [
       "<tensorflow.python.keras.callbacks.History at 0x1b0ca8a64f0>"
      ]
     },
     "execution_count": 13,
     "metadata": {},
     "output_type": "execute_result"
    }
   ],
   "source": [
    "learner1.fit_onecycle(2e-5, 3)"
   ]
  },
  {
   "cell_type": "code",
   "execution_count": 14,
   "id": "223ee69d",
   "metadata": {},
   "outputs": [
    {
     "name": "stdout",
     "output_type": "stream",
     "text": [
      "              precision    recall  f1-score   support\n",
      "\n",
      "     disgust       0.77      0.82      0.80      1185\n",
      "       angry       0.87      0.83      0.85      1192\n",
      "       happy       0.90      0.89      0.90      1171\n",
      "    surprise       0.88      0.86      0.87      1223\n",
      "        fear       0.71      0.67      0.69      1236\n",
      "         sad       0.85      0.90      0.87      1193\n",
      "\n",
      "    accuracy                           0.83      7200\n",
      "   macro avg       0.83      0.83      0.83      7200\n",
      "weighted avg       0.83      0.83      0.83      7200\n",
      "\n"
     ]
    },
    {
     "data": {
      "text/plain": [
       "array([[ 975,   38,   23,   25,  103,   21],\n",
       "       [  77,  994,    8,   14,   72,   27],\n",
       "       [  28,   11, 1048,   17,   40,   27],\n",
       "       [  33,   17,   12, 1052,   70,   39],\n",
       "       [ 121,   69,   70,   73,  823,   80],\n",
       "       [  29,   17,    9,   13,   50, 1075]], dtype=int64)"
      ]
     },
     "execution_count": 14,
     "metadata": {},
     "output_type": "execute_result"
    }
   ],
   "source": [
    "learner1.validate(val_data=(val), class_names=class_names)"
   ]
  },
  {
   "cell_type": "code",
   "execution_count": null,
   "id": "d709cb94",
   "metadata": {},
   "outputs": [],
   "source": [
    "learner1.evaluate()\n"
   ]
  },
  {
   "cell_type": "code",
   "execution_count": null,
   "id": "b727f035",
   "metadata": {},
   "outputs": [],
   "source": [
    "model.save(\"m-Bert_model\")"
   ]
  },
  {
   "cell_type": "code",
   "execution_count": null,
   "id": "a8b13b25",
   "metadata": {},
   "outputs": [],
   "source": []
  }
 ],
 "metadata": {
  "kernelspec": {
   "display_name": "Python 3 (ipykernel)",
   "language": "python",
   "name": "python3"
  },
  "language_info": {
   "codemirror_mode": {
    "name": "ipython",
    "version": 3
   },
   "file_extension": ".py",
   "mimetype": "text/x-python",
   "name": "python",
   "nbconvert_exporter": "python",
   "pygments_lexer": "ipython3",
   "version": "3.8.12"
  }
 },
 "nbformat": 4,
 "nbformat_minor": 5
}
