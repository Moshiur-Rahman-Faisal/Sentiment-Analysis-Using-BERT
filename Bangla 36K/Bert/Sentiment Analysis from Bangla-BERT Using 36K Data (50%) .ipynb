{
 "cells": [
  {
   "cell_type": "code",
   "execution_count": 1,
   "id": "d32533c5",
   "metadata": {},
   "outputs": [],
   "source": [
    "import pandas as pd\n",
    "import numpy as np\n"
   ]
  },
  {
   "cell_type": "code",
   "execution_count": 2,
   "id": "bba016ba",
   "metadata": {
    "scrolled": true
   },
   "outputs": [],
   "source": [
    "df1= pd.read_excel('Dataset.xlsx') \n",
    "df=df1.sample(frac = 0.50)"
   ]
  },
  {
   "cell_type": "code",
   "execution_count": 3,
   "id": "3c2ae414",
   "metadata": {
    "scrolled": true
   },
   "outputs": [
    {
     "data": {
      "text/html": [
       "<div>\n",
       "<style scoped>\n",
       "    .dataframe tbody tr th:only-of-type {\n",
       "        vertical-align: middle;\n",
       "    }\n",
       "\n",
       "    .dataframe tbody tr th {\n",
       "        vertical-align: top;\n",
       "    }\n",
       "\n",
       "    .dataframe thead th {\n",
       "        text-align: right;\n",
       "    }\n",
       "</style>\n",
       "<table border=\"1\" class=\"dataframe\">\n",
       "  <thead>\n",
       "    <tr style=\"text-align: right;\">\n",
       "      <th></th>\n",
       "      <th>SL</th>\n",
       "      <th>Emotion</th>\n",
       "      <th>Text</th>\n",
       "      <th>Year</th>\n",
       "      <th>Racial Biases</th>\n",
       "      <th>Hatred Percentage</th>\n",
       "      <th>Depression Percentage</th>\n",
       "    </tr>\n",
       "  </thead>\n",
       "  <tbody>\n",
       "    <tr>\n",
       "      <th>7894</th>\n",
       "      <td>7895</td>\n",
       "      <td>disgust</td>\n",
       "      <td>বিনাভোটে নির্বাচিত সরকারের মন্ত্রীর মুখে গনতন্...</td>\n",
       "      <td>2017</td>\n",
       "      <td>NaN</td>\n",
       "      <td>NaN</td>\n",
       "      <td>NaN</td>\n",
       "    </tr>\n",
       "    <tr>\n",
       "      <th>9038</th>\n",
       "      <td>9039</td>\n",
       "      <td>disgust</td>\n",
       "      <td>এ ধরণের নৃশংস হত্যাকান্ড মোটেও সমর্থনযোগ্য নয়।</td>\n",
       "      <td>2017</td>\n",
       "      <td>NaN</td>\n",
       "      <td>NaN</td>\n",
       "      <td>NaN</td>\n",
       "    </tr>\n",
       "    <tr>\n",
       "      <th>5575</th>\n",
       "      <td>5576</td>\n",
       "      <td>surprise</td>\n",
       "      <td>আবারও নিগারের সেঞ্চুরি; বাঘিনীদের টানা চতুর্থ জয়</td>\n",
       "      <td>2016</td>\n",
       "      <td>NaN</td>\n",
       "      <td>NaN</td>\n",
       "      <td>NaN</td>\n",
       "    </tr>\n",
       "    <tr>\n",
       "      <th>32804</th>\n",
       "      <td>32805</td>\n",
       "      <td>sad</td>\n",
       "      <td>তার প্রধান কারণই হল, শিক্ষা এবং সংস্কৃতিতে সাধ...</td>\n",
       "      <td>2021</td>\n",
       "      <td>NaN</td>\n",
       "      <td>NaN</td>\n",
       "      <td>NaN</td>\n",
       "    </tr>\n",
       "    <tr>\n",
       "      <th>3019</th>\n",
       "      <td>3020</td>\n",
       "      <td>angry</td>\n",
       "      <td>এইসমস্ত নরাধম দাগী যুদ্ধাপরাধীদের দ্রুত ঝুলানো...</td>\n",
       "      <td>2016</td>\n",
       "      <td>NaN</td>\n",
       "      <td>NaN</td>\n",
       "      <td>NaN</td>\n",
       "    </tr>\n",
       "  </tbody>\n",
       "</table>\n",
       "</div>"
      ],
      "text/plain": [
       "          SL   Emotion                                               Text  \\\n",
       "7894    7895   disgust  বিনাভোটে নির্বাচিত সরকারের মন্ত্রীর মুখে গনতন্...   \n",
       "9038    9039   disgust    এ ধরণের নৃশংস হত্যাকান্ড মোটেও সমর্থনযোগ্য নয়।    \n",
       "5575    5576  surprise   আবারও নিগারের সেঞ্চুরি; বাঘিনীদের টানা চতুর্থ জয়   \n",
       "32804  32805       sad  তার প্রধান কারণই হল, শিক্ষা এবং সংস্কৃতিতে সাধ...   \n",
       "3019    3020     angry  এইসমস্ত নরাধম দাগী যুদ্ধাপরাধীদের দ্রুত ঝুলানো...   \n",
       "\n",
       "       Year  Racial Biases  Hatred Percentage  Depression Percentage  \n",
       "7894   2017            NaN                NaN                    NaN  \n",
       "9038   2017            NaN                NaN                    NaN  \n",
       "5575   2016            NaN                NaN                    NaN  \n",
       "32804  2021            NaN                NaN                    NaN  \n",
       "3019   2016            NaN                NaN                    NaN  "
      ]
     },
     "execution_count": 3,
     "metadata": {},
     "output_type": "execute_result"
    }
   ],
   "source": [
    "df.head()"
   ]
  },
  {
   "cell_type": "code",
   "execution_count": 4,
   "id": "83d9ff3e",
   "metadata": {},
   "outputs": [
    {
     "data": {
      "text/html": [
       "<div>\n",
       "<style scoped>\n",
       "    .dataframe tbody tr th:only-of-type {\n",
       "        vertical-align: middle;\n",
       "    }\n",
       "\n",
       "    .dataframe tbody tr th {\n",
       "        vertical-align: top;\n",
       "    }\n",
       "\n",
       "    .dataframe thead th {\n",
       "        text-align: right;\n",
       "    }\n",
       "</style>\n",
       "<table border=\"1\" class=\"dataframe\">\n",
       "  <thead>\n",
       "    <tr style=\"text-align: right;\">\n",
       "      <th></th>\n",
       "      <th>SL</th>\n",
       "      <th>Emotion</th>\n",
       "      <th>Text</th>\n",
       "      <th>Year</th>\n",
       "      <th>Racial Biases</th>\n",
       "      <th>Hatred Percentage</th>\n",
       "      <th>Depression Percentage</th>\n",
       "    </tr>\n",
       "  </thead>\n",
       "  <tbody>\n",
       "    <tr>\n",
       "      <th>34614</th>\n",
       "      <td>34615</td>\n",
       "      <td>disgust</td>\n",
       "      <td>তাদের কথা হলো, সরকার নিজেদের দেশের মাত্র একটি...</td>\n",
       "      <td>2021</td>\n",
       "      <td>NaN</td>\n",
       "      <td>NaN</td>\n",
       "      <td>NaN</td>\n",
       "    </tr>\n",
       "    <tr>\n",
       "      <th>22673</th>\n",
       "      <td>22674</td>\n",
       "      <td>sad</td>\n",
       "      <td>ঠাকুর ঘুমাই ছিলরে ভাই।</td>\n",
       "      <td>2019</td>\n",
       "      <td>NaN</td>\n",
       "      <td>NaN</td>\n",
       "      <td>NaN</td>\n",
       "    </tr>\n",
       "    <tr>\n",
       "      <th>17750</th>\n",
       "      <td>17751</td>\n",
       "      <td>surprise</td>\n",
       "      <td>কাকে কি বলবো.....তবে জনাব শাকিব কাজটা ঠিক করেন নি</td>\n",
       "      <td>2018</td>\n",
       "      <td>NaN</td>\n",
       "      <td>NaN</td>\n",
       "      <td>NaN</td>\n",
       "    </tr>\n",
       "    <tr>\n",
       "      <th>26119</th>\n",
       "      <td>26120</td>\n",
       "      <td>fear</td>\n",
       "      <td>সরকারের গদি হারানোর খুব ভয় এ জন্য এই চালাকি, য...</td>\n",
       "      <td>2020</td>\n",
       "      <td>NaN</td>\n",
       "      <td>NaN</td>\n",
       "      <td>NaN</td>\n",
       "    </tr>\n",
       "    <tr>\n",
       "      <th>35946</th>\n",
       "      <td>35947</td>\n",
       "      <td>surprise</td>\n",
       "      <td>ভারতের সেনাপ্রধান পাঁচ দিনের সফরে ঢাকায়</td>\n",
       "      <td>2021</td>\n",
       "      <td>NaN</td>\n",
       "      <td>NaN</td>\n",
       "      <td>NaN</td>\n",
       "    </tr>\n",
       "  </tbody>\n",
       "</table>\n",
       "</div>"
      ],
      "text/plain": [
       "          SL   Emotion                                               Text  \\\n",
       "34614  34615   disgust   তাদের কথা হলো, সরকার নিজেদের দেশের মাত্র একটি...   \n",
       "22673  22674       sad                             ঠাকুর ঘুমাই ছিলরে ভাই।   \n",
       "17750  17751  surprise  কাকে কি বলবো.....তবে জনাব শাকিব কাজটা ঠিক করেন নি   \n",
       "26119  26120      fear  সরকারের গদি হারানোর খুব ভয় এ জন্য এই চালাকি, য...   \n",
       "35946  35947  surprise            ভারতের সেনাপ্রধান পাঁচ দিনের সফরে ঢাকায়   \n",
       "\n",
       "       Year  Racial Biases  Hatred Percentage  Depression Percentage  \n",
       "34614  2021            NaN                NaN                    NaN  \n",
       "22673  2019            NaN                NaN                    NaN  \n",
       "17750  2018            NaN                NaN                    NaN  \n",
       "26119  2020            NaN                NaN                    NaN  \n",
       "35946  2021            NaN                NaN                    NaN  "
      ]
     },
     "execution_count": 4,
     "metadata": {},
     "output_type": "execute_result"
    }
   ],
   "source": [
    "df.tail()"
   ]
  },
  {
   "cell_type": "code",
   "execution_count": 5,
   "id": "7bcb0ed6",
   "metadata": {},
   "outputs": [
    {
     "data": {
      "text/plain": [
       "angry       3068\n",
       "surprise    3010\n",
       "sad         2998\n",
       "disgust     2982\n",
       "happy       2977\n",
       "fear        2965\n",
       "Name: Emotion, dtype: int64"
      ]
     },
     "execution_count": 5,
     "metadata": {},
     "output_type": "execute_result"
    }
   ],
   "source": [
    "df[\"Emotion\"].value_counts()"
   ]
  },
  {
   "cell_type": "code",
   "execution_count": 6,
   "id": "b0650e0e",
   "metadata": {},
   "outputs": [],
   "source": [
    "class_names = ['disgust','angry','happy','surprise','fear','sad']"
   ]
  },
  {
   "cell_type": "code",
   "execution_count": 7,
   "id": "c294da11",
   "metadata": {},
   "outputs": [],
   "source": [
    "encoding = {\n",
    "    'disgust': 0, \n",
    "    'angry' :1,\n",
    "    'happy':2,\n",
    "    'surprise':3,\n",
    "    'fear':4,\n",
    "    'sad':5\n",
    "}"
   ]
  },
  {
   "cell_type": "code",
   "execution_count": 8,
   "id": "d2f6327e",
   "metadata": {},
   "outputs": [],
   "source": [
    "text = df['Text'].values.tolist()\n",
    "emotion= df['Emotion'].tolist()"
   ]
  },
  {
   "cell_type": "code",
   "execution_count": 9,
   "id": "06974fef",
   "metadata": {},
   "outputs": [],
   "source": [
    "from sklearn.model_selection import train_test_split\n",
    "X_train, X_test, y_train, y_test = train_test_split(text , emotion, test_size=.2, random_state=42)"
   ]
  },
  {
   "cell_type": "code",
   "execution_count": 10,
   "id": "af940788",
   "metadata": {
    "scrolled": false
   },
   "outputs": [
    {
     "data": {
      "text/plain": [
       "angry       3068\n",
       "surprise    3010\n",
       "sad         2998\n",
       "disgust     2982\n",
       "happy       2977\n",
       "fear        2965\n",
       "Name: Emotion, dtype: int64"
      ]
     },
     "execution_count": 10,
     "metadata": {},
     "output_type": "execute_result"
    }
   ],
   "source": [
    "df[\"Emotion\"].value_counts()"
   ]
  },
  {
   "cell_type": "code",
   "execution_count": 11,
   "id": "fe9e61fb",
   "metadata": {},
   "outputs": [],
   "source": [
    "import ktrain\n",
    "from ktrain import text\n",
    "MODEL_NAME = 'sagorsarker/bangla-bert-base'\n",
    "t = text.Transformer(MODEL_NAME, maxlen=500)\n"
   ]
  },
  {
   "cell_type": "code",
   "execution_count": 12,
   "id": "c269013f",
   "metadata": {},
   "outputs": [
    {
     "name": "stdout",
     "output_type": "stream",
     "text": [
      "preprocessing train...\n",
      "language: bn\n",
      "train sequence lengths:\n",
      "\tmean : 16\n",
      "\t95percentile : 44\n",
      "\t99percentile : 67\n"
     ]
    },
    {
     "data": {
      "text/html": [],
      "text/plain": [
       "<IPython.core.display.HTML object>"
      ]
     },
     "metadata": {},
     "output_type": "display_data"
    },
    {
     "name": "stdout",
     "output_type": "stream",
     "text": [
      "Is Multi-Label? False\n",
      "preprocessing test...\n",
      "language: bn\n",
      "test sequence lengths:\n",
      "\tmean : 16\n",
      "\t95percentile : 45\n",
      "\t99percentile : 64\n"
     ]
    },
    {
     "data": {
      "text/html": [],
      "text/plain": [
       "<IPython.core.display.HTML object>"
      ]
     },
     "metadata": {},
     "output_type": "display_data"
    }
   ],
   "source": [
    "trn = t.preprocess_train(X_train, y_train)\n",
    "val = t.preprocess_test(X_test, y_test)"
   ]
  },
  {
   "cell_type": "code",
   "execution_count": 13,
   "id": "69d54231",
   "metadata": {
    "scrolled": true
   },
   "outputs": [],
   "source": [
    "model = t.get_classifier()"
   ]
  },
  {
   "cell_type": "code",
   "execution_count": 14,
   "id": "7070ffb4",
   "metadata": {},
   "outputs": [],
   "source": [
    "learner = ktrain.get_learner(model, train_data=trn, val_data=val, batch_size=6)"
   ]
  },
  {
   "cell_type": "code",
   "execution_count": 15,
   "id": "e1e76e69",
   "metadata": {
    "scrolled": true
   },
   "outputs": [
    {
     "name": "stdout",
     "output_type": "stream",
     "text": [
      "\n",
      "\n",
      "begin training using onecycle policy with max lr of 2e-05...\n",
      "Epoch 1/5\n",
      "2400/2400 [==============================] - 26804s 11s/step - loss: 1.5556 - accuracy: 0.3705 - val_loss: 1.2421 - val_accuracy: 0.5619\n",
      "Epoch 2/5\n",
      "2400/2400 [==============================] - 26855s 11s/step - loss: 0.9671 - accuracy: 0.6615 - val_loss: 0.9203 - val_accuracy: 0.6814\n",
      "Epoch 3/5\n",
      "2400/2400 [==============================] - 26535s 11s/step - loss: 0.5726 - accuracy: 0.8097 - val_loss: 0.7728 - val_accuracy: 0.7594\n",
      "Epoch 4/5\n",
      "2400/2400 [==============================] - 26993s 11s/step - loss: 0.2805 - accuracy: 0.9085 - val_loss: 0.7464 - val_accuracy: 0.7917\n",
      "Epoch 5/5\n",
      "2400/2400 [==============================] - 26778s 11s/step - loss: 0.1350 - accuracy: 0.9534 - val_loss: 0.8114 - val_accuracy: 0.7969\n"
     ]
    },
    {
     "data": {
      "text/plain": [
       "<tensorflow.python.keras.callbacks.History at 0x1926ffd0310>"
      ]
     },
     "execution_count": 15,
     "metadata": {},
     "output_type": "execute_result"
    }
   ],
   "source": [
    "learner.fit_onecycle(2e-5, 5)"
   ]
  },
  {
   "cell_type": "code",
   "execution_count": 16,
   "id": "b9ccd39f",
   "metadata": {
    "scrolled": true
   },
   "outputs": [
    {
     "name": "stdout",
     "output_type": "stream",
     "text": [
      "              precision    recall  f1-score   support\n",
      "\n",
      "     disgust       0.77      0.79      0.78       585\n",
      "       angry       0.84      0.81      0.82       585\n",
      "       happy       0.86      0.88      0.87       593\n",
      "    surprise       0.84      0.81      0.83       622\n",
      "        fear       0.66      0.66      0.66       627\n",
      "         sad       0.83      0.84      0.83       588\n",
      "\n",
      "    accuracy                           0.80      3600\n",
      "   macro avg       0.80      0.80      0.80      3600\n",
      "weighted avg       0.80      0.80      0.80      3600\n",
      "\n"
     ]
    },
    {
     "data": {
      "text/plain": [
       "array([[461,  27,  18,  16,  45,  18],\n",
       "       [ 34, 473,   9,  13,  38,  18],\n",
       "       [ 12,   3, 520,   7,  35,  16],\n",
       "       [ 18,   6,  13, 503,  60,  22],\n",
       "       [ 63,  46,  35,  36, 416,  31],\n",
       "       [ 13,  10,  13,  22,  34, 496]], dtype=int64)"
      ]
     },
     "execution_count": 16,
     "metadata": {},
     "output_type": "execute_result"
    }
   ],
   "source": [
    "learner.validate(val_data=(val), class_names=class_names)"
   ]
  },
  {
   "cell_type": "code",
   "execution_count": null,
   "id": "0ed64993",
   "metadata": {},
   "outputs": [],
   "source": []
  }
 ],
 "metadata": {
  "kernelspec": {
   "display_name": "Python 3 (ipykernel)",
   "language": "python",
   "name": "python3"
  },
  "language_info": {
   "codemirror_mode": {
    "name": "ipython",
    "version": 3
   },
   "file_extension": ".py",
   "mimetype": "text/x-python",
   "name": "python",
   "nbconvert_exporter": "python",
   "pygments_lexer": "ipython3",
   "version": "3.8.12"
  }
 },
 "nbformat": 4,
 "nbformat_minor": 5
}
