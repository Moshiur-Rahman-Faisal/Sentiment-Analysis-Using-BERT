{
 "cells": [
  {
   "cell_type": "code",
   "execution_count": 1,
   "id": "d32533c5",
   "metadata": {},
   "outputs": [],
   "source": [
    "import pandas as pd\n",
    "import numpy as np\n"
   ]
  },
  {
   "cell_type": "code",
   "execution_count": 2,
   "id": "bba016ba",
   "metadata": {
    "scrolled": true
   },
   "outputs": [],
   "source": [
    "df1= pd.read_excel('Dataset.xlsx') \n",
    "df=df1.sample(frac = 0.25)"
   ]
  },
  {
   "cell_type": "code",
   "execution_count": 3,
   "id": "3c2ae414",
   "metadata": {
    "scrolled": true
   },
   "outputs": [
    {
     "data": {
      "text/html": [
       "<div>\n",
       "<style scoped>\n",
       "    .dataframe tbody tr th:only-of-type {\n",
       "        vertical-align: middle;\n",
       "    }\n",
       "\n",
       "    .dataframe tbody tr th {\n",
       "        vertical-align: top;\n",
       "    }\n",
       "\n",
       "    .dataframe thead th {\n",
       "        text-align: right;\n",
       "    }\n",
       "</style>\n",
       "<table border=\"1\" class=\"dataframe\">\n",
       "  <thead>\n",
       "    <tr style=\"text-align: right;\">\n",
       "      <th></th>\n",
       "      <th>SL</th>\n",
       "      <th>Emotion</th>\n",
       "      <th>Text</th>\n",
       "      <th>Year</th>\n",
       "      <th>Racial Biases</th>\n",
       "      <th>Hatred Percentage</th>\n",
       "      <th>Depression Percentage</th>\n",
       "    </tr>\n",
       "  </thead>\n",
       "  <tbody>\n",
       "    <tr>\n",
       "      <th>33487</th>\n",
       "      <td>33488</td>\n",
       "      <td>angry</td>\n",
       "      <td>বিস্মিত বিশ্লেষকরা কি গত দুই বৎসর বংলাদেশে বসব...</td>\n",
       "      <td>2021</td>\n",
       "      <td>NaN</td>\n",
       "      <td>NaN</td>\n",
       "      <td>NaN</td>\n",
       "    </tr>\n",
       "    <tr>\n",
       "      <th>33037</th>\n",
       "      <td>33038</td>\n",
       "      <td>angry</td>\n",
       "      <td>ভোট কেন্দ্র দখলের ঘটনা না ঘটলে লীগ ৫৭০০ ভোটও...</td>\n",
       "      <td>2021</td>\n",
       "      <td>NaN</td>\n",
       "      <td>NaN</td>\n",
       "      <td>NaN</td>\n",
       "    </tr>\n",
       "    <tr>\n",
       "      <th>28189</th>\n",
       "      <td>28190</td>\n",
       "      <td>sad</td>\n",
       "      <td>এই বাংলায় সিএএ ও এনপিআর কার্যকর করতে দেওয়া হব...</td>\n",
       "      <td>2020</td>\n",
       "      <td>NaN</td>\n",
       "      <td>NaN</td>\n",
       "      <td>NaN</td>\n",
       "    </tr>\n",
       "    <tr>\n",
       "      <th>12263</th>\n",
       "      <td>12264</td>\n",
       "      <td>sad</td>\n",
       "      <td>একজন পুলিশ ৫০,০০০ টাকা শুধুমাত্র একটি বাসার ভা...</td>\n",
       "      <td>2018</td>\n",
       "      <td>NaN</td>\n",
       "      <td>NaN</td>\n",
       "      <td>NaN</td>\n",
       "    </tr>\n",
       "    <tr>\n",
       "      <th>863</th>\n",
       "      <td>864</td>\n",
       "      <td>angry</td>\n",
       "      <td>আপনারা কিসের যুক্তি নিয়ে বলছেন, আমার শুধু একটা...</td>\n",
       "      <td>2016</td>\n",
       "      <td>NaN</td>\n",
       "      <td>NaN</td>\n",
       "      <td>NaN</td>\n",
       "    </tr>\n",
       "  </tbody>\n",
       "</table>\n",
       "</div>"
      ],
      "text/plain": [
       "          SL Emotion                                               Text  Year  \\\n",
       "33487  33488   angry  বিস্মিত বিশ্লেষকরা কি গত দুই বৎসর বংলাদেশে বসব...  2021   \n",
       "33037  33038   angry  ভোট কেন্দ্র দখলের ঘটনা না ঘটলে লীগ ৫৭০০ ভোটও...  2021   \n",
       "28189  28190     sad   এই বাংলায় সিএএ ও এনপিআর কার্যকর করতে দেওয়া হব...  2020   \n",
       "12263  12264     sad  একজন পুলিশ ৫০,০০০ টাকা শুধুমাত্র একটি বাসার ভা...  2018   \n",
       "863      864   angry  আপনারা কিসের যুক্তি নিয়ে বলছেন, আমার শুধু একটা...  2016   \n",
       "\n",
       "       Racial Biases  Hatred Percentage  Depression Percentage  \n",
       "33487            NaN                NaN                    NaN  \n",
       "33037            NaN                NaN                    NaN  \n",
       "28189            NaN                NaN                    NaN  \n",
       "12263            NaN                NaN                    NaN  \n",
       "863              NaN                NaN                    NaN  "
      ]
     },
     "execution_count": 3,
     "metadata": {},
     "output_type": "execute_result"
    }
   ],
   "source": [
    "df.head()"
   ]
  },
  {
   "cell_type": "code",
   "execution_count": 4,
   "id": "83d9ff3e",
   "metadata": {},
   "outputs": [
    {
     "data": {
      "text/html": [
       "<div>\n",
       "<style scoped>\n",
       "    .dataframe tbody tr th:only-of-type {\n",
       "        vertical-align: middle;\n",
       "    }\n",
       "\n",
       "    .dataframe tbody tr th {\n",
       "        vertical-align: top;\n",
       "    }\n",
       "\n",
       "    .dataframe thead th {\n",
       "        text-align: right;\n",
       "    }\n",
       "</style>\n",
       "<table border=\"1\" class=\"dataframe\">\n",
       "  <thead>\n",
       "    <tr style=\"text-align: right;\">\n",
       "      <th></th>\n",
       "      <th>SL</th>\n",
       "      <th>Emotion</th>\n",
       "      <th>Text</th>\n",
       "      <th>Year</th>\n",
       "      <th>Racial Biases</th>\n",
       "      <th>Hatred Percentage</th>\n",
       "      <th>Depression Percentage</th>\n",
       "    </tr>\n",
       "  </thead>\n",
       "  <tbody>\n",
       "    <tr>\n",
       "      <th>32973</th>\n",
       "      <td>32974</td>\n",
       "      <td>surprise</td>\n",
       "      <td>আপনি কিভাবে এত ওভার কনফারমড</td>\n",
       "      <td>2021</td>\n",
       "      <td>NaN</td>\n",
       "      <td>NaN</td>\n",
       "      <td>NaN</td>\n",
       "    </tr>\n",
       "    <tr>\n",
       "      <th>30281</th>\n",
       "      <td>30282</td>\n",
       "      <td>happy</td>\n",
       "      <td>ওই বৈঠকে কোয়াডকে আরও বেশি কার্যকর করে তোলার উ...</td>\n",
       "      <td>2021</td>\n",
       "      <td>NaN</td>\n",
       "      <td>NaN</td>\n",
       "      <td>NaN</td>\n",
       "    </tr>\n",
       "    <tr>\n",
       "      <th>28206</th>\n",
       "      <td>28207</td>\n",
       "      <td>sad</td>\n",
       "      <td>এখানকার মানুষকে হতাশ করা হয়েছে।</td>\n",
       "      <td>2020</td>\n",
       "      <td>NaN</td>\n",
       "      <td>NaN</td>\n",
       "      <td>NaN</td>\n",
       "    </tr>\n",
       "    <tr>\n",
       "      <th>829</th>\n",
       "      <td>830</td>\n",
       "      <td>angry</td>\n",
       "      <td>অবশেষে বিএনপি গণতন্ত্র বুঝেছে !!!? অবশ্যই না, ...</td>\n",
       "      <td>2016</td>\n",
       "      <td>NaN</td>\n",
       "      <td>NaN</td>\n",
       "      <td>NaN</td>\n",
       "    </tr>\n",
       "    <tr>\n",
       "      <th>23295</th>\n",
       "      <td>23296</td>\n",
       "      <td>surprise</td>\n",
       "      <td>আমার এম্বি দিয়ে আপনাদের বিজ্ঞাপন দেখে নিলাম। ব...</td>\n",
       "      <td>2019</td>\n",
       "      <td>NaN</td>\n",
       "      <td>NaN</td>\n",
       "      <td>NaN</td>\n",
       "    </tr>\n",
       "  </tbody>\n",
       "</table>\n",
       "</div>"
      ],
      "text/plain": [
       "          SL   Emotion                                               Text  \\\n",
       "32973  32974  surprise                        আপনি কিভাবে এত ওভার কনফারমড   \n",
       "30281  30282     happy   ওই বৈঠকে কোয়াডকে আরও বেশি কার্যকর করে তোলার উ...   \n",
       "28206  28207       sad                   এখানকার মানুষকে হতাশ করা হয়েছে।    \n",
       "829      830     angry  অবশেষে বিএনপি গণতন্ত্র বুঝেছে !!!? অবশ্যই না, ...   \n",
       "23295  23296  surprise  আমার এম্বি দিয়ে আপনাদের বিজ্ঞাপন দেখে নিলাম। ব...   \n",
       "\n",
       "       Year  Racial Biases  Hatred Percentage  Depression Percentage  \n",
       "32973  2021            NaN                NaN                    NaN  \n",
       "30281  2021            NaN                NaN                    NaN  \n",
       "28206  2020            NaN                NaN                    NaN  \n",
       "829    2016            NaN                NaN                    NaN  \n",
       "23295  2019            NaN                NaN                    NaN  "
      ]
     },
     "execution_count": 4,
     "metadata": {},
     "output_type": "execute_result"
    }
   ],
   "source": [
    "df.tail()"
   ]
  },
  {
   "cell_type": "code",
   "execution_count": 5,
   "id": "7bcb0ed6",
   "metadata": {},
   "outputs": [
    {
     "data": {
      "text/plain": [
       "angry       1526\n",
       "fear        1512\n",
       "happy       1502\n",
       "sad         1497\n",
       "disgust     1490\n",
       "surprise    1473\n",
       "Name: Emotion, dtype: int64"
      ]
     },
     "execution_count": 5,
     "metadata": {},
     "output_type": "execute_result"
    }
   ],
   "source": [
    "df[\"Emotion\"].value_counts()"
   ]
  },
  {
   "cell_type": "code",
   "execution_count": 6,
   "id": "b0650e0e",
   "metadata": {},
   "outputs": [],
   "source": [
    "class_names = ['disgust','angry','happy','surprise','fear','sad']"
   ]
  },
  {
   "cell_type": "code",
   "execution_count": 7,
   "id": "c294da11",
   "metadata": {},
   "outputs": [],
   "source": [
    "encoding = {\n",
    "    'disgust': 0, \n",
    "    'angry' :1,\n",
    "    'happy':2,\n",
    "    'surprise':3,\n",
    "    'fear':4,\n",
    "    'sad':5\n",
    "}"
   ]
  },
  {
   "cell_type": "code",
   "execution_count": 8,
   "id": "d2f6327e",
   "metadata": {},
   "outputs": [],
   "source": [
    "text = df['Text'].values.tolist()\n",
    "emotion= df['Emotion'].tolist()"
   ]
  },
  {
   "cell_type": "code",
   "execution_count": 9,
   "id": "06974fef",
   "metadata": {},
   "outputs": [],
   "source": [
    "from sklearn.model_selection import train_test_split\n",
    "X_train, X_test, y_train, y_test = train_test_split(text , emotion, test_size=.2, random_state=42)"
   ]
  },
  {
   "cell_type": "code",
   "execution_count": 10,
   "id": "af940788",
   "metadata": {
    "scrolled": false
   },
   "outputs": [
    {
     "data": {
      "text/plain": [
       "angry       1526\n",
       "fear        1512\n",
       "happy       1502\n",
       "sad         1497\n",
       "disgust     1490\n",
       "surprise    1473\n",
       "Name: Emotion, dtype: int64"
      ]
     },
     "execution_count": 10,
     "metadata": {},
     "output_type": "execute_result"
    }
   ],
   "source": [
    "df[\"Emotion\"].value_counts()"
   ]
  },
  {
   "cell_type": "code",
   "execution_count": 11,
   "id": "fe9e61fb",
   "metadata": {},
   "outputs": [],
   "source": [
    "import ktrain\n",
    "from ktrain import text\n",
    "MODEL_NAME = 'sagorsarker/bangla-bert-base'\n",
    "t = text.Transformer(MODEL_NAME, maxlen=500)\n"
   ]
  },
  {
   "cell_type": "code",
   "execution_count": 12,
   "id": "c269013f",
   "metadata": {},
   "outputs": [
    {
     "name": "stdout",
     "output_type": "stream",
     "text": [
      "preprocessing train...\n",
      "language: bn\n",
      "train sequence lengths:\n",
      "\tmean : 16\n",
      "\t95percentile : 44\n",
      "\t99percentile : 67\n"
     ]
    },
    {
     "data": {
      "text/html": [],
      "text/plain": [
       "<IPython.core.display.HTML object>"
      ]
     },
     "metadata": {},
     "output_type": "display_data"
    },
    {
     "name": "stdout",
     "output_type": "stream",
     "text": [
      "Is Multi-Label? False\n",
      "preprocessing test...\n",
      "language: bn\n",
      "test sequence lengths:\n",
      "\tmean : 15\n",
      "\t95percentile : 43\n",
      "\t99percentile : 69\n"
     ]
    },
    {
     "data": {
      "text/html": [],
      "text/plain": [
       "<IPython.core.display.HTML object>"
      ]
     },
     "metadata": {},
     "output_type": "display_data"
    }
   ],
   "source": [
    "trn = t.preprocess_train(X_train, y_train)\n",
    "val = t.preprocess_test(X_test, y_test)"
   ]
  },
  {
   "cell_type": "code",
   "execution_count": 13,
   "id": "69d54231",
   "metadata": {
    "scrolled": true
   },
   "outputs": [],
   "source": [
    "model = t.get_classifier()"
   ]
  },
  {
   "cell_type": "code",
   "execution_count": 14,
   "id": "7070ffb4",
   "metadata": {},
   "outputs": [],
   "source": [
    "learner = ktrain.get_learner(model, train_data=trn, val_data=val, batch_size=6)"
   ]
  },
  {
   "cell_type": "code",
   "execution_count": 42,
   "id": "86e82b21",
   "metadata": {
    "scrolled": false
   },
   "outputs": [
    {
     "name": "stdout",
     "output_type": "stream",
     "text": [
      "simulating training for different learning rates... this may take a few moments...\n",
      "1200/1200 [==============================] - 12292s 10s/step - loss: 141.6218 - mae: 5.6466\n",
      "\n",
      "\n",
      "done.\n",
      "Visually inspect loss plot and select learning rate associated with falling loss\n"
     ]
    },
    {
     "data": {
      "image/png": "[encoded data removed]",
      "text/plain": [
       "<Figure size 432x288 with 1 Axes>"
      ]
     },
     "metadata": {
      "needs_background": "light"
     },
     "output_type": "display_data"
    }
   ],
   "source": [
    "learner.lr_find(show_plot=True, max_epochs=1)"
   ]
  },
  {
   "cell_type": "code",
   "execution_count": 15,
   "id": "e1e76e69",
   "metadata": {
    "scrolled": true
   },
   "outputs": [
    {
     "name": "stdout",
     "output_type": "stream",
     "text": [
      "\n",
      "\n",
      "begin training using onecycle policy with max lr of 2e-05...\n",
      "Epoch 1/5\n",
      "1200/1200 [==============================] - 12915s 11s/step - loss: 1.6650 - accuracy: 0.2993 - val_loss: 1.4550 - val_accuracy: 0.4556\n",
      "Epoch 2/5\n",
      "1200/1200 [==============================] - 13196s 11s/step - loss: 1.2673 - accuracy: 0.5387 - val_loss: 1.1831 - val_accuracy: 0.5717\n",
      "Epoch 3/5\n",
      "1200/1200 [==============================] - 12836s 11s/step - loss: 0.7817 - accuracy: 0.7321 - val_loss: 1.0838 - val_accuracy: 0.6650\n",
      "Epoch 4/5\n",
      "1200/1200 [==============================] - 12826s 11s/step - loss: 0.3470 - accuracy: 0.8939 - val_loss: 1.0807 - val_accuracy: 0.6994\n",
      "Epoch 5/5\n",
      "1200/1200 [==============================] - 12824s 11s/step - loss: 0.1542 - accuracy: 0.9546 - val_loss: 1.1456 - val_accuracy: 0.7072\n"
     ]
    },
    {
     "data": {
      "text/plain": [
       "<tensorflow.python.keras.callbacks.History at 0x1e7300f9d30>"
      ]
     },
     "execution_count": 15,
     "metadata": {},
     "output_type": "execute_result"
    }
   ],
   "source": [
    "learner.fit_onecycle(2e-5, 5)"
   ]
  },
  {
   "cell_type": "code",
   "execution_count": 16,
   "id": "b9ccd39f",
   "metadata": {
    "scrolled": true
   },
   "outputs": [
    {
     "name": "stdout",
     "output_type": "stream",
     "text": [
      "              precision    recall  f1-score   support\n",
      "\n",
      "     disgust       0.69      0.62      0.65       323\n",
      "       angry       0.74      0.73      0.74       316\n",
      "       happy       0.72      0.81      0.76       270\n",
      "    surprise       0.72      0.70      0.71       294\n",
      "        fear       0.60      0.62      0.61       314\n",
      "         sad       0.79      0.78      0.79       283\n",
      "\n",
      "    accuracy                           0.71      1800\n",
      "   macro avg       0.71      0.71      0.71      1800\n",
      "weighted avg       0.71      0.71      0.71      1800\n",
      "\n"
     ]
    },
    {
     "data": {
      "text/plain": [
       "array([[200,  38,  18,  13,  41,  13],\n",
       "       [ 23, 231,  15,  11,  24,  12],\n",
       "       [ 15,   4, 220,   8,  17,   6],\n",
       "       [ 16,   8,  13, 206,  37,  14],\n",
       "       [ 26,  24,  28,  29, 194,  13],\n",
       "       [ 10,   7,  13,  18,  13, 222]], dtype=int64)"
      ]
     },
     "execution_count": 16,
     "metadata": {},
     "output_type": "execute_result"
    }
   ],
   "source": [
    "learner.validate(val_data=(val), class_names=class_names)"
   ]
  },
  {
   "cell_type": "code",
   "execution_count": null,
   "id": "0ed64993",
   "metadata": {},
   "outputs": [],
   "source": []
  }
 ],
 "metadata": {
  "kernelspec": {
   "display_name": "Python 3 (ipykernel)",
   "language": "python",
   "name": "python3"
  },
  "language_info": {
   "codemirror_mode": {
    "name": "ipython",
    "version": 3
   },
   "file_extension": ".py",
   "mimetype": "text/x-python",
   "name": "python",
   "nbconvert_exporter": "python",
   "pygments_lexer": "ipython3",
   "version": "3.8.12"
  }
 },
 "nbformat": 4,
 "nbformat_minor": 5
}
