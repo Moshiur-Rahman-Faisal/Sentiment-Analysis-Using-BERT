{
 "cells": [
  {
   "cell_type": "code",
   "execution_count": 75,
   "id": "d32533c5",
   "metadata": {},
   "outputs": [],
   "source": [
    "import pandas as pd\n",
    "import numpy as np\n"
   ]
  },
  {
   "cell_type": "code",
   "execution_count": 76,
   "id": "bba016ba",
   "metadata": {
    "scrolled": true
   },
   "outputs": [],
   "source": [
    "df= pd.read_excel('Dataset.xlsx') \n"
   ]
  },
  {
   "cell_type": "code",
   "execution_count": 77,
   "id": "3c2ae414",
   "metadata": {
    "scrolled": true
   },
   "outputs": [
    {
     "data": {
      "text/html": [
       "<div>\n",
       "<style scoped>\n",
       "    .dataframe tbody tr th:only-of-type {\n",
       "        vertical-align: middle;\n",
       "    }\n",
       "\n",
       "    .dataframe tbody tr th {\n",
       "        vertical-align: top;\n",
       "    }\n",
       "\n",
       "    .dataframe thead th {\n",
       "        text-align: right;\n",
       "    }\n",
       "</style>\n",
       "<table border=\"1\" class=\"dataframe\">\n",
       "  <thead>\n",
       "    <tr style=\"text-align: right;\">\n",
       "      <th></th>\n",
       "      <th>SL</th>\n",
       "      <th>Emotion</th>\n",
       "      <th>Text</th>\n",
       "      <th>Year</th>\n",
       "      <th>Racial Biases</th>\n",
       "      <th>Hatred Percentage</th>\n",
       "      <th>Depression Percentage</th>\n",
       "    </tr>\n",
       "  </thead>\n",
       "  <tbody>\n",
       "    <tr>\n",
       "      <th>0</th>\n",
       "      <td>1</td>\n",
       "      <td>disgust</td>\n",
       "      <td>নির্বাচনের আগের রাতে সুষ্টু শান্তিপূর্ণ ভাবে ভ...</td>\n",
       "      <td>2016</td>\n",
       "      <td>NaN</td>\n",
       "      <td>NaN</td>\n",
       "      <td>NaN</td>\n",
       "    </tr>\n",
       "    <tr>\n",
       "      <th>1</th>\n",
       "      <td>2</td>\n",
       "      <td>disgust</td>\n",
       "      <td>জনগণ মনের আনন্দে নিজেদের ভোট কাস্ট করে দেশদ্রো...</td>\n",
       "      <td>2016</td>\n",
       "      <td>NaN</td>\n",
       "      <td>NaN</td>\n",
       "      <td>NaN</td>\n",
       "    </tr>\n",
       "    <tr>\n",
       "      <th>2</th>\n",
       "      <td>3</td>\n",
       "      <td>angry</td>\n",
       "      <td>ভেজাল নির্বাচন ।</td>\n",
       "      <td>2016</td>\n",
       "      <td>NaN</td>\n",
       "      <td>NaN</td>\n",
       "      <td>NaN</td>\n",
       "    </tr>\n",
       "    <tr>\n",
       "      <th>3</th>\n",
       "      <td>4</td>\n",
       "      <td>happy</td>\n",
       "      <td>বিএনপি ও রাজাকার সমর্থকরা হেরে গেলে দেশের জন্য...</td>\n",
       "      <td>2016</td>\n",
       "      <td>NaN</td>\n",
       "      <td>NaN</td>\n",
       "      <td>NaN</td>\n",
       "    </tr>\n",
       "    <tr>\n",
       "      <th>4</th>\n",
       "      <td>5</td>\n",
       "      <td>angry</td>\n",
       "      <td>সূক্ষ্ম কারচুপি বলে এতদিন একটা কথার কথা ছিল, এ...</td>\n",
       "      <td>2016</td>\n",
       "      <td>NaN</td>\n",
       "      <td>NaN</td>\n",
       "      <td>NaN</td>\n",
       "    </tr>\n",
       "  </tbody>\n",
       "</table>\n",
       "</div>"
      ],
      "text/plain": [
       "   SL  Emotion                                               Text  Year  \\\n",
       "0   1  disgust  নির্বাচনের আগের রাতে সুষ্টু শান্তিপূর্ণ ভাবে ভ...  2016   \n",
       "1   2  disgust  জনগণ মনের আনন্দে নিজেদের ভোট কাস্ট করে দেশদ্রো...  2016   \n",
       "2   3    angry                                   ভেজাল নির্বাচন ।  2016   \n",
       "3   4    happy  বিএনপি ও রাজাকার সমর্থকরা হেরে গেলে দেশের জন্য...  2016   \n",
       "4   5    angry  সূক্ষ্ম কারচুপি বলে এতদিন একটা কথার কথা ছিল, এ...  2016   \n",
       "\n",
       "   Racial Biases  Hatred Percentage  Depression Percentage  \n",
       "0            NaN                NaN                    NaN  \n",
       "1            NaN                NaN                    NaN  \n",
       "2            NaN                NaN                    NaN  \n",
       "3            NaN                NaN                    NaN  \n",
       "4            NaN                NaN                    NaN  "
      ]
     },
     "execution_count": 77,
     "metadata": {},
     "output_type": "execute_result"
    }
   ],
   "source": [
    "df.head()"
   ]
  },
  {
   "cell_type": "code",
   "execution_count": 78,
   "id": "83d9ff3e",
   "metadata": {},
   "outputs": [
    {
     "data": {
      "text/html": [
       "<div>\n",
       "<style scoped>\n",
       "    .dataframe tbody tr th:only-of-type {\n",
       "        vertical-align: middle;\n",
       "    }\n",
       "\n",
       "    .dataframe tbody tr th {\n",
       "        vertical-align: top;\n",
       "    }\n",
       "\n",
       "    .dataframe thead th {\n",
       "        text-align: right;\n",
       "    }\n",
       "</style>\n",
       "<table border=\"1\" class=\"dataframe\">\n",
       "  <thead>\n",
       "    <tr style=\"text-align: right;\">\n",
       "      <th></th>\n",
       "      <th>SL</th>\n",
       "      <th>Emotion</th>\n",
       "      <th>Text</th>\n",
       "      <th>Year</th>\n",
       "      <th>Racial Biases</th>\n",
       "      <th>Hatred Percentage</th>\n",
       "      <th>Depression Percentage</th>\n",
       "    </tr>\n",
       "  </thead>\n",
       "  <tbody>\n",
       "    <tr>\n",
       "      <th>35995</th>\n",
       "      <td>35996</td>\n",
       "      <td>surprise</td>\n",
       "      <td>ভারতের মতো একটা বিশাল দেশে এত অঙ্গরাজ্য যে সব ...</td>\n",
       "      <td>2021</td>\n",
       "      <td>NaN</td>\n",
       "      <td>NaN</td>\n",
       "      <td>NaN</td>\n",
       "    </tr>\n",
       "    <tr>\n",
       "      <th>35996</th>\n",
       "      <td>35997</td>\n",
       "      <td>surprise</td>\n",
       "      <td>২৪, ৫০, এমনকি কারো কারো মতে ৬০ জন।</td>\n",
       "      <td>2021</td>\n",
       "      <td>NaN</td>\n",
       "      <td>NaN</td>\n",
       "      <td>NaN</td>\n",
       "    </tr>\n",
       "    <tr>\n",
       "      <th>35997</th>\n",
       "      <td>35998</td>\n",
       "      <td>surprise</td>\n",
       "      <td>এদের মধ্য থেকে ২৭ জনকে রাজা বিয়ে দিয়েছিল চন্দ্...</td>\n",
       "      <td>2021</td>\n",
       "      <td>NaN</td>\n",
       "      <td>NaN</td>\n",
       "      <td>NaN</td>\n",
       "    </tr>\n",
       "    <tr>\n",
       "      <th>35998</th>\n",
       "      <td>35999</td>\n",
       "      <td>surprise</td>\n",
       "      <td>ওয়াকফের শাব্দিক অর্থ কোনো কিছু আটকে রাখা, উৎসর...</td>\n",
       "      <td>2021</td>\n",
       "      <td>NaN</td>\n",
       "      <td>NaN</td>\n",
       "      <td>NaN</td>\n",
       "    </tr>\n",
       "    <tr>\n",
       "      <th>35999</th>\n",
       "      <td>36000</td>\n",
       "      <td>surprise</td>\n",
       "      <td>তৃণমূলের সাবেক মন্ত্রী শুভেন্দু সম্প্রতি মমতা...</td>\n",
       "      <td>2021</td>\n",
       "      <td>NaN</td>\n",
       "      <td>NaN</td>\n",
       "      <td>NaN</td>\n",
       "    </tr>\n",
       "  </tbody>\n",
       "</table>\n",
       "</div>"
      ],
      "text/plain": [
       "          SL   Emotion                                               Text  \\\n",
       "35995  35996  surprise  ভারতের মতো একটা বিশাল দেশে এত অঙ্গরাজ্য যে সব ...   \n",
       "35996  35997  surprise                ২৪, ৫০, এমনকি কারো কারো মতে ৬০ জন।    \n",
       "35997  35998  surprise  এদের মধ্য থেকে ২৭ জনকে রাজা বিয়ে দিয়েছিল চন্দ্...   \n",
       "35998  35999  surprise  ওয়াকফের শাব্দিক অর্থ কোনো কিছু আটকে রাখা, উৎসর...   \n",
       "35999  36000  surprise   তৃণমূলের সাবেক মন্ত্রী শুভেন্দু সম্প্রতি মমতা...   \n",
       "\n",
       "       Year  Racial Biases  Hatred Percentage  Depression Percentage  \n",
       "35995  2021            NaN                NaN                    NaN  \n",
       "35996  2021            NaN                NaN                    NaN  \n",
       "35997  2021            NaN                NaN                    NaN  \n",
       "35998  2021            NaN                NaN                    NaN  \n",
       "35999  2021            NaN                NaN                    NaN  "
      ]
     },
     "execution_count": 78,
     "metadata": {},
     "output_type": "execute_result"
    }
   ],
   "source": [
    "df.tail()"
   ]
  },
  {
   "cell_type": "code",
   "execution_count": 79,
   "id": "7bcb0ed6",
   "metadata": {},
   "outputs": [
    {
     "data": {
      "text/plain": [
       "disgust     6000\n",
       "angry       6000\n",
       "happy       6000\n",
       "surprise    6000\n",
       "fear        6000\n",
       "sad         6000\n",
       "Name: Emotion, dtype: int64"
      ]
     },
     "execution_count": 79,
     "metadata": {},
     "output_type": "execute_result"
    }
   ],
   "source": [
    "df[\"Emotion\"].value_counts()"
   ]
  },
  {
   "cell_type": "code",
   "execution_count": 80,
   "id": "b0650e0e",
   "metadata": {},
   "outputs": [],
   "source": [
    "class_names = ['disgust','angry','happy','surprise','fear','sad']"
   ]
  },
  {
   "cell_type": "code",
   "execution_count": 7,
   "id": "c294da11",
   "metadata": {},
   "outputs": [],
   "source": [
    "encoding = {\n",
    "    'disgust': 0, \n",
    "    'angry' :1,\n",
    "    'happy':2,\n",
    "    'surprise':3,\n",
    "    'fear':4,\n",
    "    'sad':5\n",
    "}"
   ]
  },
  {
   "cell_type": "code",
   "execution_count": 81,
   "id": "d2f6327e",
   "metadata": {},
   "outputs": [],
   "source": [
    "text = df['Text'].values.tolist()\n",
    "emotion= df['Emotion'].values.tolist()"
   ]
  },
  {
   "cell_type": "code",
   "execution_count": 82,
   "id": "06974fef",
   "metadata": {},
   "outputs": [],
   "source": [
    "from sklearn.model_selection import train_test_split\n",
    "X_train, X_test, y_train, y_test = train_test_split(text , emotion, test_size=.2)"
   ]
  },
  {
   "cell_type": "code",
   "execution_count": 10,
   "id": "3ad2939c",
   "metadata": {},
   "outputs": [],
   "source": [
    "y_train = [encoding[x] for x in y_train]\n",
    "y_test = [encoding[x] for x in y_test]"
   ]
  },
  {
   "cell_type": "code",
   "execution_count": 84,
   "id": "af940788",
   "metadata": {
    "scrolled": true
   },
   "outputs": [
    {
     "data": {
      "text/plain": [
       "disgust     6000\n",
       "angry       6000\n",
       "happy       6000\n",
       "surprise    6000\n",
       "fear        6000\n",
       "sad         6000\n",
       "Name: Emotion, dtype: int64"
      ]
     },
     "execution_count": 84,
     "metadata": {},
     "output_type": "execute_result"
    }
   ],
   "source": [
    "df[\"Emotion\"].value_counts()"
   ]
  },
  {
   "cell_type": "code",
   "execution_count": 85,
   "id": "fe9e61fb",
   "metadata": {},
   "outputs": [],
   "source": [
    "import ktrain\n",
    "from ktrain import text\n",
    "MODEL_NAME = 'sagorsarker/bangla-bert-base'\n",
    "t = text.Transformer(MODEL_NAME, maxlen=500)\n"
   ]
  },
  {
   "cell_type": "code",
   "execution_count": 86,
   "id": "c269013f",
   "metadata": {},
   "outputs": [
    {
     "name": "stdout",
     "output_type": "stream",
     "text": [
      "preprocessing train...\n",
      "language: bn\n",
      "train sequence lengths:\n",
      "\tmean : 16\n",
      "\t95percentile : 44\n",
      "\t99percentile : 66\n"
     ]
    },
    {
     "data": {
      "text/html": [],
      "text/plain": [
       "<IPython.core.display.HTML object>"
      ]
     },
     "metadata": {},
     "output_type": "display_data"
    },
    {
     "name": "stdout",
     "output_type": "stream",
     "text": [
      "Is Multi-Label? False\n",
      "preprocessing test...\n",
      "language: bn\n",
      "test sequence lengths:\n",
      "\tmean : 16\n",
      "\t95percentile : 45\n",
      "\t99percentile : 70\n"
     ]
    },
    {
     "data": {
      "text/html": [],
      "text/plain": [
       "<IPython.core.display.HTML object>"
      ]
     },
     "metadata": {},
     "output_type": "display_data"
    }
   ],
   "source": [
    "trn = t.preprocess_train(X_train, y_train)\n",
    "val = t.preprocess_test(X_test, y_test)"
   ]
  },
  {
   "cell_type": "code",
   "execution_count": 87,
   "id": "69d54231",
   "metadata": {
    "scrolled": true
   },
   "outputs": [],
   "source": [
    "model = t.get_classifier()"
   ]
  },
  {
   "cell_type": "code",
   "execution_count": 88,
   "id": "7070ffb4",
   "metadata": {},
   "outputs": [],
   "source": [
    "learner = ktrain.get_learner(model, train_data=trn, val_data=val, batch_size=6)"
   ]
  },
  {
   "cell_type": "code",
   "execution_count": null,
   "id": "faef250a",
   "metadata": {},
   "outputs": [],
   "source": [
    "learner.lr_find(show_plot=True, max_epochs=1)"
   ]
  },
  {
   "cell_type": "code",
   "execution_count": 89,
   "id": "e1e76e69",
   "metadata": {
    "scrolled": true
   },
   "outputs": [
    {
     "name": "stdout",
     "output_type": "stream",
     "text": [
      "\n",
      "\n",
      "begin training using onecycle policy with max lr of 2e-05...\n",
      "Epoch 1/3\n",
      "4800/4800 [==============================] - 92237s 19s/step - loss: 1.3248 - accuracy: 0.4865 - val_loss: 0.8402 - val_accuracy: 0.7101\n",
      "Epoch 2/3\n",
      "4800/4800 [==============================] - 93490s 19s/step - loss: 0.6400 - accuracy: 0.7875 - val_loss: 0.5421 - val_accuracy: 0.8247\n",
      "Epoch 3/3\n",
      "4800/4800 [==============================] - 92498s 19s/step - loss: 0.2784 - accuracy: 0.9096 - val_loss: 0.4559 - val_accuracy: 0.8617\n"
     ]
    },
    {
     "data": {
      "text/plain": [
       "<tensorflow.python.keras.callbacks.History at 0x2599d2513d0>"
      ]
     },
     "execution_count": 89,
     "metadata": {},
     "output_type": "execute_result"
    }
   ],
   "source": [
    "learner.fit_onecycle(2e-5, 3)"
   ]
  },
  {
   "cell_type": "code",
   "execution_count": 90,
   "id": "0ed64993",
   "metadata": {},
   "outputs": [
    {
     "name": "stdout",
     "output_type": "stream",
     "text": [
      "              precision    recall  f1-score   support\n",
      "\n",
      "     disgust       0.83      0.86      0.84      1194\n",
      "       angry       0.89      0.88      0.88      1182\n",
      "       happy       0.92      0.91      0.92      1263\n",
      "    surprise       0.88      0.88      0.88      1200\n",
      "        fear       0.77      0.75      0.76      1234\n",
      "         sad       0.88      0.90      0.89      1127\n",
      "\n",
      "    accuracy                           0.86      7200\n",
      "   macro avg       0.86      0.86      0.86      7200\n",
      "weighted avg       0.86      0.86      0.86      7200\n",
      "\n"
     ]
    },
    {
     "data": {
      "text/plain": [
       "array([[1026,   30,   19,   21,   79,   19],\n",
       "       [  52, 1039,    8,   14,   49,   20],\n",
       "       [  28,    8, 1152,   17,   42,   16],\n",
       "       [  27,   13,   16, 1050,   59,   35],\n",
       "       [  95,   61,   42,   64,  923,   49],\n",
       "       [  15,   17,   13,   23,   45, 1014]], dtype=int64)"
      ]
     },
     "execution_count": 90,
     "metadata": {},
     "output_type": "execute_result"
    }
   ],
   "source": [
    "learner.validate(val_data=(val), class_names=class_names)"
   ]
  },
  {
   "cell_type": "code",
   "execution_count": 91,
   "id": "63627edb",
   "metadata": {},
   "outputs": [
    {
     "name": "stdout",
     "output_type": "stream",
     "text": [
      "              precision    recall  f1-score   support\n",
      "\n",
      "           0       0.83      0.86      0.84      1194\n",
      "           1       0.89      0.88      0.88      1182\n",
      "           2       0.92      0.91      0.92      1263\n",
      "           3       0.88      0.88      0.88      1200\n",
      "           4       0.77      0.75      0.76      1234\n",
      "           5       0.88      0.90      0.89      1127\n",
      "\n",
      "    accuracy                           0.86      7200\n",
      "   macro avg       0.86      0.86      0.86      7200\n",
      "weighted avg       0.86      0.86      0.86      7200\n",
      "\n"
     ]
    },
    {
     "data": {
      "text/plain": [
       "array([[1026,   30,   19,   21,   79,   19],\n",
       "       [  52, 1039,    8,   14,   49,   20],\n",
       "       [  28,    8, 1152,   17,   42,   16],\n",
       "       [  27,   13,   16, 1050,   59,   35],\n",
       "       [  95,   61,   42,   64,  923,   49],\n",
       "       [  15,   17,   13,   23,   45, 1014]], dtype=int64)"
      ]
     },
     "execution_count": 91,
     "metadata": {},
     "output_type": "execute_result"
    }
   ],
   "source": [
    "learner.evaluate()\n"
   ]
  },
  {
   "cell_type": "code",
   "execution_count": 93,
   "id": "9e70fc78",
   "metadata": {},
   "outputs": [],
   "source": [
    "model.save(\"Bangla-Bert_model\")"
   ]
  },
  {
   "cell_type": "code",
   "execution_count": null,
   "id": "1bc1c86e",
   "metadata": {},
   "outputs": [],
   "source": []
  }
 ],
 "metadata": {
  "kernelspec": {
   "display_name": "Python 3 (ipykernel)",
   "language": "python",
   "name": "python3"
  },
  "language_info": {
   "codemirror_mode": {
    "name": "ipython",
    "version": 3
   },
   "file_extension": ".py",
   "mimetype": "text/x-python",
   "name": "python",
   "nbconvert_exporter": "python",
   "pygments_lexer": "ipython3",
   "version": "3.8.12"
  }
 },
 "nbformat": 4,
 "nbformat_minor": 5
}
