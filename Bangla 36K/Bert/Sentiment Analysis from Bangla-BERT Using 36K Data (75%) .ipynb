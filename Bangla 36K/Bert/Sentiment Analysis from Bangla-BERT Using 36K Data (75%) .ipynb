{
 "cells": [
  {
   "cell_type": "code",
   "execution_count": 1,
   "id": "d32533c5",
   "metadata": {},
   "outputs": [],
   "source": [
    "import pandas as pd\n",
    "import numpy as np\n"
   ]
  },
  {
   "cell_type": "code",
   "execution_count": 2,
   "id": "bba016ba",
   "metadata": {
    "scrolled": true
   },
   "outputs": [],
   "source": [
    "df1= pd.read_excel('Dataset.xlsx') \n",
    "df=df1.sample(frac = 0.75)"
   ]
  },
  {
   "cell_type": "code",
   "execution_count": 3,
   "id": "3c2ae414",
   "metadata": {
    "scrolled": true
   },
   "outputs": [
    {
     "data": {
      "text/html": [
       "<div>\n",
       "<style scoped>\n",
       "    .dataframe tbody tr th:only-of-type {\n",
       "        vertical-align: middle;\n",
       "    }\n",
       "\n",
       "    .dataframe tbody tr th {\n",
       "        vertical-align: top;\n",
       "    }\n",
       "\n",
       "    .dataframe thead th {\n",
       "        text-align: right;\n",
       "    }\n",
       "</style>\n",
       "<table border=\"1\" class=\"dataframe\">\n",
       "  <thead>\n",
       "    <tr style=\"text-align: right;\">\n",
       "      <th></th>\n",
       "      <th>SL</th>\n",
       "      <th>Emotion</th>\n",
       "      <th>Text</th>\n",
       "      <th>Year</th>\n",
       "      <th>Racial Biases</th>\n",
       "      <th>Hatred Percentage</th>\n",
       "      <th>Depression Percentage</th>\n",
       "    </tr>\n",
       "  </thead>\n",
       "  <tbody>\n",
       "    <tr>\n",
       "      <th>15524</th>\n",
       "      <td>15525</td>\n",
       "      <td>angry</td>\n",
       "      <td>ভালবাসতে জানেন পাইতে ও নিতে পারেন কিন্তু দিতে ...</td>\n",
       "      <td>2018</td>\n",
       "      <td>NaN</td>\n",
       "      <td>NaN</td>\n",
       "      <td>NaN</td>\n",
       "    </tr>\n",
       "    <tr>\n",
       "      <th>35245</th>\n",
       "      <td>35246</td>\n",
       "      <td>fear</td>\n",
       "      <td>থাকতে হবে সতর্ক ও সচেতন</td>\n",
       "      <td>2021</td>\n",
       "      <td>NaN</td>\n",
       "      <td>NaN</td>\n",
       "      <td>NaN</td>\n",
       "    </tr>\n",
       "    <tr>\n",
       "      <th>17575</th>\n",
       "      <td>17576</td>\n",
       "      <td>surprise</td>\n",
       "      <td>মামা বাড়ীর আবদার!</td>\n",
       "      <td>2018</td>\n",
       "      <td>NaN</td>\n",
       "      <td>NaN</td>\n",
       "      <td>NaN</td>\n",
       "    </tr>\n",
       "    <tr>\n",
       "      <th>19909</th>\n",
       "      <td>19910</td>\n",
       "      <td>disgust</td>\n",
       "      <td>আমারা যারা ছাএ,তারা কি স্টক করে মারা যাবো নাকি</td>\n",
       "      <td>2019</td>\n",
       "      <td>NaN</td>\n",
       "      <td>NaN</td>\n",
       "      <td>NaN</td>\n",
       "    </tr>\n",
       "    <tr>\n",
       "      <th>25370</th>\n",
       "      <td>25371</td>\n",
       "      <td>disgust</td>\n",
       "      <td>ভাই পাগলের সাথে কি কন!! বাদদেন!! বাংলাদেশে একট...</td>\n",
       "      <td>2020</td>\n",
       "      <td>NaN</td>\n",
       "      <td>NaN</td>\n",
       "      <td>NaN</td>\n",
       "    </tr>\n",
       "  </tbody>\n",
       "</table>\n",
       "</div>"
      ],
      "text/plain": [
       "          SL   Emotion                                               Text  \\\n",
       "15524  15525     angry  ভালবাসতে জানেন পাইতে ও নিতে পারেন কিন্তু দিতে ...   \n",
       "35245  35246      fear                            থাকতে হবে সতর্ক ও সচেতন   \n",
       "17575  17576  surprise                                 মামা বাড়ীর আবদার!    \n",
       "19909  19910   disgust     আমারা যারা ছাএ,তারা কি স্টক করে মারা যাবো নাকি   \n",
       "25370  25371   disgust  ভাই পাগলের সাথে কি কন!! বাদদেন!! বাংলাদেশে একট...   \n",
       "\n",
       "       Year  Racial Biases  Hatred Percentage  Depression Percentage  \n",
       "15524  2018            NaN                NaN                    NaN  \n",
       "35245  2021            NaN                NaN                    NaN  \n",
       "17575  2018            NaN                NaN                    NaN  \n",
       "19909  2019            NaN                NaN                    NaN  \n",
       "25370  2020            NaN                NaN                    NaN  "
      ]
     },
     "execution_count": 3,
     "metadata": {},
     "output_type": "execute_result"
    }
   ],
   "source": [
    "df.head()"
   ]
  },
  {
   "cell_type": "code",
   "execution_count": 4,
   "id": "83d9ff3e",
   "metadata": {},
   "outputs": [
    {
     "data": {
      "text/html": [
       "<div>\n",
       "<style scoped>\n",
       "    .dataframe tbody tr th:only-of-type {\n",
       "        vertical-align: middle;\n",
       "    }\n",
       "\n",
       "    .dataframe tbody tr th {\n",
       "        vertical-align: top;\n",
       "    }\n",
       "\n",
       "    .dataframe thead th {\n",
       "        text-align: right;\n",
       "    }\n",
       "</style>\n",
       "<table border=\"1\" class=\"dataframe\">\n",
       "  <thead>\n",
       "    <tr style=\"text-align: right;\">\n",
       "      <th></th>\n",
       "      <th>SL</th>\n",
       "      <th>Emotion</th>\n",
       "      <th>Text</th>\n",
       "      <th>Year</th>\n",
       "      <th>Racial Biases</th>\n",
       "      <th>Hatred Percentage</th>\n",
       "      <th>Depression Percentage</th>\n",
       "    </tr>\n",
       "  </thead>\n",
       "  <tbody>\n",
       "    <tr>\n",
       "      <th>11114</th>\n",
       "      <td>11115</td>\n",
       "      <td>happy</td>\n",
       "      <td>দেশটাকে শেখ হাসিনার সরকার উন্নয়নের শিখরে পৌঁছে...</td>\n",
       "      <td>2017</td>\n",
       "      <td>NaN</td>\n",
       "      <td>NaN</td>\n",
       "      <td>NaN</td>\n",
       "    </tr>\n",
       "    <tr>\n",
       "      <th>28148</th>\n",
       "      <td>28149</td>\n",
       "      <td>sad</td>\n",
       "      <td>ভারতে করোনায় আবারও রেকর্ড সংক্রমণ, 'রেকর্ড' মৃ...</td>\n",
       "      <td>2020</td>\n",
       "      <td>NaN</td>\n",
       "      <td>NaN</td>\n",
       "      <td>NaN</td>\n",
       "    </tr>\n",
       "    <tr>\n",
       "      <th>23171</th>\n",
       "      <td>23172</td>\n",
       "      <td>surprise</td>\n",
       "      <td>হঠাৎ ব্রাহ্মণবাড়িয়া প্রেসক্লাবে হেফাজতের নেতারা</td>\n",
       "      <td>2019</td>\n",
       "      <td>NaN</td>\n",
       "      <td>NaN</td>\n",
       "      <td>NaN</td>\n",
       "    </tr>\n",
       "    <tr>\n",
       "      <th>23112</th>\n",
       "      <td>23113</td>\n",
       "      <td>surprise</td>\n",
       "      <td>প্রথমে এলিজাবেথই প্রিন্স ফিলিপের প্রেমে পড়েন।</td>\n",
       "      <td>2019</td>\n",
       "      <td>NaN</td>\n",
       "      <td>NaN</td>\n",
       "      <td>NaN</td>\n",
       "    </tr>\n",
       "    <tr>\n",
       "      <th>16507</th>\n",
       "      <td>16508</td>\n",
       "      <td>disgust</td>\n",
       "      <td>তাঁর সংসদীয় এলাকায় এক সাংবাদিককে তাঁর লোকেরা হ...</td>\n",
       "      <td>2018</td>\n",
       "      <td>NaN</td>\n",
       "      <td>NaN</td>\n",
       "      <td>NaN</td>\n",
       "    </tr>\n",
       "  </tbody>\n",
       "</table>\n",
       "</div>"
      ],
      "text/plain": [
       "          SL   Emotion                                               Text  \\\n",
       "11114  11115     happy  দেশটাকে শেখ হাসিনার সরকার উন্নয়নের শিখরে পৌঁছে...   \n",
       "28148  28149       sad  ভারতে করোনায় আবারও রেকর্ড সংক্রমণ, 'রেকর্ড' মৃ...   \n",
       "23171  23172  surprise    হঠাৎ ব্রাহ্মণবাড়িয়া প্রেসক্লাবে হেফাজতের নেতারা   \n",
       "23112  23113  surprise      প্রথমে এলিজাবেথই প্রিন্স ফিলিপের প্রেমে পড়েন।   \n",
       "16507  16508   disgust  তাঁর সংসদীয় এলাকায় এক সাংবাদিককে তাঁর লোকেরা হ...   \n",
       "\n",
       "       Year  Racial Biases  Hatred Percentage  Depression Percentage  \n",
       "11114  2017            NaN                NaN                    NaN  \n",
       "28148  2020            NaN                NaN                    NaN  \n",
       "23171  2019            NaN                NaN                    NaN  \n",
       "23112  2019            NaN                NaN                    NaN  \n",
       "16507  2018            NaN                NaN                    NaN  "
      ]
     },
     "execution_count": 4,
     "metadata": {},
     "output_type": "execute_result"
    }
   ],
   "source": [
    "df.tail()"
   ]
  },
  {
   "cell_type": "code",
   "execution_count": 5,
   "id": "7bcb0ed6",
   "metadata": {},
   "outputs": [
    {
     "data": {
      "text/plain": [
       "disgust     4548\n",
       "sad         4524\n",
       "fear        4503\n",
       "happy       4490\n",
       "surprise    4475\n",
       "angry       4460\n",
       "Name: Emotion, dtype: int64"
      ]
     },
     "execution_count": 5,
     "metadata": {},
     "output_type": "execute_result"
    }
   ],
   "source": [
    "df[\"Emotion\"].value_counts()"
   ]
  },
  {
   "cell_type": "code",
   "execution_count": 6,
   "id": "b0650e0e",
   "metadata": {},
   "outputs": [],
   "source": [
    "class_names = ['disgust','angry','happy','surprise','fear','sad']"
   ]
  },
  {
   "cell_type": "code",
   "execution_count": 7,
   "id": "c294da11",
   "metadata": {},
   "outputs": [],
   "source": [
    "encoding = {\n",
    "    'disgust': 0, \n",
    "    'angry' :1,\n",
    "    'happy':2,\n",
    "    'surprise':3,\n",
    "    'fear':4,\n",
    "    'sad':5\n",
    "}"
   ]
  },
  {
   "cell_type": "code",
   "execution_count": 8,
   "id": "d2f6327e",
   "metadata": {},
   "outputs": [],
   "source": [
    "text = df['Text'].values.tolist()\n",
    "emotion= df['Emotion'].tolist()"
   ]
  },
  {
   "cell_type": "code",
   "execution_count": 9,
   "id": "06974fef",
   "metadata": {},
   "outputs": [],
   "source": [
    "from sklearn.model_selection import train_test_split\n",
    "X_train, X_test, y_train, y_test = train_test_split(text , emotion, test_size=.2, random_state=42)"
   ]
  },
  {
   "cell_type": "code",
   "execution_count": 10,
   "id": "af940788",
   "metadata": {
    "scrolled": false
   },
   "outputs": [
    {
     "data": {
      "text/plain": [
       "disgust     4548\n",
       "sad         4524\n",
       "fear        4503\n",
       "happy       4490\n",
       "surprise    4475\n",
       "angry       4460\n",
       "Name: Emotion, dtype: int64"
      ]
     },
     "execution_count": 10,
     "metadata": {},
     "output_type": "execute_result"
    }
   ],
   "source": [
    "df[\"Emotion\"].value_counts()"
   ]
  },
  {
   "cell_type": "code",
   "execution_count": 11,
   "id": "fe9e61fb",
   "metadata": {},
   "outputs": [],
   "source": [
    "import ktrain\n",
    "from ktrain import text\n",
    "MODEL_NAME = 'sagorsarker/bangla-bert-base'\n",
    "t = text.Transformer(MODEL_NAME, maxlen=500)\n"
   ]
  },
  {
   "cell_type": "code",
   "execution_count": 12,
   "id": "c269013f",
   "metadata": {},
   "outputs": [
    {
     "name": "stdout",
     "output_type": "stream",
     "text": [
      "preprocessing train...\n",
      "language: bn\n",
      "train sequence lengths:\n",
      "\tmean : 16\n",
      "\t95percentile : 44\n",
      "\t99percentile : 69\n"
     ]
    },
    {
     "data": {
      "text/html": [],
      "text/plain": [
       "<IPython.core.display.HTML object>"
      ]
     },
     "metadata": {},
     "output_type": "display_data"
    },
    {
     "name": "stdout",
     "output_type": "stream",
     "text": [
      "Is Multi-Label? False\n",
      "preprocessing test...\n",
      "language: bn\n",
      "test sequence lengths:\n",
      "\tmean : 16\n",
      "\t95percentile : 44\n",
      "\t99percentile : 67\n"
     ]
    },
    {
     "data": {
      "text/html": [],
      "text/plain": [
       "<IPython.core.display.HTML object>"
      ]
     },
     "metadata": {},
     "output_type": "display_data"
    }
   ],
   "source": [
    "trn = t.preprocess_train(X_train, y_train)\n",
    "val = t.preprocess_test(X_test, y_test)"
   ]
  },
  {
   "cell_type": "code",
   "execution_count": 13,
   "id": "69d54231",
   "metadata": {
    "scrolled": true
   },
   "outputs": [],
   "source": [
    "model = t.get_classifier()"
   ]
  },
  {
   "cell_type": "code",
   "execution_count": 14,
   "id": "7070ffb4",
   "metadata": {},
   "outputs": [],
   "source": [
    "learner = ktrain.get_learner(model, train_data=trn, val_data=val, batch_size=6)"
   ]
  },
  {
   "cell_type": "code",
   "execution_count": 15,
   "id": "e1e76e69",
   "metadata": {
    "scrolled": true
   },
   "outputs": [
    {
     "name": "stdout",
     "output_type": "stream",
     "text": [
      "\n",
      "\n",
      "begin training using onecycle policy with max lr of 2e-05...\n",
      "Epoch 1/5\n",
      "3600/3600 [==============================] - 38860s 11s/step - loss: 1.4698 - accuracy: 0.4169 - val_loss: 1.0206 - val_accuracy: 0.6500\n",
      "Epoch 2/5\n",
      "3600/3600 [==============================] - 39394s 11s/step - loss: 0.8085 - accuracy: 0.7254 - val_loss: 0.7252 - val_accuracy: 0.7609\n",
      "Epoch 3/5\n",
      "3600/3600 [==============================] - 40366s 11s/step - loss: 0.4975 - accuracy: 0.8378 - val_loss: 0.5908 - val_accuracy: 0.8180\n",
      "Epoch 4/5\n",
      "3600/3600 [==============================] - 39903s 11s/step - loss: 0.2601 - accuracy: 0.9141 - val_loss: 0.5850 - val_accuracy: 0.8363\n",
      "Epoch 5/5\n",
      "3600/3600 [==============================] - 40008s 11s/step - loss: 0.1311 - accuracy: 0.9536 - val_loss: 0.5989 - val_accuracy: 0.8469\n"
     ]
    },
    {
     "data": {
      "text/plain": [
       "<tensorflow.python.keras.callbacks.History at 0x200e75f83d0>"
      ]
     },
     "execution_count": 15,
     "metadata": {},
     "output_type": "execute_result"
    }
   ],
   "source": [
    "learner.fit_onecycle(2e-5, 5)"
   ]
  },
  {
   "cell_type": "code",
   "execution_count": 16,
   "id": "b9ccd39f",
   "metadata": {
    "scrolled": true
   },
   "outputs": [
    {
     "name": "stdout",
     "output_type": "stream",
     "text": [
      "              precision    recall  f1-score   support\n",
      "\n",
      "     disgust       0.84      0.84      0.84       884\n",
      "       angry       0.85      0.89      0.87       954\n",
      "       happy       0.87      0.91      0.89       850\n",
      "    surprise       0.88      0.86      0.87       903\n",
      "        fear       0.78      0.70      0.74       897\n",
      "         sad       0.84      0.89      0.86       912\n",
      "\n",
      "    accuracy                           0.85      5400\n",
      "   macro avg       0.85      0.85      0.85      5400\n",
      "weighted avg       0.85      0.85      0.85      5400\n",
      "\n"
     ]
    },
    {
     "data": {
      "text/plain": [
       "array([[739,  47,  12,  17,  40,  29],\n",
       "       [ 27, 849,   9,  21,  30,  18],\n",
       "       [ 15,   8, 772,   6,  33,  16],\n",
       "       [ 20,  11,  24, 773,  45,  30],\n",
       "       [ 57,  62,  49,  40, 630,  59],\n",
       "       [ 17,  20,  19,  18,  28, 810]], dtype=int64)"
      ]
     },
     "execution_count": 16,
     "metadata": {},
     "output_type": "execute_result"
    }
   ],
   "source": [
    "learner.validate(val_data=(val), class_names=class_names)"
   ]
  },
  {
   "cell_type": "code",
   "execution_count": null,
   "id": "0ed64993",
   "metadata": {},
   "outputs": [],
   "source": []
  },
  {
   "cell_type": "code",
   "execution_count": null,
   "id": "b3ede535",
   "metadata": {},
   "outputs": [],
   "source": []
  }
 ],
 "metadata": {
  "kernelspec": {
   "display_name": "Python 3 (ipykernel)",
   "language": "python",
   "name": "python3"
  },
  "language_info": {
   "codemirror_mode": {
    "name": "ipython",
    "version": 3
   },
   "file_extension": ".py",
   "mimetype": "text/x-python",
   "name": "python",
   "nbconvert_exporter": "python",
   "pygments_lexer": "ipython3",
   "version": "3.8.12"
  }
 },
 "nbformat": 4,
 "nbformat_minor": 5
}
