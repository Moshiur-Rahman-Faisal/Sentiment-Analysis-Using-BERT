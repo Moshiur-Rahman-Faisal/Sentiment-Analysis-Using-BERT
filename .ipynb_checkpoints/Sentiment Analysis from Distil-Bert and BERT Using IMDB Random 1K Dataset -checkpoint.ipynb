{
 "cells": [
  {
   "cell_type": "code",
   "execution_count": 1,
   "id": "75a9ff4d",
   "metadata": {},
   "outputs": [],
   "source": [
    "import pandas as pd\n",
    "import numpy as np\n",
    "import tensorflow as tf\n",
    "import ktrain\n",
    "from ktrain import text\n"
   ]
  },
  {
   "cell_type": "code",
   "execution_count": 2,
   "id": "2d327530",
   "metadata": {},
   "outputs": [],
   "source": [
    "from tensorflow import keras\n",
    "from tensorflow.keras import layers"
   ]
  },
  {
   "cell_type": "code",
   "execution_count": 3,
   "id": "d0425aff",
   "metadata": {},
   "outputs": [],
   "source": [
    "df1=pd.read_csv(\"IMDB dataset.csv\")\n",
    "df2=pd.read_csv(\"IMDB dataset.csv\")"
   ]
  },
  {
   "cell_type": "code",
   "execution_count": 4,
   "id": "5ce8cd0c",
   "metadata": {
    "scrolled": false
   },
   "outputs": [
    {
     "data": {
      "text/html": [
       "<div>\n",
       "<style scoped>\n",
       "    .dataframe tbody tr th:only-of-type {\n",
       "        vertical-align: middle;\n",
       "    }\n",
       "\n",
       "    .dataframe tbody tr th {\n",
       "        vertical-align: top;\n",
       "    }\n",
       "\n",
       "    .dataframe thead th {\n",
       "        text-align: right;\n",
       "    }\n",
       "</style>\n",
       "<table border=\"1\" class=\"dataframe\">\n",
       "  <thead>\n",
       "    <tr style=\"text-align: right;\">\n",
       "      <th></th>\n",
       "      <th>review</th>\n",
       "      <th>sentiment</th>\n",
       "    </tr>\n",
       "  </thead>\n",
       "  <tbody>\n",
       "    <tr>\n",
       "      <th>0</th>\n",
       "      <td>One of the other reviewers has mentioned that ...</td>\n",
       "      <td>positive</td>\n",
       "    </tr>\n",
       "    <tr>\n",
       "      <th>1</th>\n",
       "      <td>A wonderful little production. &lt;br /&gt;&lt;br /&gt;The...</td>\n",
       "      <td>positive</td>\n",
       "    </tr>\n",
       "    <tr>\n",
       "      <th>2</th>\n",
       "      <td>I thought this was a wonderful way to spend ti...</td>\n",
       "      <td>positive</td>\n",
       "    </tr>\n",
       "    <tr>\n",
       "      <th>3</th>\n",
       "      <td>Basically there's a family where a little boy ...</td>\n",
       "      <td>negative</td>\n",
       "    </tr>\n",
       "    <tr>\n",
       "      <th>4</th>\n",
       "      <td>Petter Mattei's \"Love in the Time of Money\" is...</td>\n",
       "      <td>positive</td>\n",
       "    </tr>\n",
       "  </tbody>\n",
       "</table>\n",
       "</div>"
      ],
      "text/plain": [
       "                                              review sentiment\n",
       "0  One of the other reviewers has mentioned that ...  positive\n",
       "1  A wonderful little production. <br /><br />The...  positive\n",
       "2  I thought this was a wonderful way to spend ti...  positive\n",
       "3  Basically there's a family where a little boy ...  negative\n",
       "4  Petter Mattei's \"Love in the Time of Money\" is...  positive"
      ]
     },
     "execution_count": 4,
     "metadata": {},
     "output_type": "execute_result"
    }
   ],
   "source": [
    "df1.head()"
   ]
  },
  {
   "cell_type": "code",
   "execution_count": 5,
   "id": "3c2ae414",
   "metadata": {
    "scrolled": false
   },
   "outputs": [
    {
     "data": {
      "text/html": [
       "<div>\n",
       "<style scoped>\n",
       "    .dataframe tbody tr th:only-of-type {\n",
       "        vertical-align: middle;\n",
       "    }\n",
       "\n",
       "    .dataframe tbody tr th {\n",
       "        vertical-align: top;\n",
       "    }\n",
       "\n",
       "    .dataframe thead tr th {\n",
       "        text-align: left;\n",
       "    }\n",
       "\n",
       "    .dataframe thead tr:last-of-type th {\n",
       "        text-align: right;\n",
       "    }\n",
       "</style>\n",
       "<table border=\"1\" class=\"dataframe\">\n",
       "  <thead>\n",
       "    <tr>\n",
       "      <th></th>\n",
       "      <th colspan=\"4\" halign=\"left\">review</th>\n",
       "    </tr>\n",
       "    <tr>\n",
       "      <th></th>\n",
       "      <th>count</th>\n",
       "      <th>unique</th>\n",
       "      <th>top</th>\n",
       "      <th>freq</th>\n",
       "    </tr>\n",
       "    <tr>\n",
       "      <th>sentiment</th>\n",
       "      <th></th>\n",
       "      <th></th>\n",
       "      <th></th>\n",
       "      <th></th>\n",
       "    </tr>\n",
       "  </thead>\n",
       "  <tbody>\n",
       "    <tr>\n",
       "      <th>negative</th>\n",
       "      <td>25000</td>\n",
       "      <td>24698</td>\n",
       "      <td>This show comes up with interesting locations ...</td>\n",
       "      <td>3</td>\n",
       "    </tr>\n",
       "    <tr>\n",
       "      <th>positive</th>\n",
       "      <td>25000</td>\n",
       "      <td>24884</td>\n",
       "      <td>Loved today's show!!! It was a variety and not...</td>\n",
       "      <td>5</td>\n",
       "    </tr>\n",
       "  </tbody>\n",
       "</table>\n",
       "</div>"
      ],
      "text/plain": [
       "          review                                                            \\\n",
       "           count unique                                                top   \n",
       "sentiment                                                                    \n",
       "negative   25000  24698  This show comes up with interesting locations ...   \n",
       "positive   25000  24884  Loved today's show!!! It was a variety and not...   \n",
       "\n",
       "                \n",
       "          freq  \n",
       "sentiment       \n",
       "negative     3  \n",
       "positive     5  "
      ]
     },
     "execution_count": 5,
     "metadata": {},
     "output_type": "execute_result"
    }
   ],
   "source": [
    "df1.groupby(\"sentiment\").describe()"
   ]
  },
  {
   "cell_type": "code",
   "execution_count": 6,
   "id": "e7a2d096",
   "metadata": {},
   "outputs": [],
   "source": [
    "# taking negative sentiment and deleting positive\n",
    "df1 = df1[~df1.sentiment.str.contains(\"positive\")]"
   ]
  },
  {
   "cell_type": "code",
   "execution_count": 7,
   "id": "83d204ac",
   "metadata": {
    "scrolled": true
   },
   "outputs": [
    {
     "data": {
      "text/html": [
       "<div>\n",
       "<style scoped>\n",
       "    .dataframe tbody tr th:only-of-type {\n",
       "        vertical-align: middle;\n",
       "    }\n",
       "\n",
       "    .dataframe tbody tr th {\n",
       "        vertical-align: top;\n",
       "    }\n",
       "\n",
       "    .dataframe thead th {\n",
       "        text-align: right;\n",
       "    }\n",
       "</style>\n",
       "<table border=\"1\" class=\"dataframe\">\n",
       "  <thead>\n",
       "    <tr style=\"text-align: right;\">\n",
       "      <th></th>\n",
       "      <th>review</th>\n",
       "      <th>sentiment</th>\n",
       "    </tr>\n",
       "  </thead>\n",
       "  <tbody>\n",
       "    <tr>\n",
       "      <th>3</th>\n",
       "      <td>Basically there's a family where a little boy ...</td>\n",
       "      <td>negative</td>\n",
       "    </tr>\n",
       "    <tr>\n",
       "      <th>7</th>\n",
       "      <td>This show was an amazing, fresh &amp; innovative i...</td>\n",
       "      <td>negative</td>\n",
       "    </tr>\n",
       "    <tr>\n",
       "      <th>8</th>\n",
       "      <td>Encouraged by the positive comments about this...</td>\n",
       "      <td>negative</td>\n",
       "    </tr>\n",
       "    <tr>\n",
       "      <th>10</th>\n",
       "      <td>Phil the Alien is one of those quirky films wh...</td>\n",
       "      <td>negative</td>\n",
       "    </tr>\n",
       "    <tr>\n",
       "      <th>11</th>\n",
       "      <td>I saw this movie when I was about 12 when it c...</td>\n",
       "      <td>negative</td>\n",
       "    </tr>\n",
       "  </tbody>\n",
       "</table>\n",
       "</div>"
      ],
      "text/plain": [
       "                                               review sentiment\n",
       "3   Basically there's a family where a little boy ...  negative\n",
       "7   This show was an amazing, fresh & innovative i...  negative\n",
       "8   Encouraged by the positive comments about this...  negative\n",
       "10  Phil the Alien is one of those quirky films wh...  negative\n",
       "11  I saw this movie when I was about 12 when it c...  negative"
      ]
     },
     "execution_count": 7,
     "metadata": {},
     "output_type": "execute_result"
    }
   ],
   "source": [
    "df1.head()"
   ]
  },
  {
   "cell_type": "code",
   "execution_count": 8,
   "id": "ef12b43f",
   "metadata": {},
   "outputs": [],
   "source": [
    "# randomly picking 500 rows\n",
    "df1 = df1.sample(n=500, replace=True)"
   ]
  },
  {
   "cell_type": "code",
   "execution_count": 9,
   "id": "32de61ba",
   "metadata": {
    "scrolled": true
   },
   "outputs": [
    {
     "data": {
      "text/plain": [
       "negative    500\n",
       "Name: sentiment, dtype: int64"
      ]
     },
     "execution_count": 9,
     "metadata": {},
     "output_type": "execute_result"
    }
   ],
   "source": [
    "df1[\"sentiment\"].value_counts()"
   ]
  },
  {
   "cell_type": "code",
   "execution_count": 10,
   "id": "d47c5416",
   "metadata": {},
   "outputs": [],
   "source": [
    "#taking positive senitment and deleting negative\n",
    "df2 = df2[~df2.sentiment.str.contains(\"negative\")]"
   ]
  },
  {
   "cell_type": "code",
   "execution_count": 11,
   "id": "a22de22a",
   "metadata": {},
   "outputs": [
    {
     "data": {
      "text/html": [
       "<div>\n",
       "<style scoped>\n",
       "    .dataframe tbody tr th:only-of-type {\n",
       "        vertical-align: middle;\n",
       "    }\n",
       "\n",
       "    .dataframe tbody tr th {\n",
       "        vertical-align: top;\n",
       "    }\n",
       "\n",
       "    .dataframe thead th {\n",
       "        text-align: right;\n",
       "    }\n",
       "</style>\n",
       "<table border=\"1\" class=\"dataframe\">\n",
       "  <thead>\n",
       "    <tr style=\"text-align: right;\">\n",
       "      <th></th>\n",
       "      <th>review</th>\n",
       "      <th>sentiment</th>\n",
       "    </tr>\n",
       "  </thead>\n",
       "  <tbody>\n",
       "    <tr>\n",
       "      <th>0</th>\n",
       "      <td>One of the other reviewers has mentioned that ...</td>\n",
       "      <td>positive</td>\n",
       "    </tr>\n",
       "    <tr>\n",
       "      <th>1</th>\n",
       "      <td>A wonderful little production. &lt;br /&gt;&lt;br /&gt;The...</td>\n",
       "      <td>positive</td>\n",
       "    </tr>\n",
       "    <tr>\n",
       "      <th>2</th>\n",
       "      <td>I thought this was a wonderful way to spend ti...</td>\n",
       "      <td>positive</td>\n",
       "    </tr>\n",
       "    <tr>\n",
       "      <th>4</th>\n",
       "      <td>Petter Mattei's \"Love in the Time of Money\" is...</td>\n",
       "      <td>positive</td>\n",
       "    </tr>\n",
       "    <tr>\n",
       "      <th>5</th>\n",
       "      <td>Probably my all-time favorite movie, a story o...</td>\n",
       "      <td>positive</td>\n",
       "    </tr>\n",
       "  </tbody>\n",
       "</table>\n",
       "</div>"
      ],
      "text/plain": [
       "                                              review sentiment\n",
       "0  One of the other reviewers has mentioned that ...  positive\n",
       "1  A wonderful little production. <br /><br />The...  positive\n",
       "2  I thought this was a wonderful way to spend ti...  positive\n",
       "4  Petter Mattei's \"Love in the Time of Money\" is...  positive\n",
       "5  Probably my all-time favorite movie, a story o...  positive"
      ]
     },
     "execution_count": 11,
     "metadata": {},
     "output_type": "execute_result"
    }
   ],
   "source": [
    "df2.head()"
   ]
  },
  {
   "cell_type": "code",
   "execution_count": 12,
   "id": "91bd12cd",
   "metadata": {},
   "outputs": [],
   "source": [
    "# randomly picking 500 rows\n",
    "df2 = df2.sample(n=500, replace=True)"
   ]
  },
  {
   "cell_type": "code",
   "execution_count": 13,
   "id": "af940788",
   "metadata": {
    "scrolled": true
   },
   "outputs": [
    {
     "data": {
      "text/plain": [
       "positive    500\n",
       "Name: sentiment, dtype: int64"
      ]
     },
     "execution_count": 13,
     "metadata": {},
     "output_type": "execute_result"
    }
   ],
   "source": [
    "df2[\"sentiment\"].value_counts()"
   ]
  },
  {
   "cell_type": "code",
   "execution_count": 14,
   "id": "041b807f",
   "metadata": {},
   "outputs": [],
   "source": [
    "#concating positive and negative sentiment\n",
    "frames = [df1, df2]\n",
    "\n",
    "df = pd.concat(frames)\n"
   ]
  },
  {
   "cell_type": "code",
   "execution_count": 15,
   "id": "0e7e7d84",
   "metadata": {
    "scrolled": false
   },
   "outputs": [
    {
     "data": {
      "text/html": [
       "<div>\n",
       "<style scoped>\n",
       "    .dataframe tbody tr th:only-of-type {\n",
       "        vertical-align: middle;\n",
       "    }\n",
       "\n",
       "    .dataframe tbody tr th {\n",
       "        vertical-align: top;\n",
       "    }\n",
       "\n",
       "    .dataframe thead th {\n",
       "        text-align: right;\n",
       "    }\n",
       "</style>\n",
       "<table border=\"1\" class=\"dataframe\">\n",
       "  <thead>\n",
       "    <tr style=\"text-align: right;\">\n",
       "      <th></th>\n",
       "      <th>review</th>\n",
       "      <th>sentiment</th>\n",
       "    </tr>\n",
       "  </thead>\n",
       "  <tbody>\n",
       "    <tr>\n",
       "      <th>21489</th>\n",
       "      <td>Okay now this movie is a piece of work. It's f...</td>\n",
       "      <td>negative</td>\n",
       "    </tr>\n",
       "    <tr>\n",
       "      <th>47203</th>\n",
       "      <td>The story idea is excellent. Unfortunately, th...</td>\n",
       "      <td>negative</td>\n",
       "    </tr>\n",
       "    <tr>\n",
       "      <th>36199</th>\n",
       "      <td>What an appalling film. Don't get me wrong, Ge...</td>\n",
       "      <td>negative</td>\n",
       "    </tr>\n",
       "    <tr>\n",
       "      <th>36789</th>\n",
       "      <td>My summary refers to the fact that this film h...</td>\n",
       "      <td>negative</td>\n",
       "    </tr>\n",
       "    <tr>\n",
       "      <th>8594</th>\n",
       "      <td>Since its release in 1983, \"A Christmas Story\"...</td>\n",
       "      <td>negative</td>\n",
       "    </tr>\n",
       "  </tbody>\n",
       "</table>\n",
       "</div>"
      ],
      "text/plain": [
       "                                                  review sentiment\n",
       "21489  Okay now this movie is a piece of work. It's f...  negative\n",
       "47203  The story idea is excellent. Unfortunately, th...  negative\n",
       "36199  What an appalling film. Don't get me wrong, Ge...  negative\n",
       "36789  My summary refers to the fact that this film h...  negative\n",
       "8594   Since its release in 1983, \"A Christmas Story\"...  negative"
      ]
     },
     "execution_count": 15,
     "metadata": {},
     "output_type": "execute_result"
    }
   ],
   "source": [
    "df.head()"
   ]
  },
  {
   "cell_type": "code",
   "execution_count": 16,
   "id": "8d08a305",
   "metadata": {},
   "outputs": [
    {
     "data": {
      "text/plain": [
       "negative    500\n",
       "positive    500\n",
       "Name: sentiment, dtype: int64"
      ]
     },
     "execution_count": 16,
     "metadata": {},
     "output_type": "execute_result"
    }
   ],
   "source": [
    "df[\"sentiment\"].value_counts()"
   ]
  },
  {
   "cell_type": "code",
   "execution_count": 17,
   "id": "158a24f8",
   "metadata": {},
   "outputs": [],
   "source": [
    "class_names = ['positive', 'negative']"
   ]
  },
  {
   "cell_type": "code",
   "execution_count": 18,
   "id": "bb98ab91",
   "metadata": {},
   "outputs": [],
   "source": [
    "# replacing positive sentiment with 1 and negative with 0\n",
    "encoding = {\n",
    "    \n",
    "    'positive': 1,\n",
    "    'negative': 0\n",
    "}"
   ]
  },
  {
   "cell_type": "code",
   "execution_count": 19,
   "id": "d13708d2",
   "metadata": {},
   "outputs": [],
   "source": [
    "reviews = df['review'].values.tolist()\n",
    "sentiments = df['sentiment'].tolist()"
   ]
  },
  {
   "cell_type": "code",
   "execution_count": 20,
   "id": "d6069f82",
   "metadata": {},
   "outputs": [],
   "source": [
    "from sklearn.model_selection import train_test_split\n",
    "X_train, X_test, y_train, y_test = train_test_split(reviews, sentiments, test_size=.2)"
   ]
  },
  {
   "cell_type": "code",
   "execution_count": 21,
   "id": "339f1a67",
   "metadata": {},
   "outputs": [],
   "source": [
    "y_train = [encoding[x] for x in y_train]\n",
    "y_test = [encoding[x] for x in y_test]"
   ]
  },
  {
   "cell_type": "code",
   "execution_count": 22,
   "id": "8c981f29",
   "metadata": {
    "scrolled": true
   },
   "outputs": [
    {
     "name": "stdout",
     "output_type": "stream",
     "text": [
      "preprocessing train...\n",
      "language: en\n"
     ]
    },
    {
     "data": {
      "text/html": [
       "done."
      ],
      "text/plain": [
       "<IPython.core.display.HTML object>"
      ]
     },
     "metadata": {},
     "output_type": "display_data"
    },
    {
     "name": "stdout",
     "output_type": "stream",
     "text": [
      "Is Multi-Label? False\n",
      "preprocessing test...\n",
      "language: en\n"
     ]
    },
    {
     "data": {
      "text/html": [
       "done."
      ],
      "text/plain": [
       "<IPython.core.display.HTML object>"
      ]
     },
     "metadata": {},
     "output_type": "display_data"
    },
    {
     "name": "stdout",
     "output_type": "stream",
     "text": [
      "task: text classification\n"
     ]
    }
   ],
   "source": [
    "(x_train,  y_train), (x_test, y_test), preproc = text.texts_from_array(x_train=X_train, y_train=y_train,\n",
    "                                                                       x_test=X_test, y_test=y_test,\n",
    "                                                                       class_names=class_names,\n",
    "                                                                       preprocess_mode='bert',\n",
    "                                                                       maxlen=350, \n",
    "                                                                       max_features=35000)"
   ]
  },
  {
   "cell_type": "code",
   "execution_count": 23,
   "id": "39cbd3bb",
   "metadata": {
    "scrolled": false
   },
   "outputs": [
    {
     "name": "stdout",
     "output_type": "stream",
     "text": [
      "Is Multi-Label? False\n",
      "maxlen is 350\n",
      "done.\n"
     ]
    }
   ],
   "source": [
    "model = text.text_classifier('bert', train_data=(x_train, y_train), preproc=preproc)"
   ]
  },
  {
   "cell_type": "code",
   "execution_count": 24,
   "id": "680266e6",
   "metadata": {},
   "outputs": [],
   "source": [
    "learner = ktrain.get_learner(model, train_data=(x_train, y_train), \n",
    "                             val_data=(x_test, y_test),\n",
    "                             batch_size=6)"
   ]
  },
  {
   "cell_type": "code",
   "execution_count": null,
   "id": "12cf45d8",
   "metadata": {
    "scrolled": true
   },
   "outputs": [
    {
     "name": "stdout",
     "output_type": "stream",
     "text": [
      "simulating training for different learning rates... this may take a few moments...\n",
      "Epoch 1/6\n",
      " 12/134 [=>............................] - ETA: 10:19 - loss: 0.7191 - accuracy: 0.5417"
     ]
    }
   ],
   "source": [
    "learner.lr_find(show_plot=True, max_epochs=6)"
   ]
  },
  {
   "cell_type": "code",
   "execution_count": 39,
   "id": "2e6e45bb",
   "metadata": {},
   "outputs": [],
   "source": [
    "learner2 = ktrain.get_learner(model, train_data=(x_train, y_train), \n",
    "                             val_data=(x_test, y_test),\n",
    "                             batch_size=6)"
   ]
  },
  {
   "cell_type": "code",
   "execution_count": 53,
   "id": "0e3738c9",
   "metadata": {},
   "outputs": [
    {
     "ename": "SyntaxError",
     "evalue": "invalid syntax (Temp/ipykernel_10560/2323413192.py, line 1)",
     "output_type": "error",
     "traceback": [
      "\u001b[1;36m  File \u001b[1;32m\"C:\\Users\\moshi\\AppData\\Local\\Temp/ipykernel_10560/2323413192.py\"\u001b[1;36m, line \u001b[1;32m1\u001b[0m\n\u001b[1;33m    fit(epochs:int, learn:BasicLearner, callbacks:Optional[Collection[Callback]]=None, metrics:OptMetrics=None)\u001b[0m\n\u001b[1;37m              ^\u001b[0m\n\u001b[1;31mSyntaxError\u001b[0m\u001b[1;31m:\u001b[0m invalid syntax\n"
     ]
    }
   ],
   "source": []
  },
  {
   "cell_type": "code",
   "execution_count": 45,
   "id": "7e547b6e",
   "metadata": {
    "scrolled": true
   },
   "outputs": [],
   "source": [
    "opt = keras.optimizers.Adam(learning_rate=0.01)\n"
   ]
  },
  {
   "cell_type": "code",
   "execution_count": 54,
   "id": "bda7d8a1",
   "metadata": {},
   "outputs": [
    {
     "ename": "SyntaxError",
     "evalue": "invalid syntax (Temp/ipykernel_10560/772391913.py, line 1)",
     "output_type": "error",
     "traceback": [
      "\u001b[1;36m  File \u001b[1;32m\"C:\\Users\\moshi\\AppData\\Local\\Temp/ipykernel_10560/772391913.py\"\u001b[1;36m, line \u001b[1;32m1\u001b[0m\n\u001b[1;33m    learner2.fit(epochs=4, learn=opt, callbacks=[Callback], metrics:OptMetrics=None)\u001b[0m\n\u001b[1;37m                                                                   ^\u001b[0m\n\u001b[1;31mSyntaxError\u001b[0m\u001b[1;31m:\u001b[0m invalid syntax\n"
     ]
    }
   ],
   "source": [
    "learner2.fit(epochs=4,, callbacks=[Callback], metrics:OptMetrics=None)"
   ]
  },
  {
   "cell_type": "code",
   "execution_count": 49,
   "id": "3865118b",
   "metadata": {},
   "outputs": [
    {
     "ename": "AttributeError",
     "evalue": "'BERTTextClassLearner' object has no attribute 'compile'",
     "output_type": "error",
     "traceback": [
      "\u001b[1;31m---------------------------------------------------------------------------\u001b[0m",
      "\u001b[1;31mAttributeError\u001b[0m                            Traceback (most recent call last)",
      "\u001b[1;32m~\\AppData\\Local\\Temp/ipykernel_10560/317047056.py\u001b[0m in \u001b[0;36m<module>\u001b[1;34m\u001b[0m\n\u001b[0;32m      1\u001b[0m \u001b[1;31m#learner2.compile(loss='categorical_crossentropy', optimizer=opt)\u001b[0m\u001b[1;33m\u001b[0m\u001b[1;33m\u001b[0m\u001b[1;33m\u001b[0m\u001b[0m\n\u001b[1;32m----> 2\u001b[1;33m \u001b[0mlearner2\u001b[0m\u001b[1;33m.\u001b[0m\u001b[0mcompile\u001b[0m\u001b[1;33m(\u001b[0m\u001b[0mtf\u001b[0m\u001b[1;33m.\u001b[0m\u001b[0mkeras\u001b[0m\u001b[1;33m.\u001b[0m\u001b[0moptimizers\u001b[0m\u001b[1;33m.\u001b[0m\u001b[0mSGD\u001b[0m\u001b[1;33m(\u001b[0m\u001b[1;33m)\u001b[0m\u001b[1;33m,\u001b[0m \u001b[0mloss\u001b[0m\u001b[1;33m=\u001b[0m\u001b[1;34m'mse'\u001b[0m\u001b[1;33m)\u001b[0m\u001b[1;33m\u001b[0m\u001b[1;33m\u001b[0m\u001b[0m\n\u001b[0m",
      "\u001b[1;31mAttributeError\u001b[0m: 'BERTTextClassLearner' object has no attribute 'compile'"
     ]
    }
   ],
   "source": [
    "#learner2.compile(loss='categorical_crossentropy', optimizer=opt)\n",
    "learner2.compile(tf.keras.optimizers.SGD(), loss='mse')"
   ]
  },
  {
   "cell_type": "code",
   "execution_count": 66,
   "id": "9dbffadf",
   "metadata": {
    "scrolled": false
   },
   "outputs": [
    {
     "name": "stdout",
     "output_type": "stream",
     "text": [
      "Epoch 1/4\n",
      "134/134 [==============================] - 786s 6s/step - loss: 0.7110 - accuracy: 0.5175 - val_loss: 0.6930 - val_accuracy: 0.5050\n",
      "Epoch 2/4\n",
      "134/134 [==============================] - 789s 6s/step - loss: 0.6935 - accuracy: 0.5188 - val_loss: 0.8932 - val_accuracy: 0.4950\n",
      "Epoch 3/4\n",
      "134/134 [==============================] - 791s 6s/step - loss: 0.7143 - accuracy: 0.4800 - val_loss: 0.6934 - val_accuracy: 0.4950\n",
      "Epoch 4/4\n",
      "134/134 [==============================] - 792s 6s/step - loss: 0.7013 - accuracy: 0.5025 - val_loss: 0.7235 - val_accuracy: 0.5050\n"
     ]
    },
    {
     "data": {
      "text/plain": [
       "<tensorflow.python.keras.callbacks.History at 0x2528948cdc0>"
      ]
     },
     "execution_count": 66,
     "metadata": {},
     "output_type": "execute_result"
    }
   ],
   "source": [
    "learner.fit(2e-4,4)"
   ]
  },
  {
   "cell_type": "code",
   "execution_count": 67,
   "id": "8c1d05f1",
   "metadata": {},
   "outputs": [
    {
     "name": "stdout",
     "output_type": "stream",
     "text": [
      "              precision    recall  f1-score   support\n",
      "\n",
      "    positive       0.00      0.00      0.00        99\n",
      "    negative       0.51      1.00      0.67       101\n",
      "\n",
      "    accuracy                           0.51       200\n",
      "   macro avg       0.25      0.50      0.34       200\n",
      "weighted avg       0.26      0.51      0.34       200\n",
      "\n"
     ]
    },
    {
     "name": "stderr",
     "output_type": "stream",
     "text": [
      "C:\\Users\\moshi\\anaconda3\\lib\\site-packages\\sklearn\\metrics\\_classification.py:1221: UndefinedMetricWarning: Precision and F-score are ill-defined and being set to 0.0 in labels with no predicted samples. Use `zero_division` parameter to control this behavior.\n",
      "  _warn_prf(average, modifier, msg_start, len(result))\n"
     ]
    },
    {
     "data": {
      "text/plain": [
       "array([[  0,  99],\n",
       "       [  0, 101]], dtype=int64)"
      ]
     },
     "execution_count": 67,
     "metadata": {},
     "output_type": "execute_result"
    }
   ],
   "source": [
    "learner.validate(val_data=(x_test, y_test), class_names=class_names)"
   ]
  },
  {
   "cell_type": "code",
   "execution_count": 25,
   "id": "6972950c",
   "metadata": {},
   "outputs": [],
   "source": [
    "learner1 = ktrain.get_learner(model, train_data=(x_train, y_train), \n",
    "                             val_data=(x_test, y_test),\n",
    "                             batch_size=6)"
   ]
  },
  {
   "cell_type": "code",
   "execution_count": 26,
   "id": "ecaf94f5",
   "metadata": {
    "scrolled": true
   },
   "outputs": [],
   "source": [
    "\"\"\"early_stopper = tf.keras.callbacks.EarlyStopping(monitor='val_loss', \n",
    "                                                 patience=5, \n",
    "                                                 restore_best_weights=True)\"\"\""
   ]
  },
  {
   "cell_type": "code",
   "execution_count": 59,
   "id": "d84f03e8",
   "metadata": {},
   "outputs": [],
   "source": [
    "callback = tf.keras.callbacks.EarlyStopping(monitor='loss', patience=3)"
   ]
  },
  {
   "cell_type": "code",
   "execution_count": 60,
   "id": "8faef196",
   "metadata": {
    "scrolled": true
   },
   "outputs": [
    {
     "ename": "NameError",
     "evalue": "name 'learner1' is not defined",
     "output_type": "error",
     "traceback": [
      "\u001b[1;31m---------------------------------------------------------------------------\u001b[0m",
      "\u001b[1;31mNameError\u001b[0m                                 Traceback (most recent call last)",
      "\u001b[1;32m~\\AppData\\Local\\Temp/ipykernel_10560/300505679.py\u001b[0m in \u001b[0;36m<module>\u001b[1;34m\u001b[0m\n\u001b[1;32m----> 1\u001b[1;33m \u001b[0mlearner1\u001b[0m\u001b[1;33m.\u001b[0m\u001b[0mfit\u001b[0m\u001b[1;33m(\u001b[0m\u001b[1;36m2e-5\u001b[0m\u001b[1;33m,\u001b[0m\u001b[1;36m10\u001b[0m\u001b[1;33m,\u001b[0m\u001b[0mcallbacks\u001b[0m\u001b[1;33m=\u001b[0m\u001b[1;33m[\u001b[0m\u001b[0mcallback\u001b[0m\u001b[1;33m]\u001b[0m \u001b[1;33m)\u001b[0m\u001b[1;33m\u001b[0m\u001b[1;33m\u001b[0m\u001b[0m\n\u001b[0m",
      "\u001b[1;31mNameError\u001b[0m: name 'learner1' is not defined"
     ]
    }
   ],
   "source": [
    "learner1.fit(2e-5,10,callbacks=[callback] )"
   ]
  },
  {
   "cell_type": "code",
   "execution_count": null,
   "id": "51baa30e",
   "metadata": {},
   "outputs": [],
   "source": []
  },
  {
   "cell_type": "code",
   "execution_count": 28,
   "id": "d0f9ce3c",
   "metadata": {
    "scrolled": false
   },
   "outputs": [
    {
     "name": "stdout",
     "output_type": "stream",
     "text": [
      "              precision    recall  f1-score   support\n",
      "\n",
      "    positive       0.91      0.85      0.88       258\n",
      "    negative       0.85      0.91      0.88       242\n",
      "\n",
      "    accuracy                           0.88       500\n",
      "   macro avg       0.88      0.88      0.88       500\n",
      "weighted avg       0.88      0.88      0.88       500\n",
      "\n"
     ]
    },
    {
     "data": {
      "text/plain": [
       "array([[219,  39],\n",
       "       [ 22, 220]], dtype=int64)"
      ]
     },
     "execution_count": 28,
     "metadata": {},
     "output_type": "execute_result"
    }
   ],
   "source": [
    "learner1.validate(val_data=(x_test, y_test), class_names=class_names)"
   ]
  },
  {
   "cell_type": "code",
   "execution_count": 23,
   "id": "d25ee272",
   "metadata": {},
   "outputs": [],
   "source": [
    "callback = tf.keras.callbacks.EarlyStopping(monitor='loss', patience=10)"
   ]
  },
  {
   "cell_type": "code",
   "execution_count": 24,
   "id": "76a7a288",
   "metadata": {},
   "outputs": [],
   "source": [
    "learner = ktrain.get_learner(model, train_data=(x_train, y_train), \n",
    "                             val_data=(x_test, y_test),\n",
    "                             batch_size=6)"
   ]
  },
  {
   "cell_type": "code",
   "execution_count": 25,
   "id": "8c147e09",
   "metadata": {},
   "outputs": [
    {
     "name": "stdout",
     "output_type": "stream",
     "text": [
      "Epoch 1/12\n",
      "334/334 [==============================] - 2051s 6s/step - loss: 0.4135 - accuracy: 0.7980 - val_loss: 0.2128 - val_accuracy: 0.9060\n",
      "Epoch 2/12\n",
      "334/334 [==============================] - 2044s 6s/step - loss: 0.1523 - accuracy: 0.9445 - val_loss: 0.2289 - val_accuracy: 0.9180\n",
      "Epoch 3/12\n",
      "334/334 [==============================] - 2042s 6s/step - loss: 0.0660 - accuracy: 0.9770 - val_loss: 0.3039 - val_accuracy: 0.8660\n",
      "Epoch 4/12\n",
      "334/334 [==============================] - 2042s 6s/step - loss: 0.0283 - accuracy: 0.9910 - val_loss: 0.3652 - val_accuracy: 0.9100\n",
      "Epoch 5/12\n",
      "334/334 [==============================] - 2042s 6s/step - loss: 0.0286 - accuracy: 0.9910 - val_loss: 0.5046 - val_accuracy: 0.9080\n",
      "Epoch 6/12\n",
      "334/334 [==============================] - 2081s 6s/step - loss: 0.0267 - accuracy: 0.9900 - val_loss: 0.3329 - val_accuracy: 0.9140\n",
      "Epoch 7/12\n",
      "334/334 [==============================] - 2055s 6s/step - loss: 0.0092 - accuracy: 0.9985 - val_loss: 0.3577 - val_accuracy: 0.9140\n",
      "Epoch 8/12\n",
      "334/334 [==============================] - 2048s 6s/step - loss: 0.0173 - accuracy: 0.9940 - val_loss: 0.3582 - val_accuracy: 0.9140\n",
      "Epoch 9/12\n",
      "334/334 [==============================] - 2139s 6s/step - loss: 0.0187 - accuracy: 0.9930 - val_loss: 0.4044 - val_accuracy: 0.9140\n",
      "Epoch 10/12\n",
      "334/334 [==============================] - 2091s 6s/step - loss: 0.0185 - accuracy: 0.9925 - val_loss: 0.4421 - val_accuracy: 0.8640\n",
      "Epoch 11/12\n",
      "334/334 [==============================] - 2074s 6s/step - loss: 0.0089 - accuracy: 0.9965 - val_loss: 0.5907 - val_accuracy: 0.8860\n",
      "Epoch 12/12\n",
      "334/334 [==============================] - 2058s 6s/step - loss: 0.0238 - accuracy: 0.9930 - val_loss: 0.5596 - val_accuracy: 0.8900\n"
     ]
    },
    {
     "data": {
      "text/plain": [
       "<tensorflow.python.keras.callbacks.History at 0x1749047a190>"
      ]
     },
     "execution_count": 25,
     "metadata": {},
     "output_type": "execute_result"
    }
   ],
   "source": [
    "learner.fit(2e-5,12,callbacks=[callback] )"
   ]
  },
  {
   "cell_type": "code",
   "execution_count": 26,
   "id": "2f5156cc",
   "metadata": {},
   "outputs": [
    {
     "name": "stdout",
     "output_type": "stream",
     "text": [
      "              precision    recall  f1-score   support\n",
      "\n",
      "    positive       0.93      0.84      0.89       253\n",
      "    negative       0.85      0.94      0.89       247\n",
      "\n",
      "    accuracy                           0.89       500\n",
      "   macro avg       0.89      0.89      0.89       500\n",
      "weighted avg       0.89      0.89      0.89       500\n",
      "\n"
     ]
    },
    {
     "data": {
      "text/plain": [
       "array([[213,  40],\n",
       "       [ 15, 232]], dtype=int64)"
      ]
     },
     "execution_count": 26,
     "metadata": {},
     "output_type": "execute_result"
    }
   ],
   "source": [
    "learner.validate(val_data=(x_test, y_test), class_names=class_names)"
   ]
  },
  {
   "cell_type": "code",
   "execution_count": 24,
   "id": "6ca4d018",
   "metadata": {
    "scrolled": true
   },
   "outputs": [
    {
     "name": "stdout",
     "output_type": "stream",
     "text": [
      "simulating training for different learning rates... this may take a few moments...\n",
      "Epoch 1/6\n",
      "667/667 [==============================] - 3692s 6s/step - loss: 0.7084 - accuracy: 0.5495\n",
      "Epoch 2/6\n",
      "667/667 [==============================] - 3762s 6s/step - loss: 0.3560 - accuracy: 0.8543\n",
      "Epoch 3/6\n",
      "667/667 [==============================] - 3715s 6s/step - loss: 0.6229 - accuracy: 0.6438\n",
      "Epoch 4/6\n",
      "667/667 [==============================] - 3711s 6s/step - loss: 1.2551 - accuracy: 0.5117\n",
      "\n",
      "\n",
      "done.\n",
      "Visually inspect loss plot and select learning rate associated with falling loss\n"
     ]
    },
    {
     "data": {
      "image/png": "[encoded data removed]",
      "text/plain": [
       "<Figure size 432x288 with 1 Axes>"
      ]
     },
     "metadata": {
      "needs_background": "light"
     },
     "output_type": "display_data"
    }
   ],
   "source": [
    "# Using lr_find to find a good learning rate\n",
    "learner.lr_find(show_plot=True, max_epochs=6)"
   ]
  },
  {
   "cell_type": "code",
   "execution_count": 23,
   "id": "a216e8b1",
   "metadata": {},
   "outputs": [],
   "source": [
    "learner2 = ktrain.get_learner(model, train_data=(x_train, y_train), \n",
    "                             val_data=(x_test, y_test),\n",
    "                             batch_size=6)"
   ]
  },
  {
   "cell_type": "code",
   "execution_count": 24,
   "id": "9a28e2fc",
   "metadata": {},
   "outputs": [
    {
     "name": "stdout",
     "output_type": "stream",
     "text": [
      "Epoch 1/4\n",
      "334/334 [==============================] - 2110s 6s/step - loss: 0.3676 - accuracy: 0.8300 - val_loss: 0.3005 - val_accuracy: 0.8680\n",
      "Epoch 2/4\n",
      "334/334 [==============================] - 2100s 6s/step - loss: 0.1428 - accuracy: 0.9535 - val_loss: 0.3122 - val_accuracy: 0.8880\n",
      "Epoch 3/4\n",
      "334/334 [==============================] - 2098s 6s/step - loss: 0.0463 - accuracy: 0.9835 - val_loss: 0.4246 - val_accuracy: 0.8960\n",
      "Epoch 4/4\n",
      "334/334 [==============================] - 2099s 6s/step - loss: 0.0324 - accuracy: 0.9875 - val_loss: 0.3877 - val_accuracy: 0.8860\n"
     ]
    },
    {
     "data": {
      "text/plain": [
       "<tensorflow.python.keras.callbacks.History at 0x1ad2a3ea2b0>"
      ]
     },
     "execution_count": 24,
     "metadata": {},
     "output_type": "execute_result"
    }
   ],
   "source": [
    "learner2.fit(2e-5,4)"
   ]
  },
  {
   "cell_type": "code",
   "execution_count": 25,
   "id": "6f24a990",
   "metadata": {
    "scrolled": false
   },
   "outputs": [
    {
     "name": "stdout",
     "output_type": "stream",
     "text": [
      "              precision    recall  f1-score   support\n",
      "\n",
      "    positive       0.90      0.88      0.89       260\n",
      "    negative       0.87      0.89      0.88       240\n",
      "\n",
      "    accuracy                           0.89       500\n",
      "   macro avg       0.89      0.89      0.89       500\n",
      "weighted avg       0.89      0.89      0.89       500\n",
      "\n"
     ]
    },
    {
     "data": {
      "text/plain": [
       "array([[229,  31],\n",
       "       [ 26, 214]], dtype=int64)"
      ]
     },
     "execution_count": 25,
     "metadata": {},
     "output_type": "execute_result"
    }
   ],
   "source": [
    "learner2.validate(val_data=(x_test, y_test), class_names=class_names)"
   ]
  },
  {
   "cell_type": "code",
   "execution_count": 37,
   "id": "de5a4c6f",
   "metadata": {},
   "outputs": [],
   "source": [
    "callback = tf.keras.callbacks.EarlyStopping(monitor='loss', patience=5)"
   ]
  },
  {
   "cell_type": "code",
   "execution_count": 36,
   "id": "b10c84b1",
   "metadata": {},
   "outputs": [],
   "source": [
    "learner3 = ktrain.get_learner(model, train_data=(x_train, y_train), \n",
    "                             val_data=(x_test, y_test),\n",
    "                             batch_size=6)"
   ]
  },
  {
   "cell_type": "code",
   "execution_count": 38,
   "id": "867c073b",
   "metadata": {},
   "outputs": [
    {
     "name": "stdout",
     "output_type": "stream",
     "text": [
      "Epoch 1/12\n",
      "334/334 [==============================] - 2088s 6s/step - loss: 0.0223 - accuracy: 0.9930 - val_loss: 0.3811 - val_accuracy: 0.9060\n",
      "Epoch 2/12\n",
      "334/334 [==============================] - 2053s 6s/step - loss: 0.0172 - accuracy: 0.9950 - val_loss: 0.4521 - val_accuracy: 0.9000\n",
      "Epoch 3/12\n",
      "334/334 [==============================] - 2083s 6s/step - loss: 0.0024 - accuracy: 0.9995 - val_loss: 0.5890 - val_accuracy: 0.9060\n",
      "Epoch 4/12\n",
      "334/334 [==============================] - 2091s 6s/step - loss: 0.0115 - accuracy: 0.9960 - val_loss: 0.6749 - val_accuracy: 0.8900\n",
      "Epoch 5/12\n",
      "334/334 [==============================] - 2153s 6s/step - loss: 0.0163 - accuracy: 0.9965 - val_loss: 0.4390 - val_accuracy: 0.9060\n",
      "Epoch 6/12\n",
      "334/334 [==============================] - 2117s 6s/step - loss: 0.0095 - accuracy: 0.9965 - val_loss: 0.4336 - val_accuracy: 0.9000\n",
      "Epoch 7/12\n",
      "334/334 [==============================] - 2066s 6s/step - loss: 0.0115 - accuracy: 0.9965 - val_loss: 0.4104 - val_accuracy: 0.9100\n",
      "Epoch 8/12\n",
      "334/334 [==============================] - 2064s 6s/step - loss: 0.0079 - accuracy: 0.9965 - val_loss: 0.5071 - val_accuracy: 0.9120\n"
     ]
    },
    {
     "data": {
      "text/plain": [
       "<tensorflow.python.keras.callbacks.History at 0x1749191a9a0>"
      ]
     },
     "execution_count": 38,
     "metadata": {},
     "output_type": "execute_result"
    }
   ],
   "source": [
    "learner3.fit(2e-5,12,callbacks=[callback] )"
   ]
  },
  {
   "cell_type": "code",
   "execution_count": 36,
   "id": "d46c7827",
   "metadata": {
    "scrolled": true
   },
   "outputs": [
    {
     "data": {
      "text/plain": [
       "['positive', 'negative']"
      ]
     },
     "execution_count": 36,
     "metadata": {},
     "output_type": "execute_result"
    }
   ],
   "source": [
    "predictor = ktrain.get_predictor(learner.model, preproc)\n",
    "predictor.get_classes()"
   ]
  },
  {
   "cell_type": "code",
   "execution_count": 39,
   "id": "d790ace3",
   "metadata": {},
   "outputs": [
    {
     "name": "stdout",
     "output_type": "stream",
     "text": [
      "              precision    recall  f1-score   support\n",
      "\n",
      "    positive       0.91      0.92      0.91       253\n",
      "    negative       0.92      0.90      0.91       247\n",
      "\n",
      "    accuracy                           0.91       500\n",
      "   macro avg       0.91      0.91      0.91       500\n",
      "weighted avg       0.91      0.91      0.91       500\n",
      "\n"
     ]
    },
    {
     "data": {
      "text/plain": [
       "array([[233,  20],\n",
       "       [ 24, 223]], dtype=int64)"
      ]
     },
     "execution_count": 39,
     "metadata": {},
     "output_type": "execute_result"
    }
   ],
   "source": [
    "learner3.validate(val_data=(x_test, y_test), class_names=class_names)"
   ]
  },
  {
   "cell_type": "code",
   "execution_count": 42,
   "id": "aa6a0215",
   "metadata": {},
   "outputs": [
    {
     "name": "stdout",
     "output_type": "stream",
     "text": [
      "predicted: negative (0.32)\n"
     ]
    }
   ],
   "source": [
    "import time \n",
    "\n",
    "message = 'I dont feel so good as today is my exam'\n",
    "\n",
    "start_time = time.time() \n",
    "prediction = predictor.predict(message)\n",
    "\n",
    "print('predicted: {} ({:.2f})'.format(prediction, (time.time() - start_time)))"
   ]
  },
  {
   "cell_type": "code",
   "execution_count": 40,
   "id": "521e1835",
   "metadata": {},
   "outputs": [],
   "source": [
    "predictor.save(\"models/bert_model\")"
   ]
  },
  {
   "cell_type": "code",
   "execution_count": null,
   "id": "8ca3eb19",
   "metadata": {},
   "outputs": [],
   "source": []
  }
 ],
 "metadata": {
  "kernelspec": {
   "display_name": "Python 3 (ipykernel)",
   "language": "python",
   "name": "python3"
  },
  "language_info": {
   "codemirror_mode": {
    "name": "ipython",
    "version": 3
   },
   "file_extension": ".py",
   "mimetype": "text/x-python",
   "name": "python",
   "nbconvert_exporter": "python",
   "pygments_lexer": "ipython3",
   "version": "3.8.12"
  }
 },
 "nbformat": 4,
 "nbformat_minor": 5
}
