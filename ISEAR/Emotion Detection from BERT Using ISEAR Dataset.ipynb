{
 "cells": [
  {
   "cell_type": "code",
   "execution_count": null,
   "id": "e970d55f",
   "metadata": {},
   "outputs": [],
   "source": [
    "#importing library pandas, numpy and ktrain : A Lightweight Wrapper for Keras to Help Train Neural Networks"
   ]
  },
  {
   "cell_type": "code",
   "execution_count": 1,
   "id": "6975b48b",
   "metadata": {},
   "outputs": [],
   "source": [
    "import pandas as pd\n",
    "import numpy as np\n",
    "\n",
    "import ktrain\n",
    "from ktrain import text"
   ]
  },
  {
   "cell_type": "code",
   "execution_count": null,
   "id": "3a894b12",
   "metadata": {},
   "outputs": [],
   "source": [
    "#loading ISEAR dataset"
   ]
  },
  {
   "cell_type": "code",
   "execution_count": 2,
   "id": "9ba8848b",
   "metadata": {},
   "outputs": [],
   "source": [
    "df=pd.read_csv(\"isear.csv\")"
   ]
  },
  {
   "cell_type": "code",
   "execution_count": 3,
   "id": "b5a8805c",
   "metadata": {
    "scrolled": true
   },
   "outputs": [
    {
     "data": {
      "text/html": [
       "<div>\n",
       "<style scoped>\n",
       "    .dataframe tbody tr th:only-of-type {\n",
       "        vertical-align: middle;\n",
       "    }\n",
       "\n",
       "    .dataframe tbody tr th {\n",
       "        vertical-align: top;\n",
       "    }\n",
       "\n",
       "    .dataframe thead th {\n",
       "        text-align: right;\n",
       "    }\n",
       "</style>\n",
       "<table border=\"1\" class=\"dataframe\">\n",
       "  <thead>\n",
       "    <tr style=\"text-align: right;\">\n",
       "      <th></th>\n",
       "      <th>Emotion</th>\n",
       "      <th>Text</th>\n",
       "    </tr>\n",
       "  </thead>\n",
       "  <tbody>\n",
       "    <tr>\n",
       "      <th>0</th>\n",
       "      <td>joy</td>\n",
       "      <td>During the period of falling in love, each tim...</td>\n",
       "    </tr>\n",
       "    <tr>\n",
       "      <th>1</th>\n",
       "      <td>fear</td>\n",
       "      <td>When I was involved in a traffic accident.</td>\n",
       "    </tr>\n",
       "    <tr>\n",
       "      <th>2</th>\n",
       "      <td>anger</td>\n",
       "      <td>When I was driving home after  several days of...</td>\n",
       "    </tr>\n",
       "    <tr>\n",
       "      <th>3</th>\n",
       "      <td>sadness</td>\n",
       "      <td>When I lost the person who meant the most to me.</td>\n",
       "    </tr>\n",
       "    <tr>\n",
       "      <th>4</th>\n",
       "      <td>disgust</td>\n",
       "      <td>The time I knocked a deer down - the sight of ...</td>\n",
       "    </tr>\n",
       "  </tbody>\n",
       "</table>\n",
       "</div>"
      ],
      "text/plain": [
       "   Emotion                                               Text\n",
       "0      joy  During the period of falling in love, each tim...\n",
       "1     fear         When I was involved in a traffic accident.\n",
       "2    anger  When I was driving home after  several days of...\n",
       "3  sadness  When I lost the person who meant the most to me. \n",
       "4  disgust  The time I knocked a deer down - the sight of ..."
      ]
     },
     "execution_count": 3,
     "metadata": {},
     "output_type": "execute_result"
    }
   ],
   "source": [
    "df.head()"
   ]
  },
  {
   "cell_type": "code",
   "execution_count": 4,
   "id": "947a2c4e",
   "metadata": {
    "scrolled": true
   },
   "outputs": [
    {
     "data": {
      "text/html": [
       "<div>\n",
       "<style scoped>\n",
       "    .dataframe tbody tr th:only-of-type {\n",
       "        vertical-align: middle;\n",
       "    }\n",
       "\n",
       "    .dataframe tbody tr th {\n",
       "        vertical-align: top;\n",
       "    }\n",
       "\n",
       "    .dataframe thead tr th {\n",
       "        text-align: left;\n",
       "    }\n",
       "\n",
       "    .dataframe thead tr:last-of-type th {\n",
       "        text-align: right;\n",
       "    }\n",
       "</style>\n",
       "<table border=\"1\" class=\"dataframe\">\n",
       "  <thead>\n",
       "    <tr>\n",
       "      <th></th>\n",
       "      <th colspan=\"4\" halign=\"left\">Text</th>\n",
       "    </tr>\n",
       "    <tr>\n",
       "      <th></th>\n",
       "      <th>count</th>\n",
       "      <th>unique</th>\n",
       "      <th>top</th>\n",
       "      <th>freq</th>\n",
       "    </tr>\n",
       "    <tr>\n",
       "      <th>Emotion</th>\n",
       "      <th></th>\n",
       "      <th></th>\n",
       "      <th></th>\n",
       "      <th></th>\n",
       "    </tr>\n",
       "  </thead>\n",
       "  <tbody>\n",
       "    <tr>\n",
       "      <th>anger</th>\n",
       "      <td>1071</td>\n",
       "      <td>1071</td>\n",
       "      <td>When I was driving home after  several days of...</td>\n",
       "      <td>1</td>\n",
       "    </tr>\n",
       "    <tr>\n",
       "      <th>disgust</th>\n",
       "      <td>1067</td>\n",
       "      <td>1066</td>\n",
       "      <td>I saw a program on T.V where they had to saw a...</td>\n",
       "      <td>2</td>\n",
       "    </tr>\n",
       "    <tr>\n",
       "      <th>fear</th>\n",
       "      <td>1081</td>\n",
       "      <td>1074</td>\n",
       "      <td>Before the examn.</td>\n",
       "      <td>3</td>\n",
       "    </tr>\n",
       "    <tr>\n",
       "      <th>guilt</th>\n",
       "      <td>1052</td>\n",
       "      <td>1046</td>\n",
       "      <td>NO RESPONSE.</td>\n",
       "      <td>3</td>\n",
       "    </tr>\n",
       "    <tr>\n",
       "      <th>joy</th>\n",
       "      <td>1081</td>\n",
       "      <td>1070</td>\n",
       "      <td>When I was admitted to the University.</td>\n",
       "      <td>3</td>\n",
       "    </tr>\n",
       "    <tr>\n",
       "      <th>sadness</th>\n",
       "      <td>1067</td>\n",
       "      <td>1040</td>\n",
       "      <td>When my grandfather died.</td>\n",
       "      <td>8</td>\n",
       "    </tr>\n",
       "    <tr>\n",
       "      <th>shame</th>\n",
       "      <td>1054</td>\n",
       "      <td>1046</td>\n",
       "      <td>Not doing well in the examn.</td>\n",
       "      <td>4</td>\n",
       "    </tr>\n",
       "  </tbody>\n",
       "</table>\n",
       "</div>"
      ],
      "text/plain": [
       "         Text                                                               \n",
       "        count unique                                                top freq\n",
       "Emotion                                                                     \n",
       "anger    1071   1071  When I was driving home after  several days of...    1\n",
       "disgust  1067   1066  I saw a program on T.V where they had to saw a...    2\n",
       "fear     1081   1074                                  Before the examn.    3\n",
       "guilt    1052   1046                                       NO RESPONSE.    3\n",
       "joy      1081   1070             When I was admitted to the University.    3\n",
       "sadness  1067   1040                          When my grandfather died.    8\n",
       "shame    1054   1046                       Not doing well in the examn.    4"
      ]
     },
     "execution_count": 4,
     "metadata": {},
     "output_type": "execute_result"
    }
   ],
   "source": [
    "df.groupby(\"Emotion\").describe()"
   ]
  },
  {
   "cell_type": "code",
   "execution_count": 5,
   "id": "9ae7b9e9",
   "metadata": {
    "scrolled": true
   },
   "outputs": [
    {
     "data": {
      "text/plain": [
       "joy        1081\n",
       "fear       1081\n",
       "anger      1071\n",
       "sadness    1067\n",
       "disgust    1067\n",
       "shame      1054\n",
       "guilt      1052\n",
       "Name: Emotion, dtype: int64"
      ]
     },
     "execution_count": 5,
     "metadata": {},
     "output_type": "execute_result"
    }
   ],
   "source": [
    "df[\"Emotion\"].value_counts()"
   ]
  },
  {
   "cell_type": "code",
   "execution_count": null,
   "id": "a60e333b",
   "metadata": {},
   "outputs": [],
   "source": [
    "#create emotion class for later use in Ktrain"
   ]
  },
  {
   "cell_type": "code",
   "execution_count": 6,
   "id": "79ebaeb9",
   "metadata": {},
   "outputs": [],
   "source": [
    "class_names = ['joy', 'sadness', 'fear', 'anger', 'disgust','shame','guilt']\n"
   ]
  },
  {
   "cell_type": "code",
   "execution_count": null,
   "id": "6bbba0da",
   "metadata": {},
   "outputs": [],
   "source": [
    "#Encoding emotion values into Discreate values"
   ]
  },
  {
   "cell_type": "code",
   "execution_count": 7,
   "id": "acbea301",
   "metadata": {},
   "outputs": [],
   "source": [
    "encoding = {\n",
    "    'joy': 0,\n",
    "    'sadness': 1,\n",
    "    'fear': 2,\n",
    "    'anger': 3,\n",
    "    'disgust': 4,\n",
    "    'shame':5,\n",
    "    'guilt':6\n",
    "}"
   ]
  },
  {
   "cell_type": "code",
   "execution_count": null,
   "id": "2064bc69",
   "metadata": {},
   "outputs": [],
   "source": [
    "#dividing into inpout and output\n",
    "#using .tolist() to convert them into list"
   ]
  },
  {
   "cell_type": "code",
   "execution_count": 8,
   "id": "89a93644",
   "metadata": {},
   "outputs": [],
   "source": [
    "reviews = df['Text'].values.tolist()\n",
    "labels = df['Emotion'].tolist()"
   ]
  },
  {
   "cell_type": "code",
   "execution_count": null,
   "id": "9580c990",
   "metadata": {},
   "outputs": [],
   "source": [
    "#dividing into train and test set.\n",
    "#here 20% of the data will be used for test set"
   ]
  },
  {
   "cell_type": "code",
   "execution_count": 9,
   "id": "7c9796de",
   "metadata": {
    "scrolled": false
   },
   "outputs": [],
   "source": [
    "from sklearn.model_selection import train_test_split\n",
    "X_train, X_test, y_train, y_test = train_test_split(reviews, labels, test_size=.2)"
   ]
  },
  {
   "cell_type": "code",
   "execution_count": null,
   "id": "9a9514e9",
   "metadata": {},
   "outputs": [],
   "source": [
    "#Encoding emotion values and putting them into test and train set"
   ]
  },
  {
   "cell_type": "code",
   "execution_count": 10,
   "id": "238c27a9",
   "metadata": {},
   "outputs": [],
   "source": [
    "y_train = [encoding[x] for x in y_train]\n",
    "y_test = [encoding[x] for x in y_test]"
   ]
  },
  {
   "cell_type": "code",
   "execution_count": null,
   "id": "18f67827",
   "metadata": {},
   "outputs": [],
   "source": [
    "#Data preprocessing in BERT accomplished by setting preprocess_mode. The BERT model and vocabulary will be downloaded."
   ]
  },
  {
   "cell_type": "code",
   "execution_count": 11,
   "id": "8de4385b",
   "metadata": {},
   "outputs": [
    {
     "name": "stdout",
     "output_type": "stream",
     "text": [
      "preprocessing train...\n",
      "language: en\n"
     ]
    },
    {
     "data": {
      "text/html": [
       "done."
      ],
      "text/plain": [
       "<IPython.core.display.HTML object>"
      ]
     },
     "metadata": {},
     "output_type": "display_data"
    },
    {
     "name": "stdout",
     "output_type": "stream",
     "text": [
      "Is Multi-Label? False\n",
      "preprocessing test...\n",
      "language: en\n"
     ]
    },
    {
     "data": {
      "text/html": [
       "done."
      ],
      "text/plain": [
       "<IPython.core.display.HTML object>"
      ]
     },
     "metadata": {},
     "output_type": "display_data"
    },
    {
     "name": "stdout",
     "output_type": "stream",
     "text": [
      "task: text classification\n"
     ]
    }
   ],
   "source": [
    "(x_train,  y_train), (x_test, y_test), preproc = text.texts_from_array(x_train=X_train, y_train=y_train,\n",
    "                                                                       x_test=X_test, y_test=y_test,\n",
    "                                                                       class_names=class_names,\n",
    "                                                                       preprocess_mode='bert',\n",
    "                                                                       maxlen=350, \n",
    "                                                                       max_features=35000)"
   ]
  },
  {
   "cell_type": "code",
   "execution_count": null,
   "id": "fd6bf6a3",
   "metadata": {},
   "outputs": [],
   "source": [
    "#Loading the pretrained BERT for text classification"
   ]
  },
  {
   "cell_type": "code",
   "execution_count": 12,
   "id": "e763954e",
   "metadata": {
    "scrolled": true
   },
   "outputs": [
    {
     "name": "stdout",
     "output_type": "stream",
     "text": [
      "Is Multi-Label? False\n",
      "maxlen is 350\n",
      "done.\n"
     ]
    }
   ],
   "source": [
    "model = text.text_classifier('bert', train_data=(x_train, y_train), preproc=preproc)"
   ]
  },
  {
   "cell_type": "code",
   "execution_count": null,
   "id": "c18594f1",
   "metadata": {},
   "outputs": [],
   "source": [
    "#Wrapping it in a Learner object"
   ]
  },
  {
   "cell_type": "code",
   "execution_count": 13,
   "id": "16fe060b",
   "metadata": {},
   "outputs": [],
   "source": [
    "learner = ktrain.get_learner(model, train_data=(x_train, y_train), \n",
    "                             val_data=(x_test, y_test),\n",
    "                             batch_size=6)"
   ]
  },
  {
   "cell_type": "code",
   "execution_count": null,
   "id": "f13c03cf",
   "metadata": {},
   "outputs": [],
   "source": [
    "#Training the model"
   ]
  },
  {
   "cell_type": "code",
   "execution_count": 14,
   "id": "505202ab",
   "metadata": {},
   "outputs": [
    {
     "name": "stdout",
     "output_type": "stream",
     "text": [
      "\n",
      "\n",
      "begin training using onecycle policy with max lr of 2e-05...\n",
      "Epoch 1/5\n",
      "997/997 [==============================] - 5996s 6s/step - loss: 1.5194 - accuracy: 0.4279 - val_loss: 0.9689 - val_accuracy: 0.6622\n",
      "Epoch 2/5\n",
      "997/997 [==============================] - 5886s 6s/step - loss: 0.8189 - accuracy: 0.7128 - val_loss: 0.9476 - val_accuracy: 0.6682\n",
      "Epoch 3/5\n",
      "997/997 [==============================] - 5890s 6s/step - loss: 0.5171 - accuracy: 0.8200 - val_loss: 0.9535 - val_accuracy: 0.6970\n",
      "Epoch 4/5\n",
      "997/997 [==============================] - 5891s 6s/step - loss: 0.2167 - accuracy: 0.9324 - val_loss: 1.1090 - val_accuracy: 0.7124\n",
      "Epoch 5/5\n",
      "997/997 [==============================] - 6042s 6s/step - loss: 0.0632 - accuracy: 0.9828 - val_loss: 1.1933 - val_accuracy: 0.7217\n"
     ]
    },
    {
     "data": {
      "text/plain": [
       "<tensorflow.python.keras.callbacks.History at 0x1a3bd7e0670>"
      ]
     },
     "execution_count": 14,
     "metadata": {},
     "output_type": "execute_result"
    }
   ],
   "source": [
    "learner.fit_onecycle(2e-5, 5)"
   ]
  },
  {
   "cell_type": "code",
   "execution_count": null,
   "id": "2391e0ed",
   "metadata": {},
   "outputs": [],
   "source": [
    "#Validating the model accuracy"
   ]
  },
  {
   "cell_type": "code",
   "execution_count": 15,
   "id": "1e647528",
   "metadata": {
    "scrolled": true
   },
   "outputs": [
    {
     "name": "stdout",
     "output_type": "stream",
     "text": [
      "              precision    recall  f1-score   support\n",
      "\n",
      "         joy       0.87      0.89      0.88       204\n",
      "     sadness       0.70      0.77      0.73       209\n",
      "        fear       0.76      0.78      0.77       221\n",
      "       anger       0.69      0.64      0.66       219\n",
      "     disgust       0.72      0.73      0.72       222\n",
      "       shame       0.64      0.61      0.63       215\n",
      "       guilt       0.66      0.65      0.66       205\n",
      "\n",
      "    accuracy                           0.72      1495\n",
      "   macro avg       0.72      0.72      0.72      1495\n",
      "weighted avg       0.72      0.72      0.72      1495\n",
      "\n"
     ]
    },
    {
     "data": {
      "text/plain": [
       "array([[181,   7,   4,   2,   0,   7,   3],\n",
       "       [  6, 160,   9,  11,   7,   7,   9],\n",
       "       [  7,  17, 172,   5,   7,   6,   7],\n",
       "       [  2,  17,   7, 140,  30,  13,  10],\n",
       "       [  2,  10,  13,  23, 161,  12,   1],\n",
       "       [  7,   6,  12,  10,  11, 131,  38],\n",
       "       [  2,  13,   8,  12,   8,  28, 134]], dtype=int64)"
      ]
     },
     "execution_count": 15,
     "metadata": {},
     "output_type": "execute_result"
    }
   ],
   "source": [
    "learner.validate(val_data=(x_test, y_test), class_names=class_names)"
   ]
  },
  {
   "cell_type": "code",
   "execution_count": null,
   "id": "a11858f3",
   "metadata": {},
   "outputs": [],
   "source": [
    "#testing with input"
   ]
  },
  {
   "cell_type": "code",
   "execution_count": 16,
   "id": "2c619d31",
   "metadata": {},
   "outputs": [
    {
     "data": {
      "text/plain": [
       "['joy', 'sadness', 'fear', 'anger', 'disgust', 'shame', 'guilt']"
      ]
     },
     "execution_count": 16,
     "metadata": {},
     "output_type": "execute_result"
    }
   ],
   "source": [
    "predictor = ktrain.get_predictor(learner.model, preproc)\n",
    "predictor.get_classes()"
   ]
  },
  {
   "cell_type": "code",
   "execution_count": 24,
   "id": "ecff583a",
   "metadata": {},
   "outputs": [
    {
     "name": "stdout",
     "output_type": "stream",
     "text": [
      "predicted: joy (0.33)\n"
     ]
    }
   ],
   "source": [
    "import time \n",
    "\n",
    "message = 'My teamates are helpful '\n",
    "\n",
    "start_time = time.time() \n",
    "prediction = predictor.predict(message)\n",
    "\n",
    "print('predicted: {} ({:.2f})'.format(prediction, (time.time() - start_time)))"
   ]
  },
  {
   "cell_type": "code",
   "execution_count": null,
   "id": "4f0f5d0f",
   "metadata": {},
   "outputs": [],
   "source": [
    "#saving the model for later use"
   ]
  },
  {
   "cell_type": "code",
   "execution_count": 18,
   "id": "ed51acc1",
   "metadata": {},
   "outputs": [],
   "source": [
    "predictor.save(\"models/bert_model\")"
   ]
  },
  {
   "cell_type": "code",
   "execution_count": null,
   "id": "7018f1a5",
   "metadata": {},
   "outputs": [],
   "source": []
  }
 ],
 "metadata": {
  "kernelspec": {
   "display_name": "Python 3 (ipykernel)",
   "language": "python",
   "name": "python3"
  },
  "language_info": {
   "codemirror_mode": {
    "name": "ipython",
    "version": 3
   },
   "file_extension": ".py",
   "mimetype": "text/x-python",
   "name": "python",
   "nbconvert_exporter": "python",
   "pygments_lexer": "ipython3",
   "version": "3.8.12"
  }
 },
 "nbformat": 4,
 "nbformat_minor": 5
}
