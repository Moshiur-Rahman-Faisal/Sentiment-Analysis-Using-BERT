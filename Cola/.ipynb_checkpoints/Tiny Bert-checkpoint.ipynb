{
 "cells": [
  {
   "cell_type": "code",
   "execution_count": 1,
   "id": "d32533c5",
   "metadata": {},
   "outputs": [],
   "source": [
    "import pandas as pd\n",
    "import numpy as np\n"
   ]
  },
  {
   "cell_type": "code",
   "execution_count": 2,
   "id": "68458394",
   "metadata": {},
   "outputs": [
    {
     "name": "stderr",
     "output_type": "stream",
     "text": [
      "C:\\Users\\moshi\\anaconda3\\lib\\site-packages\\IPython\\core\\interactiveshell.py:3444: FutureWarning: The error_bad_lines argument has been deprecated and will be removed in a future version.\n",
      "\n",
      "\n",
      "  exec(code_obj, self.user_global_ns, self.user_ns)\n",
      "C:\\Users\\moshi\\anaconda3\\lib\\site-packages\\IPython\\core\\interactiveshell.py:3444: FutureWarning: The warn_bad_lines argument has been deprecated and will be removed in a future version.\n",
      "\n",
      "\n",
      "  exec(code_obj, self.user_global_ns, self.user_ns)\n"
     ]
    }
   ],
   "source": [
    "df1 = pd.read_csv('data.csv',index_col=False, encoding='iso-8859-1', \n",
    "                                warn_bad_lines=True, error_bad_lines=False)\n",
    "\n",
    "df2 = pd.read_csv('data.csv',index_col=False, encoding='iso-8859-1', \n",
    "                                warn_bad_lines=True, error_bad_lines=False)\n"
   ]
  },
  {
   "cell_type": "code",
   "execution_count": 3,
   "id": "5157cd5e",
   "metadata": {},
   "outputs": [
    {
     "name": "stderr",
     "output_type": "stream",
     "text": [
      "C:\\Users\\moshi\\AppData\\Local\\Temp/ipykernel_11224/3898086040.py:1: SettingWithCopyWarning: \n",
      "A value is trying to be set on a copy of a slice from a DataFrame\n",
      "\n",
      "See the caveats in the documentation: https://pandas.pydata.org/pandas-docs/stable/user_guide/indexing.html#returning-a-view-versus-a-copy\n",
      "  df1.label[df1.label == 1]=\"acpt\"\n",
      "C:\\Users\\moshi\\AppData\\Local\\Temp/ipykernel_11224/3898086040.py:4: SettingWithCopyWarning: \n",
      "A value is trying to be set on a copy of a slice from a DataFrame\n",
      "\n",
      "See the caveats in the documentation: https://pandas.pydata.org/pandas-docs/stable/user_guide/indexing.html#returning-a-view-versus-a-copy\n",
      "  df2.label[df2.label == 1]=\"acpt\"\n"
     ]
    }
   ],
   "source": [
    "df1.label[df1.label == 1]=\"acpt\"\n",
    "df1.label[df1.label == 0]=\"unac\"\n",
    "\n",
    "df2.label[df2.label == 1]=\"acpt\"\n",
    "df2.label[df2.label == 0]=\"unac\""
   ]
  },
  {
   "cell_type": "code",
   "execution_count": 4,
   "id": "5b710247",
   "metadata": {},
   "outputs": [],
   "source": [
    "# taking acceptable and deleting unacceptable\n",
    "df3 = df1[~df1.label.str.contains('acpt')]"
   ]
  },
  {
   "cell_type": "code",
   "execution_count": 5,
   "id": "5704682f",
   "metadata": {},
   "outputs": [],
   "source": [
    "# randomly picking 250 rows\n",
    "df3 = df3.sample(n=250, replace=True)"
   ]
  },
  {
   "cell_type": "code",
   "execution_count": 6,
   "id": "75cce3cb",
   "metadata": {},
   "outputs": [
    {
     "data": {
      "text/plain": [
       "unac    250\n",
       "Name: label, dtype: int64"
      ]
     },
     "execution_count": 6,
     "metadata": {},
     "output_type": "execute_result"
    }
   ],
   "source": [
    "df3[\"label\"].value_counts()"
   ]
  },
  {
   "cell_type": "code",
   "execution_count": 7,
   "id": "6d353ff5",
   "metadata": {},
   "outputs": [],
   "source": [
    "# taking unacceptable and deleting unacceptable\n",
    "df4 = df2[~df2.label.str.contains(\"unac\")]"
   ]
  },
  {
   "cell_type": "code",
   "execution_count": 8,
   "id": "b6ca1d3b",
   "metadata": {},
   "outputs": [],
   "source": [
    "# randomly picking 250 rows\n",
    "df4 = df4.sample(n=250, replace=True)"
   ]
  },
  {
   "cell_type": "code",
   "execution_count": 9,
   "id": "8d533a8d",
   "metadata": {},
   "outputs": [
    {
     "data": {
      "text/plain": [
       "acpt    250\n",
       "Name: label, dtype: int64"
      ]
     },
     "execution_count": 9,
     "metadata": {},
     "output_type": "execute_result"
    }
   ],
   "source": [
    "df4[\"label\"].value_counts()"
   ]
  },
  {
   "cell_type": "code",
   "execution_count": 10,
   "id": "33f9d5e9",
   "metadata": {},
   "outputs": [],
   "source": [
    "#concating acceptable and unacceptable\n",
    "frames = [df3, df4]\n",
    "\n",
    "temp = pd.concat(frames)"
   ]
  },
  {
   "cell_type": "code",
   "execution_count": 11,
   "id": "b62b7951",
   "metadata": {},
   "outputs": [
    {
     "data": {
      "text/plain": [
       "unac    250\n",
       "acpt    250\n",
       "Name: label, dtype: int64"
      ]
     },
     "execution_count": 11,
     "metadata": {},
     "output_type": "execute_result"
    }
   ],
   "source": [
    "temp[\"label\"].value_counts()"
   ]
  },
  {
   "cell_type": "code",
   "execution_count": 12,
   "id": "3c2ae414",
   "metadata": {
    "scrolled": false
   },
   "outputs": [
    {
     "data": {
      "text/html": [
       "<div>\n",
       "<style scoped>\n",
       "    .dataframe tbody tr th:only-of-type {\n",
       "        vertical-align: middle;\n",
       "    }\n",
       "\n",
       "    .dataframe tbody tr th {\n",
       "        vertical-align: top;\n",
       "    }\n",
       "\n",
       "    .dataframe thead th {\n",
       "        text-align: right;\n",
       "    }\n",
       "</style>\n",
       "<table border=\"1\" class=\"dataframe\">\n",
       "  <thead>\n",
       "    <tr style=\"text-align: right;\">\n",
       "      <th></th>\n",
       "      <th>label</th>\n",
       "      <th>text</th>\n",
       "    </tr>\n",
       "  </thead>\n",
       "  <tbody>\n",
       "    <tr>\n",
       "      <th>6858</th>\n",
       "      <td>unac</td>\n",
       "      <td>It is Ireland that he is going.</td>\n",
       "    </tr>\n",
       "    <tr>\n",
       "      <th>693</th>\n",
       "      <td>unac</td>\n",
       "      <td>Immediately, John probably will clearly learn ...</td>\n",
       "    </tr>\n",
       "    <tr>\n",
       "      <th>598</th>\n",
       "      <td>unac</td>\n",
       "      <td>The kettle bubbled water up.</td>\n",
       "    </tr>\n",
       "    <tr>\n",
       "      <th>4273</th>\n",
       "      <td>unac</td>\n",
       "      <td>There tries to be warm in September.</td>\n",
       "    </tr>\n",
       "    <tr>\n",
       "      <th>1675</th>\n",
       "      <td>unac</td>\n",
       "      <td>This hat I know the boy who was wearing.</td>\n",
       "    </tr>\n",
       "  </tbody>\n",
       "</table>\n",
       "</div>"
      ],
      "text/plain": [
       "     label                                               text\n",
       "6858  unac                    It is Ireland that he is going.\n",
       "693   unac  Immediately, John probably will clearly learn ...\n",
       "598   unac                       The kettle bubbled water up.\n",
       "4273  unac               There tries to be warm in September.\n",
       "1675  unac           This hat I know the boy who was wearing."
      ]
     },
     "execution_count": 12,
     "metadata": {},
     "output_type": "execute_result"
    }
   ],
   "source": [
    "temp.head()"
   ]
  },
  {
   "cell_type": "code",
   "execution_count": 13,
   "id": "83d9ff3e",
   "metadata": {},
   "outputs": [
    {
     "data": {
      "text/html": [
       "<div>\n",
       "<style scoped>\n",
       "    .dataframe tbody tr th:only-of-type {\n",
       "        vertical-align: middle;\n",
       "    }\n",
       "\n",
       "    .dataframe tbody tr th {\n",
       "        vertical-align: top;\n",
       "    }\n",
       "\n",
       "    .dataframe thead th {\n",
       "        text-align: right;\n",
       "    }\n",
       "</style>\n",
       "<table border=\"1\" class=\"dataframe\">\n",
       "  <thead>\n",
       "    <tr style=\"text-align: right;\">\n",
       "      <th></th>\n",
       "      <th>label</th>\n",
       "      <th>text</th>\n",
       "    </tr>\n",
       "  </thead>\n",
       "  <tbody>\n",
       "    <tr>\n",
       "      <th>4525</th>\n",
       "      <td>acpt</td>\n",
       "      <td>They can't do it, can they?</td>\n",
       "    </tr>\n",
       "    <tr>\n",
       "      <th>2940</th>\n",
       "      <td>acpt</td>\n",
       "      <td>Donna fixed a sandwich.</td>\n",
       "    </tr>\n",
       "    <tr>\n",
       "      <th>1958</th>\n",
       "      <td>acpt</td>\n",
       "      <td>No writer, nor any playwright, speaks clearly.</td>\n",
       "    </tr>\n",
       "    <tr>\n",
       "      <th>3792</th>\n",
       "      <td>acpt</td>\n",
       "      <td>He failed chemistry because he can't understan...</td>\n",
       "    </tr>\n",
       "    <tr>\n",
       "      <th>8201</th>\n",
       "      <td>acpt</td>\n",
       "      <td>Many vampires have become vegetarian.</td>\n",
       "    </tr>\n",
       "  </tbody>\n",
       "</table>\n",
       "</div>"
      ],
      "text/plain": [
       "     label                                               text\n",
       "4525  acpt                        They can't do it, can they?\n",
       "2940  acpt                            Donna fixed a sandwich.\n",
       "1958  acpt     No writer, nor any playwright, speaks clearly.\n",
       "3792  acpt  He failed chemistry because he can't understan...\n",
       "8201  acpt              Many vampires have become vegetarian."
      ]
     },
     "execution_count": 13,
     "metadata": {},
     "output_type": "execute_result"
    }
   ],
   "source": [
    "temp.tail()"
   ]
  },
  {
   "cell_type": "code",
   "execution_count": 14,
   "id": "7bcb0ed6",
   "metadata": {},
   "outputs": [
    {
     "data": {
      "text/plain": [
       "unac    250\n",
       "acpt    250\n",
       "Name: label, dtype: int64"
      ]
     },
     "execution_count": 14,
     "metadata": {},
     "output_type": "execute_result"
    }
   ],
   "source": [
    "temp[\"label\"].value_counts()"
   ]
  },
  {
   "cell_type": "code",
   "execution_count": 15,
   "id": "d2f6327e",
   "metadata": {},
   "outputs": [],
   "source": [
    "text = temp['text'].values.tolist()\n",
    "emotion= temp['label'].tolist()"
   ]
  },
  {
   "cell_type": "code",
   "execution_count": 16,
   "id": "06974fef",
   "metadata": {},
   "outputs": [],
   "source": [
    "from sklearn.model_selection import train_test_split\n",
    "X_train, X_test, y_train, y_test = train_test_split(text , emotion, test_size=.2, random_state=42)"
   ]
  },
  {
   "cell_type": "code",
   "execution_count": 1,
   "id": "fe9e61fb",
   "metadata": {},
   "outputs": [],
   "source": [
    "import ktrain\n",
    "from ktrain import text\n",
    "MODEL_NAME = 'prajjwal1/bert-tiny'\n",
    "t = text.Transformer(MODEL_NAME, maxlen=500)\n"
   ]
  },
  {
   "cell_type": "code",
   "execution_count": 18,
   "id": "c269013f",
   "metadata": {},
   "outputs": [
    {
     "name": "stdout",
     "output_type": "stream",
     "text": [
      "preprocessing train...\n",
      "language: en\n",
      "train sequence lengths:\n",
      "\tmean : 8\n",
      "\t95percentile : 15\n",
      "\t99percentile : 20\n"
     ]
    },
    {
     "data": {
      "application/vnd.jupyter.widget-view+json": {
       "model_id": "6a8e6ce67783447b978e7abdce642673",
       "version_major": 2,
       "version_minor": 0
      },
      "text/plain": [
       "Downloading:   0%|          | 0.00/28.0 [00:00<?, ?B/s]"
      ]
     },
     "metadata": {},
     "output_type": "display_data"
    },
    {
     "data": {
      "application/vnd.jupyter.widget-view+json": {
       "model_id": "1a077e8b7772456ba0191ef8fe1f7b6c",
       "version_major": 2,
       "version_minor": 0
      },
      "text/plain": [
       "Downloading:   0%|          | 0.00/851k [00:00<?, ?B/s]"
      ]
     },
     "metadata": {},
     "output_type": "display_data"
    },
    {
     "data": {
      "application/vnd.jupyter.widget-view+json": {
       "model_id": "12ebe903a63e49ecb31c1fad61184d65",
       "version_major": 2,
       "version_minor": 0
      },
      "text/plain": [
       "Downloading:   0%|          | 0.00/1.64M [00:00<?, ?B/s]"
      ]
     },
     "metadata": {},
     "output_type": "display_data"
    },
    {
     "data": {
      "text/html": [],
      "text/plain": [
       "<IPython.core.display.HTML object>"
      ]
     },
     "metadata": {},
     "output_type": "display_data"
    },
    {
     "name": "stdout",
     "output_type": "stream",
     "text": [
      "Is Multi-Label? False\n",
      "preprocessing test...\n",
      "language: en\n",
      "test sequence lengths:\n",
      "\tmean : 7\n",
      "\t95percentile : 14\n",
      "\t99percentile : 16\n"
     ]
    },
    {
     "data": {
      "text/html": [],
      "text/plain": [
       "<IPython.core.display.HTML object>"
      ]
     },
     "metadata": {},
     "output_type": "display_data"
    }
   ],
   "source": [
    "trn = t.preprocess_train(X_train, y_train)\n",
    "val = t.preprocess_test(X_test, y_test)"
   ]
  },
  {
   "cell_type": "code",
   "execution_count": 19,
   "id": "69d54231",
   "metadata": {
    "scrolled": true
   },
   "outputs": [
    {
     "data": {
      "application/vnd.jupyter.widget-view+json": {
       "model_id": "a4441b0c52844ad3b6402caf63d452db",
       "version_major": 2,
       "version_minor": 0
      },
      "text/plain": [
       "Downloading:   0%|          | 0.00/953M [00:00<?, ?B/s]"
      ]
     },
     "metadata": {},
     "output_type": "display_data"
    }
   ],
   "source": [
    "model = t.get_classifier()"
   ]
  },
  {
   "cell_type": "code",
   "execution_count": 20,
   "id": "7070ffb4",
   "metadata": {},
   "outputs": [],
   "source": [
    "learner = ktrain.get_learner(model, train_data=trn, val_data=val, batch_size=6)"
   ]
  },
  {
   "cell_type": "code",
   "execution_count": 21,
   "id": "e1e76e69",
   "metadata": {
    "scrolled": true
   },
   "outputs": [
    {
     "name": "stdout",
     "output_type": "stream",
     "text": [
      "\n",
      "\n",
      "begin training using onecycle policy with max lr of 2e-05...\n",
      "Epoch 1/5\n",
      "67/67 [==============================] - 2540s 37s/step - loss: 0.6996 - accuracy: 0.4550 - val_loss: 0.6933 - val_accuracy: 0.5000\n",
      "Epoch 2/5\n",
      "67/67 [==============================] - 1810s 27s/step - loss: 0.6879 - accuracy: 0.5175 - val_loss: 0.6689 - val_accuracy: 0.5700\n",
      "Epoch 3/5\n",
      "67/67 [==============================] - 3407s 49s/step - loss: 0.6754 - accuracy: 0.6075 - val_loss: 0.6916 - val_accuracy: 0.5200\n",
      "Epoch 4/5\n",
      "67/67 [==============================] - 1067s 16s/step - loss: 0.5216 - accuracy: 0.7625 - val_loss: 0.6986 - val_accuracy: 0.6400\n",
      "Epoch 5/5\n",
      "67/67 [==============================] - 1064s 16s/step - loss: 0.2296 - accuracy: 0.9400 - val_loss: 0.8115 - val_accuracy: 0.6400\n"
     ]
    },
    {
     "data": {
      "text/plain": [
       "<keras.callbacks.History at 0x1f31b4545e0>"
      ]
     },
     "execution_count": 21,
     "metadata": {},
     "output_type": "execute_result"
    }
   ],
   "source": [
    "learner.fit_onecycle(2e-5, 5)"
   ]
  },
  {
   "cell_type": "code",
   "execution_count": 23,
   "id": "bcc966b6",
   "metadata": {},
   "outputs": [],
   "source": [
    "class_names=[\"acpt\",\"unac\"]"
   ]
  },
  {
   "cell_type": "code",
   "execution_count": 24,
   "id": "b9ccd39f",
   "metadata": {
    "scrolled": false
   },
   "outputs": [
    {
     "name": "stdout",
     "output_type": "stream",
     "text": [
      "              precision    recall  f1-score   support\n",
      "\n",
      "        acpt       0.64      0.76      0.69        54\n",
      "        unac       0.64      0.50      0.56        46\n",
      "\n",
      "    accuracy                           0.64       100\n",
      "   macro avg       0.64      0.63      0.63       100\n",
      "weighted avg       0.64      0.64      0.63       100\n",
      "\n"
     ]
    },
    {
     "data": {
      "text/plain": [
       "array([[41, 13],\n",
       "       [23, 23]], dtype=int64)"
      ]
     },
     "execution_count": 24,
     "metadata": {},
     "output_type": "execute_result"
    }
   ],
   "source": [
    "learner.validate(val_data=(val), class_names=class_names)"
   ]
  },
  {
   "cell_type": "code",
   "execution_count": null,
   "id": "0ed64993",
   "metadata": {},
   "outputs": [],
   "source": []
  },
  {
   "cell_type": "code",
   "execution_count": null,
   "id": "b3ede535",
   "metadata": {},
   "outputs": [],
   "source": []
  }
 ],
 "metadata": {
  "kernelspec": {
   "display_name": "Python 3 (ipykernel)",
   "language": "python",
   "name": "python3"
  },
  "language_info": {
   "codemirror_mode": {
    "name": "ipython",
    "version": 3
   },
   "file_extension": ".py",
   "mimetype": "text/x-python",
   "name": "python",
   "nbconvert_exporter": "python",
   "pygments_lexer": "ipython3",
   "version": "3.9.7"
  }
 },
 "nbformat": 4,
 "nbformat_minor": 5
}
