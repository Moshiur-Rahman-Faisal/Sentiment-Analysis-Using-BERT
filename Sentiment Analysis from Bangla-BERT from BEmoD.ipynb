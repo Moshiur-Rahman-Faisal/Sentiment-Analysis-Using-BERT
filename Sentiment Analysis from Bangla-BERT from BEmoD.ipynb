{
 "cells": [
  {
   "cell_type": "code",
   "execution_count": 1,
   "id": "d32533c5",
   "metadata": {},
   "outputs": [],
   "source": [
    "import pandas as pd\n",
    "import numpy as np\n"
   ]
  },
  {
   "cell_type": "code",
   "execution_count": 2,
   "id": "bba016ba",
   "metadata": {
    "scrolled": true
   },
   "outputs": [
    {
     "name": "stdout",
     "output_type": "stream",
     "text": [
      "size of training set: 4994\n",
      "size of validation set: 625\n",
      "disgust     1398\n",
      "sadness     1061\n",
      "joy         1022\n",
      "fear         783\n",
      "anger        692\n",
      "surprise     663\n",
      "Name: classes, dtype: int64\n"
     ]
    },
    {
     "data": {
      "text/html": [
       "<div>\n",
       "<style scoped>\n",
       "    .dataframe tbody tr th:only-of-type {\n",
       "        vertical-align: middle;\n",
       "    }\n",
       "\n",
       "    .dataframe tbody tr th {\n",
       "        vertical-align: top;\n",
       "    }\n",
       "\n",
       "    .dataframe thead th {\n",
       "        text-align: right;\n",
       "    }\n",
       "</style>\n",
       "<table border=\"1\" class=\"dataframe\">\n",
       "  <thead>\n",
       "    <tr style=\"text-align: right;\">\n",
       "      <th></th>\n",
       "      <th>cleaned</th>\n",
       "      <th>classes</th>\n",
       "    </tr>\n",
       "  </thead>\n",
       "  <tbody>\n",
       "    <tr>\n",
       "      <th>0</th>\n",
       "      <td>মেডিকেলে এসে ঠিক ফ্যামিলির ফটো ফ্রেম এর মতো মন...</td>\n",
       "      <td>sadness</td>\n",
       "    </tr>\n",
       "    <tr>\n",
       "      <th>1</th>\n",
       "      <td>অনেক দিন পর অন্য রকম অনুভূতি হচ্ছে  কেননা আমার...</td>\n",
       "      <td>sadness</td>\n",
       "    </tr>\n",
       "    <tr>\n",
       "      <th>2</th>\n",
       "      <td>আগে যতোটা বেশি পছন্দ করতাম দুশ্চরিত্রা মিথিলা ...</td>\n",
       "      <td>disgust</td>\n",
       "    </tr>\n",
       "    <tr>\n",
       "      <th>3</th>\n",
       "      <td>মাঝে মাঝে মনে হয় তোমাকে চাওয়াটা অনেক ভুল হয়ত ভ...</td>\n",
       "      <td>sadness</td>\n",
       "    </tr>\n",
       "    <tr>\n",
       "      <th>4</th>\n",
       "      <td>এখানে কাওকে কবর দিয়ো না তাহলে তোমাদের পরিবারের...</td>\n",
       "      <td>fear</td>\n",
       "    </tr>\n",
       "    <tr>\n",
       "      <th>5</th>\n",
       "      <td>কান্নার জল সবাই দেখে হৃদয়ের কষ্ট কেউ দেখেনা প...</td>\n",
       "      <td>sadness</td>\n",
       "    </tr>\n",
       "    <tr>\n",
       "      <th>6</th>\n",
       "      <td>নির্বাচনের সময় কস্ট করে ভোট চাইসে এর চেয়ে বেশি...</td>\n",
       "      <td>disgust</td>\n",
       "    </tr>\n",
       "    <tr>\n",
       "      <th>7</th>\n",
       "      <td>দাদা আপনার video গুলো ভালো লাগে ডকুমেন্টারি টা...</td>\n",
       "      <td>joy</td>\n",
       "    </tr>\n",
       "    <tr>\n",
       "      <th>8</th>\n",
       "      <td>বাস্তবতা এটাই কেউ সারাজীবন সুখ চেয়েও পায় নাআর ...</td>\n",
       "      <td>sadness</td>\n",
       "    </tr>\n",
       "    <tr>\n",
       "      <th>9</th>\n",
       "      <td>কিন্ত ভয় কিসের থেকে আমি জানতামনা কিন্ত আমার মন...</td>\n",
       "      <td>fear</td>\n",
       "    </tr>\n",
       "  </tbody>\n",
       "</table>\n",
       "</div>"
      ],
      "text/plain": [
       "                                             cleaned  classes\n",
       "0  মেডিকেলে এসে ঠিক ফ্যামিলির ফটো ফ্রেম এর মতো মন...  sadness\n",
       "1  অনেক দিন পর অন্য রকম অনুভূতি হচ্ছে  কেননা আমার...  sadness\n",
       "2  আগে যতোটা বেশি পছন্দ করতাম দুশ্চরিত্রা মিথিলা ...  disgust\n",
       "3  মাঝে মাঝে মনে হয় তোমাকে চাওয়াটা অনেক ভুল হয়ত ভ...  sadness\n",
       "4  এখানে কাওকে কবর দিয়ো না তাহলে তোমাদের পরিবারের...     fear\n",
       "5  কান্নার জল সবাই দেখে হৃদয়ের কষ্ট কেউ দেখেনা প...  sadness\n",
       "6  নির্বাচনের সময় কস্ট করে ভোট চাইসে এর চেয়ে বেশি...  disgust\n",
       "7  দাদা আপনার video গুলো ভালো লাগে ডকুমেন্টারি টা...      joy\n",
       "8  বাস্তবতা এটাই কেউ সারাজীবন সুখ চেয়েও পায় নাআর ...  sadness\n",
       "9  কিন্ত ভয় কিসের থেকে আমি জানতামনা কিন্ত আমার মন...     fear"
      ]
     },
     "execution_count": 2,
     "metadata": {},
     "output_type": "execute_result"
    }
   ],
   "source": [
    "data_train = pd.read_excel('C:/Users/moshi/Python Code/train.xlsx') \n",
    "data_test = pd.read_excel('C:/Users/moshi/Python Code/test.xlsx')\n",
    "\n",
    "X_train = data_train.cleaned.tolist()\n",
    "X_test = data_test.cleaned.tolist()\n",
    "\n",
    "y_train = data_train.classes.tolist()\n",
    "y_test = data_test.classes.tolist()\n",
    "\n",
    "data = data_train.append(data_test, ignore_index=True)\n",
    "\n",
    "class_names = ['joy', 'sadness','surprise','disgust','anger','fear']\n",
    "\n",
    "print('size of training set: %s' % (len(data_train['cleaned'])))\n",
    "print('size of validation set: %s' % (len(data_test['cleaned'])))\n",
    "print(data.classes.value_counts())\n",
    "\n",
    "data.head(10)"
   ]
  },
  {
   "cell_type": "code",
   "execution_count": 3,
   "id": "3c2ae414",
   "metadata": {
    "scrolled": true
   },
   "outputs": [
    {
     "data": {
      "text/html": [
       "<div>\n",
       "<style scoped>\n",
       "    .dataframe tbody tr th:only-of-type {\n",
       "        vertical-align: middle;\n",
       "    }\n",
       "\n",
       "    .dataframe tbody tr th {\n",
       "        vertical-align: top;\n",
       "    }\n",
       "\n",
       "    .dataframe thead th {\n",
       "        text-align: right;\n",
       "    }\n",
       "</style>\n",
       "<table border=\"1\" class=\"dataframe\">\n",
       "  <thead>\n",
       "    <tr style=\"text-align: right;\">\n",
       "      <th></th>\n",
       "      <th>cleaned</th>\n",
       "      <th>classes</th>\n",
       "    </tr>\n",
       "  </thead>\n",
       "  <tbody>\n",
       "    <tr>\n",
       "      <th>5609</th>\n",
       "      <td>এই রকম মাস্টারপিস একটা মুভিকেও লোকেরা নেগেটিভ ...</td>\n",
       "      <td>disgust</td>\n",
       "    </tr>\n",
       "    <tr>\n",
       "      <th>5610</th>\n",
       "      <td>স্যারের হাতের লাঠিকে একটু ভয় পেতাম কারণ স্যারে...</td>\n",
       "      <td>fear</td>\n",
       "    </tr>\n",
       "    <tr>\n",
       "      <th>5611</th>\n",
       "      <td>ভুল মানুষকে বিয়ে করে ফেললেও তার থেকে মুক্তি পা...</td>\n",
       "      <td>sadness</td>\n",
       "    </tr>\n",
       "    <tr>\n",
       "      <th>5612</th>\n",
       "      <td>এই হানে বাল না ফালাইয়া  সরকারি কাজে বাল ফালান ...</td>\n",
       "      <td>disgust</td>\n",
       "    </tr>\n",
       "    <tr>\n",
       "      <th>5613</th>\n",
       "      <td>ঘটনাটির অস্বাভাবিকতা বোঝাতে গিয়ে ব্রাজিলীয় বিজ...</td>\n",
       "      <td>fear</td>\n",
       "    </tr>\n",
       "    <tr>\n",
       "      <th>5614</th>\n",
       "      <td>প্রায় পাঁচ মাস পর পেঁয়াজ রপ্তানিতে নিষেধাজ্ঞা ...</td>\n",
       "      <td>joy</td>\n",
       "    </tr>\n",
       "    <tr>\n",
       "      <th>5615</th>\n",
       "      <td>তাহসান ভাই জাস্ট লাভ বালাম ভাই বেস্ট আউটপুট দি...</td>\n",
       "      <td>joy</td>\n",
       "    </tr>\n",
       "    <tr>\n",
       "      <th>5616</th>\n",
       "      <td>সাদা পাঞ্জাবি পরা মাথায় লম্বা টুপি একা একা যেত...</td>\n",
       "      <td>fear</td>\n",
       "    </tr>\n",
       "    <tr>\n",
       "      <th>5617</th>\n",
       "      <td>দুটি চোখের কান্নার মর্ম যদি কেউ বুঝতো দুঃখের প...</td>\n",
       "      <td>sadness</td>\n",
       "    </tr>\n",
       "    <tr>\n",
       "      <th>5618</th>\n",
       "      <td>আমার ব্রেইনে অসুখে ডিম পারছে ৩ বার অপারেশনের প...</td>\n",
       "      <td>sadness</td>\n",
       "    </tr>\n",
       "  </tbody>\n",
       "</table>\n",
       "</div>"
      ],
      "text/plain": [
       "                                                cleaned  classes\n",
       "5609  এই রকম মাস্টারপিস একটা মুভিকেও লোকেরা নেগেটিভ ...  disgust\n",
       "5610  স্যারের হাতের লাঠিকে একটু ভয় পেতাম কারণ স্যারে...     fear\n",
       "5611  ভুল মানুষকে বিয়ে করে ফেললেও তার থেকে মুক্তি পা...  sadness\n",
       "5612  এই হানে বাল না ফালাইয়া  সরকারি কাজে বাল ফালান ...  disgust\n",
       "5613  ঘটনাটির অস্বাভাবিকতা বোঝাতে গিয়ে ব্রাজিলীয় বিজ...     fear\n",
       "5614  প্রায় পাঁচ মাস পর পেঁয়াজ রপ্তানিতে নিষেধাজ্ঞা ...      joy\n",
       "5615  তাহসান ভাই জাস্ট লাভ বালাম ভাই বেস্ট আউটপুট দি...      joy\n",
       "5616  সাদা পাঞ্জাবি পরা মাথায় লম্বা টুপি একা একা যেত...     fear\n",
       "5617  দুটি চোখের কান্নার মর্ম যদি কেউ বুঝতো দুঃখের প...  sadness\n",
       "5618  আমার ব্রেইনে অসুখে ডিম পারছে ৩ বার অপারেশনের প...  sadness"
      ]
     },
     "execution_count": 3,
     "metadata": {},
     "output_type": "execute_result"
    }
   ],
   "source": [
    "data.tail(10)"
   ]
  },
  {
   "cell_type": "code",
   "execution_count": 4,
   "id": "af940788",
   "metadata": {
    "scrolled": true
   },
   "outputs": [
    {
     "data": {
      "text/plain": [
       "disgust     1398\n",
       "sadness     1061\n",
       "joy         1022\n",
       "fear         783\n",
       "anger        692\n",
       "surprise     663\n",
       "Name: classes, dtype: int64"
      ]
     },
     "execution_count": 4,
     "metadata": {},
     "output_type": "execute_result"
    }
   ],
   "source": [
    "data[\"classes\"].value_counts()"
   ]
  },
  {
   "cell_type": "code",
   "execution_count": 5,
   "id": "45929acb",
   "metadata": {},
   "outputs": [],
   "source": [
    "encoding = {\n",
    "    'joy': 0, \n",
    "    'sadness' :1,\n",
    "    'surprise':2,\n",
    "    'disgust':3,\n",
    "    'anger':4,\n",
    "    'fear':5\n",
    "}"
   ]
  },
  {
   "cell_type": "code",
   "execution_count": 6,
   "id": "fd8a487e",
   "metadata": {},
   "outputs": [],
   "source": [
    "text = data['cleaned'].values.tolist()\n",
    "sentiments = data['classes'].tolist()"
   ]
  },
  {
   "cell_type": "code",
   "execution_count": 7,
   "id": "117eb843",
   "metadata": {},
   "outputs": [],
   "source": [
    "from sklearn.model_selection import train_test_split,KFold\n",
    "X_train, X_test, y_train, y_test = train_test_split(text, sentiments, test_size=.2)"
   ]
  },
  {
   "cell_type": "code",
   "execution_count": 8,
   "id": "f0e880ae",
   "metadata": {},
   "outputs": [],
   "source": [
    "y_train = [encoding[x] for x in y_train]\n",
    "y_test = [encoding[x] for x in y_test]"
   ]
  },
  {
   "cell_type": "code",
   "execution_count": 10,
   "id": "fe9e61fb",
   "metadata": {},
   "outputs": [],
   "source": [
    "import ktrain\n",
    "from ktrain import text\n",
    "MODEL_NAME = 'sagorsarker/bangla-bert-base'\n",
    "t = text.Transformer(MODEL_NAME, maxlen=500)\n"
   ]
  },
  {
   "cell_type": "code",
   "execution_count": 51,
   "id": "c269013f",
   "metadata": {},
   "outputs": [
    {
     "name": "stdout",
     "output_type": "stream",
     "text": [
      "preprocessing train...\n",
      "language: bn\n",
      "train sequence lengths:\n",
      "\tmean : 23\n",
      "\t95percentile : 42\n",
      "\t99percentile : 58\n"
     ]
    },
    {
     "data": {
      "text/html": [],
      "text/plain": [
       "<IPython.core.display.HTML object>"
      ]
     },
     "metadata": {},
     "output_type": "display_data"
    },
    {
     "name": "stdout",
     "output_type": "stream",
     "text": [
      "Is Multi-Label? False\n",
      "preprocessing test...\n",
      "language: bn\n",
      "test sequence lengths:\n",
      "\tmean : 23\n",
      "\t95percentile : 43\n",
      "\t99percentile : 59\n"
     ]
    },
    {
     "data": {
      "text/html": [],
      "text/plain": [
       "<IPython.core.display.HTML object>"
      ]
     },
     "metadata": {},
     "output_type": "display_data"
    }
   ],
   "source": [
    "trn = t.preprocess_train(X_train, y_train)\n",
    "val = t.preprocess_test(X_test, y_test)"
   ]
  },
  {
   "cell_type": "code",
   "execution_count": 52,
   "id": "69d54231",
   "metadata": {
    "scrolled": true
   },
   "outputs": [
    {
     "data": {
      "application/vnd.jupyter.widget-view+json": {
       "model_id": "64f0b755705b4f02b0f70e20939aa69e",
       "version_major": 2,
       "version_minor": 0
      },
      "text/plain": [
       "Downloading:   0%|          | 0.00/976M [00:00<?, ?B/s]"
      ]
     },
     "metadata": {},
     "output_type": "display_data"
    }
   ],
   "source": [
    "model = t.get_classifier()"
   ]
  },
  {
   "cell_type": "code",
   "execution_count": 53,
   "id": "7070ffb4",
   "metadata": {},
   "outputs": [],
   "source": [
    "learner = ktrain.get_learner(model, train_data=trn, val_data=val, batch_size=6)"
   ]
  },
  {
   "cell_type": "code",
   "execution_count": 54,
   "id": "86e82b21",
   "metadata": {},
   "outputs": [
    {
     "name": "stdout",
     "output_type": "stream",
     "text": [
      "simulating training for different learning rates... this may take a few moments...\n",
      "749/749 [==============================] - 6855s 9s/step - loss: 88.4944 - accuracy: 0.1593\n",
      "\n",
      "\n",
      "done.\n",
      "Visually inspect loss plot and select learning rate associated with falling loss\n"
     ]
    },
    {
     "data": {
      "image/png": "[encoded data removed]",
      "text/plain": [
       "<Figure size 432x288 with 1 Axes>"
      ]
     },
     "metadata": {
      "needs_background": "light"
     },
     "output_type": "display_data"
    }
   ],
   "source": [
    "learner.lr_find(show_plot=True, max_epochs=1)"
   ]
  },
  {
   "cell_type": "code",
   "execution_count": 55,
   "id": "e1e76e69",
   "metadata": {
    "scrolled": true
   },
   "outputs": [
    {
     "name": "stdout",
     "output_type": "stream",
     "text": [
      "\n",
      "\n",
      "begin training using onecycle policy with max lr of 2e-05...\n",
      "Epoch 1/4\n",
      "750/750 [==============================] - 7046s 9s/step - loss: 3.3832 - accuracy: 0.2536 - val_loss: 1.6758 - val_accuracy: 0.4012\n",
      "Epoch 2/4\n",
      "750/750 [==============================] - 7057s 9s/step - loss: 1.3388 - accuracy: 0.5246 - val_loss: 1.1764 - val_accuracy: 0.5685\n",
      "Epoch 3/4\n",
      "750/750 [==============================] - 7071s 9s/step - loss: 0.8366 - accuracy: 0.7017 - val_loss: 1.0741 - val_accuracy: 0.6165\n",
      "Epoch 4/4\n",
      "750/750 [==============================] - 7068s 9s/step - loss: 0.4159 - accuracy: 0.8621 - val_loss: 1.1859 - val_accuracy: 0.6219\n"
     ]
    },
    {
     "data": {
      "text/plain": [
       "<tensorflow.python.keras.callbacks.History at 0x26b143c5040>"
      ]
     },
     "execution_count": 55,
     "metadata": {},
     "output_type": "execute_result"
    }
   ],
   "source": [
    "learner.fit_onecycle(2e-5, 4)"
   ]
  },
  {
   "cell_type": "code",
   "execution_count": 56,
   "id": "b9ccd39f",
   "metadata": {
    "scrolled": false
   },
   "outputs": [
    {
     "name": "stdout",
     "output_type": "stream",
     "text": [
      "              precision    recall  f1-score   support\n",
      "\n",
      "         joy       0.65      0.67      0.66       199\n",
      "     sadness       0.61      0.59      0.60       229\n",
      "    surprise       0.54      0.56      0.55       135\n",
      "     disgust       0.65      0.69      0.67       275\n",
      "       anger       0.48      0.45      0.47       134\n",
      "        fear       0.75      0.70      0.73       152\n",
      "\n",
      "    accuracy                           0.62      1124\n",
      "   macro avg       0.61      0.61      0.61      1124\n",
      "weighted avg       0.62      0.62      0.62      1124\n",
      "\n"
     ]
    },
    {
     "data": {
      "text/plain": [
       "array([[134,  20,  20,  14,   9,   2],\n",
       "       [ 24, 134,  11,  24,  21,  15],\n",
       "       [ 20,  15,  75,  11,   2,  12],\n",
       "       [ 18,  25,  15, 189,  23,   5],\n",
       "       [  8,   9,   4,  51,  60,   2],\n",
       "       [  2,  17,  15,   2,   9, 107]], dtype=int64)"
      ]
     },
     "execution_count": 56,
     "metadata": {},
     "output_type": "execute_result"
    }
   ],
   "source": [
    "learner.validate(val_data=(val), class_names=class_names)"
   ]
  },
  {
   "cell_type": "code",
   "execution_count": null,
   "id": "0ed64993",
   "metadata": {},
   "outputs": [],
   "source": []
  }
 ],
 "metadata": {
  "kernelspec": {
   "display_name": "Python 3 (ipykernel)",
   "language": "python",
   "name": "python3"
  },
  "language_info": {
   "codemirror_mode": {
    "name": "ipython",
    "version": 3
   },
   "file_extension": ".py",
   "mimetype": "text/x-python",
   "name": "python",
   "nbconvert_exporter": "python",
   "pygments_lexer": "ipython3",
   "version": "3.8.12"
  }
 },
 "nbformat": 4,
 "nbformat_minor": 5
}
